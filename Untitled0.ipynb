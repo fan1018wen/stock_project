{
 "metadata": {
  "name": ""
 },
 "nbformat": 3,
 "nbformat_minor": 0,
 "worksheets": [
  {
   "cells": [
    {
     "cell_type": "code",
     "collapsed": false,
     "input": [
      "import readability"
     ],
     "language": "python",
     "metadata": {},
     "outputs": [],
     "prompt_number": 1
    },
    {
     "cell_type": "code",
     "collapsed": false,
     "input": [
      "import yaha"
     ],
     "language": "python",
     "metadata": {},
     "outputs": [],
     "prompt_number": 2
    },
    {
     "cell_type": "code",
     "collapsed": false,
     "input": [
      "from pymongo import Connection\n"
     ],
     "language": "python",
     "metadata": {},
     "outputs": [],
     "prompt_number": 32
    },
    {
     "cell_type": "code",
     "collapsed": false,
     "input": [
      "s=Article.find_one()"
     ],
     "language": "python",
     "metadata": {},
     "outputs": [],
     "prompt_number": 4
    },
    {
     "cell_type": "code",
     "collapsed": false,
     "input": [
      "body = s['body']"
     ],
     "language": "python",
     "metadata": {},
     "outputs": [],
     "prompt_number": 7
    },
    {
     "cell_type": "code",
     "collapsed": false,
     "input": [
      "\n",
      "def pr(t):\n",
      "    print json.dumps(t, ensure_ascii=False,indent=2)\n"
     ],
     "language": "python",
     "metadata": {},
     "outputs": [],
     "prompt_number": 39
    },
    {
     "cell_type": "code",
     "collapsed": false,
     "input": [
      "\n",
      "class article:\n",
      "    def __init__(self):\n",
      "        self.Article = Connection().stock.Article\n",
      "    def GET(self):\n",
      "        # import ipdb;ipdb.set_trace()\n",
      "        data = self.Article.find({},{\"title\":1,\"datetime\":1,\"url\":1,\"keyword\":1,\"datetime\":1,\"summary\":1}).limit(10)\n",
      "        data = [i for i in data]\n",
      "        j=[]\n",
      "        for i in data:\n",
      "            i['_id']=str(i['_id'])\n",
      "            i['datetime']=str(i['datetime'])\n",
      "            j.append(i)\n",
      "        #pr(j)\n",
      "        j = json.dumps(j,ensure_ascii=False)\n",
      "        return j\n",
      "print article().GET()"
     ],
     "language": "python",
     "metadata": {},
     "outputs": [
      {
       "output_type": "stream",
       "stream": "stdout",
       "text": [
        "[{\"keyword\": [\"\u94f6\u884c\", \"\u94f6\u884c\u4e1a\", \"\u6cd5\u6848\", \"HYPO\", \"\u6b27\u76df\", \"\u7eb3\u7a0e\u4eba\", \"\u6551\u52a9\", \"\u6b27\u5143\", \"\u6b27\u6d32\u8bae\u4f1a\", \"\u6b27\u6d32\", \"\u6b27\u5143\u533a\", \"\u7834\u4ea7\", \"\u6fd2\u4e34\u7834\u4ea7\", \"\u50a8\u6237\", \"\u5965\u5730\u5229\", \"\u5355\u4e00\", \"\u4e0d\u826f\u8d44\u4ea7\", \"\u8054\u76df\", \"\u574f\u8d26\", \"\u4e70\u5355\"], \"title\": \"\u201c\u6b27\u6d32\u94f6\u76d1\u4f1a\u201d\u83b7\u6279 \u96b6\u5c5e\u4e8e\u6b27\u592e\u884c\", \"url\": \"http://stock.eastmoney.com/news/1438,20140417377187644.html\", \"summary\": \"\u4f34\u968f\u6b27\u6d32\u91d1\u878d\u6539\u9769\u4e0d\u65ad\u63a8\u8fdb, \u6b27\u6d32\u94f6\u884c\u4e1a\u8054\u76df\u96cf\u5f62\u521d\u5177, \u94f6\u884c\u4e1a\u5355\u4e00\u89e3\u51b3\u673a\u5236\u6cd5\u6848\u89c4\u5b9a, \u5355\u4e00\u89e3\u51b3\u673a\u5236\u6cd5\u6848\u8fd8\u5305\u542b\u65b0\u6210\u7acb\u4e00\u4e2a\u76d1\u7ba1\u6b27\u5143\u533a\u94f6\u884c\u7684\u804c\u80fd\u673a\u6784, \u76d1\u7763\u6b27\u5143\u533a\u7834\u4ea7\u94f6\u884c\u7684\u6e05\u7b97, \u3000\u3000\u6709\u90e8\u5206\u8bae\u5458\u4e5f\u6307\u51fa\u6b27\u76df\u65b9\u9762\u7684\u8fd9\u9879\u6539\u9769\u65b9\u6848\u4f9d\u7136\u5b58\u5728\u5f88\u591a\u4e0d\u8db3, \u6b27\u6d32\u8bae\u4f1a\u8bae\u5458\u83f2\u5229\u666e\u00b7\u5170\u4f2f\u7279, \u8d23\u4efb\u7f16\u8f91.\", \"datetime\": \"2014-04-17 02:16:00\", \"_id\": \"537613a67f949f18042cb731\"}, {\"keyword\": [\"\u6b27\u732a\", \"\u5fb7\u62c9\u5409\", \"\u6b27\u6d32\", \"\u897f\u73ed\u7259\", \"\u6b27\u6d32\u592e\u884c\", \"10\", \"\u6b27\u5143\u533a\", \"\u80a1\u5e02\", \"\u5e74\u671f\", \"\u56fd\u5bb6\", \"\u8d44\u91d1\", \"\u5e02\u51c0\u7387\", \"\u56fd\u503a\", \"\u7ecf\u6d4e\", \"\u884c\u957f\", \"\u6b27\u5143\", \"\u91d1\u878d\u5e02\u573a\", \"\u5e02\u573a\", \"\u6295\u8d44\", \"\u529f\u4e0d\u53ef\u6ca1\"], \"title\": \"\u5fb7\u62c9\u5409\u5439\u5bbd\u677e\u98ce \u8d44\u91d1\u6d8c\u5165\u6b27\u6d32\u5e02\u573a\u6284\u5e95\", \"url\": \"http://stock.eastmoney.com/news/1438,20140418377595821.html\", \"summary\": \"\u745e\u58eb\u5b9d\u76db\u94f6\u884c\u7b56\u7565\u7814\u7a76\u90e8\u8d1f\u8d23\u4eba\u514b\u91cc\u65af\u6258\u5f17\u66f4\u8868\u793a, \u53e6\u636e\u8d44\u91d1\u76d1\u63a7\u673a\u6784, \u4eca\u5e74\u4ee5\u6765\u6b27\u6d32\u80a1\u5e02\u8d44\u91d1\u6d41\u5165\u89c4\u6a21\u8d85\u8fc7, \u6b27\u5143\u533a\u6574\u4f53\u7ecf\u6d4e\u589e\u901f\u4e5f\u6709\u671b\u8fbe\u5230, \u5fb7\u62c9\u5409\u66f4\u76f4\u63a5\u5bf9\u6b27\u5143\u6c47\u7387\u53d1\u8868\u8bc4\u8bba, \u6b64\u524d\u534e\u4eba\u9996\u5bcc\u674e\u5609\u8bda\u5bb6\u65cf\u5c31\u5728\u897f\u8fdb\u6b27\u6d32\u7684\u9053\u8def\u4e0a\u72c2\u5954, \u4e2d\u56fd\u6295\u8d44\u670d\u52a1\u8463\u4e8b\u603b\u7ecf\u7406\u7fc1\u7433\u8868\u793a, \u8d23\u4efb\u7f16\u8f91.\", \"datetime\": \"2014-04-18 06:45:00\", \"_id\": \"537613a77f949f18042cb733\"}, {\"keyword\": [\"\u4fc4\u7f57\u65af\", \"\u4e4c\u514b\u5170\", \"\u666e\u4eac\", \"\u897f\u65b9\", \"\u7f13\u5175\u4e4b\u8ba1\", \"\u56db\u65b9\", \"\u91ce\u5fc3\", \"\u5171\u8bc6\", \"\u5206\u6b67\", \"\u892a\u53bb\", \"\u5916\u4ea4\u5b98\", \"\u4e1c\u90e8\", \"\u4e34\u65f6\u653f\u5e9c\", \"\u5236\u88c1\", \"\u4f1a\u8c08\", \"\u59a5\u534f\", \"\u56fd\u571f\", \"\u5bf9\u6297\", \"\u4e25\u5389\", \"\u5f88\u591a\"], \"title\": \"\u4e13\u5bb6\uff1a\u4f1a\u8c08\u53ea\u662f\u666e\u4eac\u7f13\u5175\u4e4b\u8ba1 \u4fc4\u7f57\u65af\u91ce\u5fc3\u672a\u9000\", \"url\": \"http://stock.eastmoney.com/news/1438,20140422378358290.html\", \"summary\": \"\u4fc4\u7f57\u65af\u5bf9\u5408\u5e76\u66f4\u591a\u4e4c\u514b\u5170\u56fd\u571f\u7684\u91ce\u5fc3\u5e76\u6ca1\u6709\u892a\u53bb, \u5916\u6c47\u884c\u60c5\u4e2d\u5fc3, \u4e00\u81f4\u540c\u610f\u547c\u5401\u548c\u5e73\u89e3\u9664\u4e4c\u514b\u5170\u4e1c\u90e8\u72ec\u7acb\u4e3b\u4e49\u4eba\u58eb\u6b66\u88c5, \u897f\u65b9\u548c\u4fc4\u7f57\u65af\u7ee7\u7eed\u76f8\u4e92\u6307\u8d23\u5171\u8bc6\u65e0\u6cd5\u6709\u6548\u6267\u884c\u662f\u5bf9\u65b9\u7684\u8d23\u4efb, \u4fc4\u7f57\u65af\u5bf9\u5408\u5e76\u66f4\u591a\u4e4c\u514b\u5170\u56fd\u571f\u7684\u91ce\u5fc3\u5e76\u6ca1\u6709\u892a\u53bb, \u800c\u666e\u4eac\u7684\u603b\u7edf\u4efb\u671f\u8fd8\u6709, \u5f88\u591a\u56fd\u5bb6\u5219\u575a\u51b3\u62b5\u6297\u4ee3\u4ef7\u9ad8\u6602\u7684\u5bf9\u6297, \u8d23\u4efb\u7f16\u8f91.\", \"datetime\": \"2014-04-22 00:03:00\", \"_id\": \"537613ad7f949f18042cb76c\"}, {\"keyword\": [\"\u6b27\u6d32\", \"\u6295\u8d44\u8005\", \"\u80a1\u7968\", \"\u6536\u76ca\u7387\", \"\u5371\u673a\", \"\u6b27\u5143\u533a\", \"beta\", \"\u503a\u5238\", \"\u6b27\u5143\", \"\u590d\u82cf\", \"\u98ce\u9669\", \"\u6b63\u5728\", \"\u6781\u5bcc\", \"\u53d1\u503a\", \"\u5df2\u7136\", \"\u4f01\u4e1a\", \"\u6295\u8d44\", \"\u504f\u597d\", \"\u8870\u9000\", \"\u65f6\u671f\"], \"title\": \"\u673a\u4f1a\u6765\u4e86\uff01\u6b27\u6d32\u590d\u82cf\u4e2d\u7684\u4e24\u4e2a\u6295\u8d44\u673a\u4f1a\", \"url\": \"http://stock.eastmoney.com/news/1438,20140423379296724.html\", \"summary\": \"\u7ecf\u6d4e\u4fe1\u5fc3\u6307\u6570\u4e5f\u5904\u4e8e\u5e73\u5747\u6c34\u5e73\u4ee5\u4e0a, \u3000\u3000\u6b27\u6d32\u4f01\u4e1a\u7684\u5883\u51b5\u4e5f\u6bd4\u5371\u673a\u671f\u95f4\u597d\u5f97\u591a, \u6b27\u6d32\u4f01\u4e1a\u7684\u8d44\u4ea7\u8d1f\u503a\u8868\u4e0a\u6709, \u6b27\u6d32\u4f01\u4e1a\u7684\u80a1\u672c\u8d1f\u503a\u7387\u4ece, \u8fd9\u5bf9\u6b27\u5143\u533a\u9ad8\u6536\u76ca\u7387\u503a\u5238\u7684\u6295\u8d44\u8005\u662f\u4e2a\u597d\u6d88\u606f, \u9ad8\u6536\u76ca\u7387\u6b27\u5143\u503a\u5238\u5e02\u573a\u6b63\u5728\u9010\u6e10\u53d1\u5c55\u8d77\u6765, \u5e76\u4e14\u7531\u4e8e\u6b27\u6d32\u516c\u53f8\u5f00\u59cb\u7531\u94f6\u884c\u878d\u8d44\u8f6c\u5411\u53d1\u503a, \u8d23\u4efb\u7f16\u8f91.\", \"datetime\": \"2014-04-23 23:29:00\", \"_id\": \"537613b47f949f18042cb785\"}, {\"keyword\": [\"BIS\", \"2013\", \"\u6307\u6570\", \"\u6c47\u7387\", \"\u6709\u6548\", \"2010\", \"\u4eba\u6c11\u5e01\", \"\u7f51\u7ad9\", \"\u6570\u636e\", \"\u4e0b\u8dcc\", \"\u6743\u91cd\", \"\u663e\u793a\", \"\u540d\u4e49\", \"\u6700\u4f4e\", \"REER\", \"NEER\", \"FX168\", \"DF132\", \"7.9\", \"7.2\"], \"title\": \"\u56fd\u9645\u6e05\u7b97\u94f6\u884c\uff1a4\u6708\u4eba\u6c11\u5e01\u5b9e\u9645\u6c47\u7387\u89e6\u53ca13\u4e2a\u6708\u4f4e\u4f4d\", \"url\": \"http://stock.eastmoney.com/news/1406,20140516385037353.html\", \"summary\": \"\u6708\u4eba\u6c11\u5e01\u5b9e\u9645\u6709\u6548\u6c47\u7387\u6307\u6570, \u6708\u4efd\u540d\u4e49\u6709\u6548\u6c47\u7387\u6307\u6570, \u8be5\u884c\u6709\u6548\u6c47\u7387\u6307\u6570\u6240\u4f7f\u7528\u8d38\u6613\u6743\u91cd\u57fa\u4e8e, \u5e74\u7684\u8d38\u6613\u6570\u636e, \u6307\u6570\u57fa\u671f\u4e3a, \u5728\u4eba\u6c11\u5e01\u6307\u6570\u7684\u6743\u91cd\u4e2d, \u5e74\u5168\u5e74\u4eba\u6c11\u5e01\u5b9e\u9645\u6709\u6548\u6c47\u7387\u548c\u540d\u4e49\u6709\u6548\u6c47\u7387\u5206\u522b\u5347\u503c, \u8d23\u4efb\u7f16\u8f91.\", \"datetime\": \"2014-05-16 14:22:00\", \"_id\": \"537615a47f949f18042cc389\"}, {\"keyword\": [\"\u4ea4\u6613\u65e5\", \"\u6700\u540e\", \"\u4ea4\u5272\", \"\u5408\u7ea6\", \"\u4f1a\u5458\u5355\u4f4d\", \"\u7ed3\u7b97\u4ef7\", \"\u98ce\u9669\", \"IF1405\", \"DF132\", \"300\", \"2014\", \"20\", \"16\", \"\u8d23\u4efb\u7f16\u8f91\", \"\u671f\u8d27\", \"\u4ea4\u5272\u65e5\", \"\u7279\u6b64\u901a\u77e5\", \"\u7b97\u672f\u5e73\u5747\", \"\u5c0f\u6570\u70b9\", \"\u4e5d\u65e5\"], \"title\": \"\u5173\u4e8e\u63d0\u793a\u6caa\u6df1300\u80a1\u6307\u671f\u8d27IF1405\u5408\u7ea6\u4ea4\u5272\u76f8\u5173\u4e8b\u9879\u7684\u901a\u77e5\", \"url\": \"http://stock.eastmoney.com/news/1406,20140516385026614.html\", \"summary\": \"\\t\\t\u3000\u3000\u5404\u4f1a\u5458\u5355\u4f4d, \u3000\u3000\u6839\u636e\u6211\u6240\u4ea4\u6613\u89c4\u5219\u53ca\u5176\u76f8\u5173\u5b9e\u65bd\u7ec6\u5219\u89c4\u5b9a, \u80a1\u6307\u671f\u8d27\u5408\u7ea6\u7684\u6700\u540e\u4ea4\u6613\u65e5\u4e3a\u5408\u7ea6\u5230\u671f\u6708\u4efd\u7684\u7b2c\u4e09\u4e2a\u5468\u4e94, \u4ea4\u5272\u7ed3\u7b97\u4ef7\u4e3a\u6700\u540e\u4ea4\u6613\u65e5\u6807\u7684\u6307\u6570\u6700\u540e, \u5c0f\u65f6\u7684\u7b97\u672f\u5e73\u5747\u4ef7, \u3000\u3000\u8bf7\u5404\u4f1a\u5458\u5355\u4f4d\u52a0\u5f3a\u98ce\u9669\u63a7\u5236, \u3000\u3000\u4e2d\u56fd\u91d1\u878d\u671f\u8d27\u4ea4\u6613\u6240\u3000\u3000\u4e8c\u3007\u4e00\u56db\u5e74\u4e94\u6708\u4e5d\u65e5\\t\\t, \u8d23\u4efb\u7f16\u8f91.\", \"datetime\": \"2014-05-16 13:39:00\", \"_id\": \"537615ab7f949f18042cc3c3\"}, {\"keyword\": [\"\u6fb3\u8bc1\", \"\u6807\u666e\", \"DF120\", \"5403.3\", \"200\", \"0.26\", \"\u8d23\u4efb\u7f16\u8f91\", \"\u6536\u5e02\", \"\u6da8\u52bf\", \"\u5468\u4e09\", \"\u77ff\u4e1a\", \"\u5c0f\u5e45\", \"\u6fb3\u5927\u5229\u4e9a\", \"\u652f\u6491\", \"\u56de\u5347\", \"\u5927\u76d8\", \"\u6307\u6570\", \"\u4e0a\u6da8\"], \"title\": \"\u6fb3\u6d32\u80a1\u6307\u6536\u6da80.26% \u53d7\u77ff\u4e1a\u80a1\u6da8\u52bf\u652f\u6491\", \"url\": \"http://stock.eastmoney.com/news/1439,20140402373561971.html\", \"summary\": \"\\t\\t\u3000\u3000\u6fb3\u5927\u5229\u4e9a\u6807\u666e\u6fb3\u8bc1, \u6307\u6570\u5468\u4e09\u56de\u5347, \u6536\u5e02\u5c0f\u5e45\u4e0a\u6da8, \u77ff\u4e1a\u80a1\u6da8\u52bf\u652f\u6491\u5927\u76d8, \u8d23\u4efb\u7f16\u8f91.\", \"datetime\": \"2014-04-02 15:31:00\", \"_id\": \"5376157a7f949f18042cc22a\"}, {\"keyword\": [\"See\", \"\u5df4\u83f2\u7279\", \"\u7cd6\u679c\", \"\u8292\u683c\", \"\u54c8\u6492\u97e6\", \"\u53ef\u53e3\u53ef\u4e50\", \"\u67e5\u7406\", \"\u5e0c\u5c14\", \"\u4e1a\u52a1\", \"\u975e\u5e38\", \"\u80a1\u4e1c\u5927\u4f1a\", \"\u57fa\u672c\u4e0a\", \"\u8d21\u732e\", \"\u54c1\u724c\", \"\u5bf9\u4f2f\u514b\", \"Munger\", \"DF064\", \"Charlie\", \"21\", \"\u8d23\u4efb\u7f16\u8f91\"], \"title\": \"\u5df4\u83f2\u7279\u8c08\u65d7\u4e0bSee\u7cd6\u679c\u516c\u53f8\u7684\u589e\u957f\u505c\u6ede\u95ee\u9898\", \"url\": \"http://stock.eastmoney.com/news/1436,20140504381457246.html\", \"summary\": \"\\t\\t\u3000\u3000\u4e00\u5e74\u4e00\u5ea6\u7684\u5df4\u83f2\u7279\u80a1\u4e1c\u5927\u4f1a\u5728\u5317\u4eac\u65f6\u95f4, \u4e1c\u65b9\u8d22\u5bcc\u7f51\u5168\u7a0b\u56fe\u6587\u76f4\u64ad\u5df4\u83f2\u7279\u80a1\u4e1c\u5927\u4f1a, \u4e3a\u4ec0\u4e48\u516c\u53f8\u65d7\u4e0b\u7684, \u76d2\u88c5\u5de7\u514b\u529b\u4e1a\u52a1\u57fa\u672c\u4e0a\u6ca1\u6709\u589e\u957f, \u5728\u6269\u5927\u5e02\u573a\u89c4\u6a21\u65b9\u9762, \u5b83\u8ba9\u6211\u660e\u767d\u4e86\u54c1\u724c\u7684\u529b\u91cf, \u7cd6\u679c\u4e0a\u5b66\u5230\u7684\u4e1c\u897f, \u8d23\u4efb\u7f16\u8f91.\", \"datetime\": \"2014-05-04 04:47:00\", \"_id\": \"537613e27f949f18042cb8a0\"}, {\"keyword\": [\"\u5f00\u76d8\", \"DF120\", \"225\", \"14289.82\", \"0.97\", \"0.13\", \"\u8d23\u4efb\u7f16\u8f91\", \"\u9996\u5c14\", \"\u7efc\u6307\", \"\u65e5\u7ecf\", \"\u4e9a\u592a\", \"\u97e9\u56fd\", \"\u5468\u4e00\", \"\u591a\u6570\", \"\u4e0b\u8dcc\", \"\u80a1\u5e02\", \"\u6307\u6570\", \"\u5176\u4e2d\"], \"title\": \"\u4e9a\u592a\u80a1\u5e02\u5468\u4e00\u591a\u6570\u4f4e\u5f00 \u65e5\u80a1\u5f00\u76d8\u8dcc0.97%\", \"url\": \"http://stock.eastmoney.com/news/1439,20140428380265829.html\", \"summary\": \"\\t\\t\u3000\u3000\u4e9a\u592a\u80a1\u5e02\u5468\u4e00\u5f00\u76d8\u591a\u6570\u4e0b\u8dcc, \u6307\u6570\u5f00\u76d8\u62a5, \u97e9\u56fd\u9996\u5c14\u7efc\u6307\u5f00\u76d8\u8dcc, \u8d23\u4efb\u7f16\u8f91.\", \"datetime\": \"2014-04-28 08:58:00\", \"_id\": \"5376155a7f949f18042cc144\"}, {\"keyword\": [\"\u6307\u6570\", \"\u4e0a\u6da8\", \"0.3\", \"0.2\", \"\u6b27\u6d32\u592e\u884c\", \"\u6b27\u6d32\", \"\u5fb7\u62c9\u5409\", \"\u56db\u5468\", \"\u9ad8\u5f00\", \"\u6cdb\u6b27\", \"\u5bcc\u65f6\", \"Vitor\", \"Stoxx\", \"MSCI\", \"DF078\", \"DAX\", \"Constancio\", \"CAC\", \"9613.05\", \"6842.51\"], \"title\": \"\u6b27\u6d32\u80a1\u5e02\u5468\u4e00\u9ad8\u5f00 \u82f1\u56fd\u5bcc\u65f6100\u6307\u6570\u4e0a\u6da80.4%\", \"url\": \"http://stock.eastmoney.com/news/1438,20140512383622130.html\", \"summary\": \"\u65e5\u4e0b\u5348\u6d88\u606f\u6b27\u6d32\u80a1\u5e02\u5728\u8fde\u6da8\u56db\u5468\u540e\u5468\u4e00\u9ad8\u5f00, \u6307\u6570\u671f\u8d27\u4e0a\u6da8, \u4e9a\u592a\u6307\u6570\u4e0a\u6da8, \u3000\u3000\u6b27\u6d32\u80a1\u5e02\u6b64\u524d\u5df2\u8fde\u7eed\u4e0a\u6da8\u56db\u5468, \u6b27\u6d32\u592e\u884c\u884c\u957f\u5fb7\u62c9\u5409\u8868\u793a, \u6b27\u6d32\u592e\u884c\u5df2\u51c6\u5907\u91c7\u53d6\u63aa\u65bd\u6765\u62b5\u6d88\u4e0a\u5e02\u516c\u53f8\u4e1a\u7ee9\u4ee4\u4eba\u5931\u671b\u7684\u4e0d\u5229\u5f71\u54cd, \u4e0e\u5176\u5b83\u5b98\u5458\u5c06\u4e8e\u4eca\u65e5\u5728\u7ef4\u4e5f\u7eb3\u53d1\u8868\u6709\u5173\u6b27\u6d32\u94f6\u884c\u8054\u76df\u7684\u8bb2\u8bdd, \u8d23\u4efb\u7f16\u8f91.\", \"datetime\": \"2014-05-12 16:24:00\", \"_id\": \"5376137e7f949f18042cb66d\"}]\n"
       ]
      }
     ],
     "prompt_number": 52
    },
    {
     "cell_type": "code",
     "collapsed": false,
     "input": [],
     "language": "python",
     "metadata": {},
     "outputs": []
    }
   ],
   "metadata": {}
  }
 ]
}