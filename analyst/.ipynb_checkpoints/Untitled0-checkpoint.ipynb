{
 "metadata": {
  "name": ""
 },
 "nbformat": 3,
 "nbformat_minor": 0,
 "worksheets": [
  {
   "cells": [
    {
     "cell_type": "code",
     "collapsed": false,
     "input": [
      "import pymongo"
     ],
     "language": "python",
     "metadata": {},
     "outputs": [],
     "prompt_number": 2
    },
    {
     "cell_type": "code",
     "collapsed": false,
     "input": [
      "Article = pymongo.Connection().stock.Article"
     ],
     "language": "python",
     "metadata": {},
     "outputs": [],
     "prompt_number": 3
    },
    {
     "cell_type": "code",
     "collapsed": false,
     "input": [
      "import simhash "
     ],
     "language": "python",
     "metadata": {},
     "outputs": [],
     "prompt_number": 5
    },
    {
     "cell_type": "code",
     "collapsed": false,
     "input": [
      "c=simhash.Simhash(s)"
     ],
     "language": "python",
     "metadata": {},
     "outputs": [],
     "prompt_number": 11
    },
    {
     "cell_type": "code",
     "collapsed": false,
     "input": [
      "s=Article.find()"
     ],
     "language": "python",
     "metadata": {},
     "outputs": [],
     "prompt_number": 21
    },
    {
     "cell_type": "code",
     "collapsed": false,
     "input": [
      "for i in Article.find().sort(\"title\").limit(30):\n",
      "    print i['title'],\n",
      "    print simhash.Simhash(i['body']).value"
     ],
     "language": "python",
     "metadata": {},
     "outputs": [
      {
       "output_type": "stream",
       "stream": "stdout",
       "text": [
        "(05/15)\u665a\u95f4\u6caa\u6df1\u4e0a\u5e02\u516c\u53f8\u91cd\u5927\u4e8b\u9879\u516c\u544a\u6700\u65b0\u5feb\u9012 "
       ]
      },
      {
       "output_type": "stream",
       "stream": "stdout",
       "text": [
        "15829868879757430256\n",
        "(05/15)\u665a\u95f4\u6caa\u6df1\u4e0a\u5e02\u516c\u53f8\u91cd\u5927\u4e8b\u9879\u516c\u544a\u6700\u65b0\u5feb\u9012 "
       ]
      },
      {
       "output_type": "stream",
       "stream": "stdout",
       "text": [
        "15829868879757430256\n",
        "(05/16)\u4e0b\u5468\u6caa\u6df1\u4e0a\u5e02\u516c\u53f8\u91cd\u5927\u4e8b\u9879\u516c\u544a\u6700\u65b0\u5feb\u9012 "
       ]
      },
      {
       "output_type": "stream",
       "stream": "stdout",
       "text": [
        "14460770280621203384\n",
        "(5/15)\u5341\u5927\u535a\u6587\u7cbe\u7cb9\uff1a\u4e09\u8fde\u9634\u540e\u5c06\u5982\u4f55\u6f14\u53d8\uff1f "
       ]
      },
      {
       "output_type": "stream",
       "stream": "stdout",
       "text": [
        "10217236815986031952\n",
        "*ST\u5efa\u6469B\u5411\u6df1\u4ea4\u6240\u7533\u8bf7\u64a4\u9500\u9000\u5e02\u98ce\u9669\u8b66\u793a 9972106333568207220\n",
        "*ST\u6c11\u548c\u7b7e\u6218\u7565\u5408\u4f5c\u534f\u8bae \u63a8\u5e7f\u65b0\u4ea7\u54c1\u201c\u65b0\u58ee\u6001\u201d 2931456892348245948\n",
        "121\u5bb6\u516c\u53f8\u5373\u5c06\u5206\u7ea2 \u903e1.3\u4ebf\u5143\u8ffd\u636722\u53ea\u9ad8\u9001\u8f6c\u80a1 "
       ]
      },
      {
       "output_type": "stream",
       "stream": "stdout",
       "text": [
        "14676943045555083760\n",
        "121\u5bb6\u516c\u53f8\u5c06\u5206\u7ea2 \u4ebf\u5143\u5927\u5355\u8ffd\u636722\u53ea\u9ad8\u9001\u8f6c\u80a1 "
       ]
      },
      {
       "output_type": "stream",
       "stream": "stdout",
       "text": [
        "14676943045555085296\n",
        "144\u4ebf\u8d44\u91d1\u51c0\u6d41\u51fa "
       ]
      },
      {
       "output_type": "stream",
       "stream": "stdout",
       "text": [
        "14604885452588801844\n",
        "144\u4ebf\u8d44\u91d1\u51c0\u6d41\u51fa "
       ]
      },
      {
       "output_type": "stream",
       "stream": "stdout",
       "text": [
        "14604885452588801844\n",
        "144\u4ebf\u8d44\u91d1\u51c0\u6d41\u51fa "
       ]
      },
      {
       "output_type": "stream",
       "stream": "stdout",
       "text": [
        "14604885452588801844\n",
        "15\u65e5\u4eba\u6c11\u5e01\u5373\u671f\u6c47\u7387\u5f00\u76d8\u62a56.2247 \u534742\u4e2a\u57fa\u70b9 11600690729924004628\n",
        "15\u65e5\u6700\u5177\u7206\u53d1\u529b\u516d\u5927\u725b\u80a1(\u540d\u5355) "
       ]
      },
      {
       "output_type": "stream",
       "stream": "stdout",
       "text": [
        "16352281573822548280\n",
        "19\u65e5\u673a\u6784\u5f3a\u63a8\u4e70\u5165 6\u80a1\u6781\u5ea6\u4f4e\u4f30 9506800710215359928\n",
        "2000\u70b9\u4fdd\u536b\u6218\u7559\u60ac\u5ff5 "
       ]
      },
      {
       "output_type": "stream",
       "stream": "stdout",
       "text": [
        "839611063056592888\n",
        "2000\u70b9\u4fdd\u536b\u6218\u7559\u60ac\u5ff5 "
       ]
      },
      {
       "output_type": "stream",
       "stream": "stdout",
       "text": [
        "839611063056592888\n",
        "2000\u70b9\u4fdd\u536b\u6218\u7559\u60ac\u5ff5 "
       ]
      },
      {
       "output_type": "stream",
       "stream": "stdout",
       "text": [
        "839611063056592888\n",
        "2000\u70b9\u6210\u5173\u952e\u652f\u6491 \u653f\u7b56\u5e95\u518d\u7ecf\u8003\u9a8c "
       ]
      },
      {
       "output_type": "stream",
       "stream": "stdout",
       "text": [
        "14692688052062772600\n",
        "2014\u5e74\u4e16\u754c\u7535\u4fe1\u65e5\u5927\u4f1a\u5728\u4eac\u4e3e\u884c \u5f20\u5cf0\u51fa\u5e2d\u4f1a\u8bae 16915048248606542264\n",
        "2020\u70b9\u9644\u8fd1\u9707\u8361 \u7b49\u5f85\u5468\u672b\u6d88\u606f\u9762\u660e\u6717 "
       ]
      },
      {
       "output_type": "stream",
       "stream": "stdout",
       "text": [
        "14620631421172936188\n",
        "2020\u70b9\u9644\u8fd1\u9707\u8361 \u7b49\u5f85\u5468\u672b\u6d88\u606f\u9762\u660e\u6717 "
       ]
      },
      {
       "output_type": "stream",
       "stream": "stdout",
       "text": [
        "14620631421172936188\n",
        "2020\u70b9\u9644\u8fd1\u9707\u8361 \u7b49\u5f85\u5468\u672b\u6d88\u606f\u9762\u660e\u6717 "
       ]
      },
      {
       "output_type": "stream",
       "stream": "stdout",
       "text": [
        "14620631421172936188\n",
        "3D\u6253\u5370\u677f\u6982\u5ff5\u80a1\u8868\u73b0\u6d3b\u8dc3 \u5149\u97f5\u8fbe\u6da8\u505c 14674672555115338552\n",
        "3\u4e2a\u4e0d\u660e\u98de\u884c\u7269\u5760\u5165\u9ed1\u9f99\u6c5f\u5883\u5185 \u73b0\u573a\u5df2\u5c01\u9501(\u56fe) 186167677799740160\n",
        "4\u6708\u4efd\u7edf\u8ba1\u5c40\u623f\u5730\u4ea7\u6570\u636e\u70b9\u8bc4 "
       ]
      },
      {
       "output_type": "stream",
       "stream": "stdout",
       "text": [
        "12299016063014918580\n",
        "4\u6708\u4f4f\u6237\u5b58\u6b3e\u6d41\u59311.23\u4e07\u4ebf\u5143\uff1a\u94f6\u884c\u5b58\u6b3e\u5438\u5f15\u529b\u964d\u4f4e 14692676919767689588\n",
        "4\u6708\u5c45\u6c11\u6d88\u8d39\u4ef7\u683c\u6c34\u5e73\u540c\u6bd4\u6da81.8% \u6da8\u5e45\u56de\u843d "
       ]
      },
      {
       "output_type": "stream",
       "stream": "stdout",
       "text": [
        "9844807163328191446\n",
        "4\u6708\u89c4\u6a21\u4ee5\u4e0a\u6e2f\u53e3\u8d27\u7269\u541e\u5410\u91cf\u540c\u6bd4\u589e5% \u589e\u901f\u653e\u7f13 8691152085460913428\n",
        "578\u53ea\u4e2a\u80a1\u9006\u5e02\u5438\u91d156\u4ebf\u5143 \u519b\u5de5\u7b493\u884c\u4e1a\u915d\u917f\u65b0\u70ed\u70b9 "
       ]
      },
      {
       "output_type": "stream",
       "stream": "stdout",
       "text": [
        "14604885451381136184\n",
        "578\u53ea\u4e2a\u80a1\u9006\u5e02\u5438\u91d156\u4ebf\u5143 \u519b\u5de5\u7b493\u884c\u4e1a\u915d\u917f\u65b0\u70ed\u70b9 "
       ]
      },
      {
       "output_type": "stream",
       "stream": "stdout",
       "text": [
        "14604885451381136184\n"
       ]
      }
     ],
     "prompt_number": 27
    },
    {
     "cell_type": "code",
     "collapsed": false,
     "input": [
      "s=Article.find()"
     ],
     "language": "python",
     "metadata": {},
     "outputs": [],
     "prompt_number": 23
    },
    {
     "cell_type": "code",
     "collapsed": false,
     "input": [
      "data = {\n",
      "    1: u'How are you? I Am fine. blar blar blar blar blar Thanks.',\n",
      "    2: u'How are you i am fine. blar blar blar blar blar than',\n",
      "    3: u'This is simhash test.',\n",
      "}\n",
      "objs = [(str(k), simhash.Simhash(v)) for k, v in data.items()]"
     ],
     "language": "python",
     "metadata": {},
     "outputs": [],
     "prompt_number": 29
    },
    {
     "cell_type": "code",
     "collapsed": false,
     "input": [
      "for i in objs: print i[1].value"
     ],
     "language": "python",
     "metadata": {},
     "outputs": [
      {
       "output_type": "stream",
       "stream": "stdout",
       "text": [
        "8440240427182201978\n",
        "8440240356449459322\n",
        "9984379969213434071\n"
       ]
      }
     ],
     "prompt_number": 33
    },
    {
     "cell_type": "code",
     "collapsed": false,
     "input": [
      "index = simhash.SimhashIndex(objs)"
     ],
     "language": "python",
     "metadata": {},
     "outputs": [],
     "prompt_number": 54
    },
    {
     "cell_type": "code",
     "collapsed": false,
     "input": [
      "index.get_near_dups(s)"
     ],
     "language": "python",
     "metadata": {},
     "outputs": [
      {
       "metadata": {},
       "output_type": "pyout",
       "prompt_number": 61,
       "text": [
        "[]"
       ]
      }
     ],
     "prompt_number": 61
    },
    {
     "cell_type": "code",
     "collapsed": false,
     "input": [
      "s=simhash.Simhash(u\"This is simhash test.a\")"
     ],
     "language": "python",
     "metadata": {},
     "outputs": [],
     "prompt_number": 60
    },
    {
     "cell_type": "code",
     "collapsed": false,
     "input": [
      "for item in Article.find():\n",
      "    body = item['body']\n",
      "    sim = simhash.Simhash(body).value\n",
      "    item['sim'] = str(sim)\n",
      "    Article.save(item)"
     ],
     "language": "python",
     "metadata": {},
     "outputs": [],
     "prompt_number": 72
    },
    {
     "cell_type": "code",
     "collapsed": false,
     "input": [
      "import jieba"
     ],
     "language": "python",
     "metadata": {},
     "outputs": [],
     "prompt_number": 74
    },
    {
     "cell_type": "code",
     "collapsed": false,
     "input": [
      "s=Article.find_one()['body']"
     ],
     "language": "python",
     "metadata": {},
     "outputs": [],
     "prompt_number": 75
    },
    {
     "cell_type": "code",
     "collapsed": false,
     "input": [
      "import jieba.analyse"
     ],
     "language": "python",
     "metadata": {},
     "outputs": [],
     "prompt_number": 77
    },
    {
     "cell_type": "code",
     "collapsed": false,
     "input": [
      "for i in jieba.analyse.extract_tags(html2text(s)):print i"
     ],
     "language": "python",
     "metadata": {},
     "outputs": [
      {
       "output_type": "stream",
       "stream": "stdout",
       "text": [
        "\u884d\u751f\u54c1\n",
        "\u98ce\u9669\n",
        "\u6307\u6570\n",
        "\u91d1\u878d\n",
        "\u56de\u62a5\n",
        "\u5229\u7387\n",
        "\u7ba1\u7406\n",
        "\u8d44\u4ea7\n",
        "\u671f\u8d27\n",
        "\u5e02\u573a\n",
        "\u8d22\u5bcc\n",
        "\u6760\u6746\n",
        "\u6613\u76db\n",
        "\u671f\u6743\n",
        "\u9700\u8981\n",
        "\u4ea4\u6613\n",
        "\u7f8e\u56fd\n",
        "\u653f\u5e9c\n",
        "\u4eca\u5929\n",
        "\u6982\u5ff5\n"
       ]
      }
     ],
     "prompt_number": 90
    },
    {
     "cell_type": "code",
     "collapsed": false,
     "input": [
      "import lxml"
     ],
     "language": "python",
     "metadata": {},
     "outputs": [],
     "prompt_number": 80
    },
    {
     "cell_type": "code",
     "collapsed": false,
     "input": [
      "def html2text(html): \n",
      "     tree = lxml.etree.fromstring(html, lxml.etree.HTMLParser())if  isinstance(html, basestring) else html \n",
      "     for skiptag in ('//script', '//iframe'): \n",
      "         for node in tree.xpath(skiptag): \n",
      "             node.getparent().remove(node) \n",
      "     return lxml.etree.tounicode(tree, method='text') "
     ],
     "language": "python",
     "metadata": {},
     "outputs": [],
     "prompt_number": 82
    },
    {
     "cell_type": "code",
     "collapsed": false,
     "input": [
      "import lxml.etree"
     ],
     "language": "python",
     "metadata": {},
     "outputs": [],
     "prompt_number": 85
    },
    {
     "cell_type": "code",
     "collapsed": false,
     "input": [
      "for item in Article.find():\n",
      "    body = item['body']\n",
      "    text = html2text(body)\n",
      "    top = jieba.analyse.extract_tags(text)\n",
      "    item['keyword'] = top\n",
      "    Article.save(item)"
     ],
     "language": "python",
     "metadata": {},
     "outputs": [],
     "prompt_number": 95
    },
    {
     "cell_type": "code",
     "collapsed": false,
     "input": [
      "all_keyword=[]\n",
      "for item in Article.find():\n",
      "    keyword = item['keyword']\n",
      "    all_keyword+=keyword"
     ],
     "language": "python",
     "metadata": {},
     "outputs": [],
     "prompt_number": 101
    },
    {
     "cell_type": "code",
     "collapsed": false,
     "input": [
      "from collections import Counter"
     ],
     "language": "python",
     "metadata": {},
     "outputs": [],
     "prompt_number": 104
    },
    {
     "cell_type": "code",
     "collapsed": false,
     "input": [
      "cou = Counter(all_keyword)"
     ],
     "language": "python",
     "metadata": {},
     "outputs": [],
     "prompt_number": 105
    },
    {
     "cell_type": "code",
     "collapsed": false,
     "input": [],
     "language": "python",
     "metadata": {},
     "outputs": [
      {
       "ename": "TypeError",
       "evalue": "<simhash.Simhash object at 0x12EDE730> is not JSON serializable",
       "output_type": "pyerr",
       "traceback": [
        "\u001b[1;31m---------------------------------------------------------------------------\u001b[0m\n\u001b[1;31mTypeError\u001b[0m                                 Traceback (most recent call last)",
        "\u001b[1;32m<ipython-input-157-9f5322c8482d>\u001b[0m in \u001b[0;36m<module>\u001b[1;34m()\u001b[0m\n\u001b[1;32m----> 1\u001b[1;33m \u001b[1;32mprint\u001b[0m \u001b[0mjson\u001b[0m\u001b[1;33m.\u001b[0m\u001b[0mdumps\u001b[0m\u001b[1;33m(\u001b[0m\u001b[0msa\u001b[0m\u001b[1;33m)\u001b[0m\u001b[1;33m\u001b[0m\u001b[0m\n\u001b[0m",
        "\u001b[1;32mC:\\Python27\\lib\\json\\__init__.pyc\u001b[0m in \u001b[0;36mdumps\u001b[1;34m(obj, skipkeys, ensure_ascii, check_circular, allow_nan, cls, indent, separators, encoding, default, sort_keys, **kw)\u001b[0m\n\u001b[0;32m    241\u001b[0m         \u001b[0mcls\u001b[0m \u001b[1;32mis\u001b[0m \u001b[0mNone\u001b[0m \u001b[1;32mand\u001b[0m \u001b[0mindent\u001b[0m \u001b[1;32mis\u001b[0m \u001b[0mNone\u001b[0m \u001b[1;32mand\u001b[0m \u001b[0mseparators\u001b[0m \u001b[1;32mis\u001b[0m \u001b[0mNone\u001b[0m \u001b[1;32mand\u001b[0m\u001b[1;33m\u001b[0m\u001b[0m\n\u001b[0;32m    242\u001b[0m         encoding == 'utf-8' and default is None and not sort_keys and not kw):\n\u001b[1;32m--> 243\u001b[1;33m         \u001b[1;32mreturn\u001b[0m \u001b[0m_default_encoder\u001b[0m\u001b[1;33m.\u001b[0m\u001b[0mencode\u001b[0m\u001b[1;33m(\u001b[0m\u001b[0mobj\u001b[0m\u001b[1;33m)\u001b[0m\u001b[1;33m\u001b[0m\u001b[0m\n\u001b[0m\u001b[0;32m    244\u001b[0m     \u001b[1;32mif\u001b[0m \u001b[0mcls\u001b[0m \u001b[1;32mis\u001b[0m \u001b[0mNone\u001b[0m\u001b[1;33m:\u001b[0m\u001b[1;33m\u001b[0m\u001b[0m\n\u001b[0;32m    245\u001b[0m         \u001b[0mcls\u001b[0m \u001b[1;33m=\u001b[0m \u001b[0mJSONEncoder\u001b[0m\u001b[1;33m\u001b[0m\u001b[0m\n",
        "\u001b[1;32mC:\\Python27\\lib\\json\\encoder.pyc\u001b[0m in \u001b[0;36mencode\u001b[1;34m(self, o)\u001b[0m\n\u001b[0;32m    205\u001b[0m         \u001b[1;31m# exceptions aren't as detailed.  The list call should be roughly\u001b[0m\u001b[1;33m\u001b[0m\u001b[1;33m\u001b[0m\u001b[0m\n\u001b[0;32m    206\u001b[0m         \u001b[1;31m# equivalent to the PySequence_Fast that ''.join() would do.\u001b[0m\u001b[1;33m\u001b[0m\u001b[1;33m\u001b[0m\u001b[0m\n\u001b[1;32m--> 207\u001b[1;33m         \u001b[0mchunks\u001b[0m \u001b[1;33m=\u001b[0m \u001b[0mself\u001b[0m\u001b[1;33m.\u001b[0m\u001b[0miterencode\u001b[0m\u001b[1;33m(\u001b[0m\u001b[0mo\u001b[0m\u001b[1;33m,\u001b[0m \u001b[0m_one_shot\u001b[0m\u001b[1;33m=\u001b[0m\u001b[0mTrue\u001b[0m\u001b[1;33m)\u001b[0m\u001b[1;33m\u001b[0m\u001b[0m\n\u001b[0m\u001b[0;32m    208\u001b[0m         \u001b[1;32mif\u001b[0m \u001b[1;32mnot\u001b[0m \u001b[0misinstance\u001b[0m\u001b[1;33m(\u001b[0m\u001b[0mchunks\u001b[0m\u001b[1;33m,\u001b[0m \u001b[1;33m(\u001b[0m\u001b[0mlist\u001b[0m\u001b[1;33m,\u001b[0m \u001b[0mtuple\u001b[0m\u001b[1;33m)\u001b[0m\u001b[1;33m)\u001b[0m\u001b[1;33m:\u001b[0m\u001b[1;33m\u001b[0m\u001b[0m\n\u001b[0;32m    209\u001b[0m             \u001b[0mchunks\u001b[0m \u001b[1;33m=\u001b[0m \u001b[0mlist\u001b[0m\u001b[1;33m(\u001b[0m\u001b[0mchunks\u001b[0m\u001b[1;33m)\u001b[0m\u001b[1;33m\u001b[0m\u001b[0m\n",
        "\u001b[1;32mC:\\Python27\\lib\\json\\encoder.pyc\u001b[0m in \u001b[0;36miterencode\u001b[1;34m(self, o, _one_shot)\u001b[0m\n\u001b[0;32m    268\u001b[0m                 \u001b[0mself\u001b[0m\u001b[1;33m.\u001b[0m\u001b[0mkey_separator\u001b[0m\u001b[1;33m,\u001b[0m \u001b[0mself\u001b[0m\u001b[1;33m.\u001b[0m\u001b[0mitem_separator\u001b[0m\u001b[1;33m,\u001b[0m \u001b[0mself\u001b[0m\u001b[1;33m.\u001b[0m\u001b[0msort_keys\u001b[0m\u001b[1;33m,\u001b[0m\u001b[1;33m\u001b[0m\u001b[0m\n\u001b[0;32m    269\u001b[0m                 self.skipkeys, _one_shot)\n\u001b[1;32m--> 270\u001b[1;33m         \u001b[1;32mreturn\u001b[0m \u001b[0m_iterencode\u001b[0m\u001b[1;33m(\u001b[0m\u001b[0mo\u001b[0m\u001b[1;33m,\u001b[0m \u001b[1;36m0\u001b[0m\u001b[1;33m)\u001b[0m\u001b[1;33m\u001b[0m\u001b[0m\n\u001b[0m\u001b[0;32m    271\u001b[0m \u001b[1;33m\u001b[0m\u001b[0m\n\u001b[0;32m    272\u001b[0m def _make_iterencode(markers, _default, _encoder, _indent, _floatstr,\n",
        "\u001b[1;32mC:\\Python27\\lib\\json\\encoder.pyc\u001b[0m in \u001b[0;36mdefault\u001b[1;34m(self, o)\u001b[0m\n\u001b[0;32m    182\u001b[0m \u001b[1;33m\u001b[0m\u001b[0m\n\u001b[0;32m    183\u001b[0m         \"\"\"\n\u001b[1;32m--> 184\u001b[1;33m         \u001b[1;32mraise\u001b[0m \u001b[0mTypeError\u001b[0m\u001b[1;33m(\u001b[0m\u001b[0mrepr\u001b[0m\u001b[1;33m(\u001b[0m\u001b[0mo\u001b[0m\u001b[1;33m)\u001b[0m \u001b[1;33m+\u001b[0m \u001b[1;34m\" is not JSON serializable\"\u001b[0m\u001b[1;33m)\u001b[0m\u001b[1;33m\u001b[0m\u001b[0m\n\u001b[0m\u001b[0;32m    185\u001b[0m \u001b[1;33m\u001b[0m\u001b[0m\n\u001b[0;32m    186\u001b[0m     \u001b[1;32mdef\u001b[0m \u001b[0mencode\u001b[0m\u001b[1;33m(\u001b[0m\u001b[0mself\u001b[0m\u001b[1;33m,\u001b[0m \u001b[0mo\u001b[0m\u001b[1;33m)\u001b[0m\u001b[1;33m:\u001b[0m\u001b[1;33m\u001b[0m\u001b[0m\n",
        "\u001b[1;31mTypeError\u001b[0m: <simhash.Simhash object at 0x12EDE730> is not JSON serializable"
       ]
      }
     ],
     "prompt_number": 157
    },
    {
     "cell_type": "code",
     "collapsed": false,
     "input": [],
     "language": "python",
     "metadata": {},
     "outputs": []
    },
    {
     "cell_type": "code",
     "collapsed": false,
     "input": [
      "for i in Article.find({\"keyword\":\"\u8dc3\u7136\u7eb8\u4e0a\"}) : print i['title'],i['url']"
     ],
     "language": "python",
     "metadata": {},
     "outputs": [
      {
       "output_type": "stream",
       "stream": "stdout",
       "text": [
        "\u8010\u5fc3\u4f4e\u5438\u4e09\u7c7b\u80a1 http://stock.eastmoney.com/news/1412,20140515384479823.html\n",
        "\u5238\u5546\u80a1\u6740\u8dcc \u4e24\u5e02\u5feb\u901f\u4e0b\u632b\u6df1\u6210\u6307\u8dcc\u903e1% http://stock.eastmoney.com/news/1406,20140515384624873.html\n",
        "\u8010\u5fc3\u4f4e\u5438\u4e09\u7c7b\u80a1 http://stock.eastmoney.com/news/1406,20140515384479823.html\n",
        "\u8010\u5fc3\u4f4e\u5438\u4e09\u7c7b\u80a1 http://stock.eastmoney.com/news/1407,20140515384479823.html\n"
       ]
      }
     ],
     "prompt_number": 109
    },
    {
     "cell_type": "code",
     "collapsed": false,
     "input": [
      "os.getcwd()"
     ],
     "language": "python",
     "metadata": {},
     "outputs": [
      {
       "metadata": {},
       "output_type": "pyout",
       "prompt_number": 113,
       "text": [
        "'Y:\\\\stock_project\\\\analyst'"
       ]
      }
     ],
     "prompt_number": 113
    },
    {
     "cell_type": "code",
     "collapsed": false,
     "input": [
      "sys.path.append(\"..\")"
     ],
     "language": "python",
     "metadata": {},
     "outputs": [],
     "prompt_number": 122
    },
    {
     "cell_type": "code",
     "collapsed": false,
     "input": [
      "s=__import__(\"../suippet.py\")"
     ],
     "language": "python",
     "metadata": {},
     "outputs": [
      {
       "ename": "ImportError",
       "evalue": "Import by filename is not supported.",
       "output_type": "pyerr",
       "traceback": [
        "\u001b[1;31m---------------------------------------------------------------------------\u001b[0m\n\u001b[1;31mImportError\u001b[0m                               Traceback (most recent call last)",
        "\u001b[1;32m<ipython-input-115-2d3933eb69e6>\u001b[0m in \u001b[0;36m<module>\u001b[1;34m()\u001b[0m\n\u001b[1;32m----> 1\u001b[1;33m \u001b[0ms\u001b[0m\u001b[1;33m=\u001b[0m\u001b[0m__import__\u001b[0m\u001b[1;33m(\u001b[0m\u001b[1;34m\"../suippet.py\"\u001b[0m\u001b[1;33m)\u001b[0m\u001b[1;33m\u001b[0m\u001b[0m\n\u001b[0m",
        "\u001b[1;31mImportError\u001b[0m: Import by filename is not supported."
       ]
      }
     ],
     "prompt_number": 115
    },
    {
     "cell_type": "code",
     "collapsed": false,
     "input": [
      "import snippet"
     ],
     "language": "python",
     "metadata": {},
     "outputs": [],
     "prompt_number": 123
    },
    {
     "cell_type": "code",
     "collapsed": false,
     "input": [
      "snippet.html2text"
     ],
     "language": "python",
     "metadata": {},
     "outputs": []
    },
    {
     "cell_type": "code",
     "collapsed": false,
     "input": [
      "s=u'''\u6570\u636e\u7edf\u8ba1\u663e\u793a\uff0c\u8fd130\u65e5\u518516\u53ea\u94f6\u884c\u80a1(\u7533\u4e07\u4e00\u7ea7\u884c\u4e1a\u5206\u7c7b)\u5168\u90e8\u88ab\u673a\u6784\u770b\u597d\uff0c\u7ed9\u4e88\u201c\u589e\u6301\u201d\u6216\u201c\u4e70\u5165\u201d\u6295\u8d44\u8bc4\u7ea7\u3002\n",
      "\n",
      "\u3000\u3000\u503c\u5f97\u4e00\u63d0\u7684\u662f\uff0c\u5e73\u5b89\u94f6\u884c(\u884c\u60c5 \u80a1\u5427 \u4e70\u5356\u70b9)\u8fd130\u65e5\u5185\u670914\u5bb6\u673a\u6784\u7ed9\u4e88\u201c\u4e70\u5165\u201d\u8bc4\u7ea7\uff0c7\u5bb6\u7ed9\u4e88\u201c\u589e\u6301\u201d\u8bc4\u7ea7\u3002\u516c\u53f8\u662f\u5168\u56fd\u6027\u80a1\u4efd\u5236\u5546\u4e1a\u94f6\u884c\uff0c\u62e5\u670938\u5bb6\u5206\u884c\uff0c\u673a\u6784\u7f51\u70b9528\u5bb6\uff0c\u5728\u5317\u4eac\u3001\u9999\u6e2f\u8bbe\u6709\u4ee3\u8868\u5904\uff0c\u5e76\u4e0e\u5883\u5185\u5916\u4f17\u591a\u56fd\u5bb6\u548c\u5730\u533a\u903e2000\u5bb6\u94f6\u884c\u5efa\u7acb\u4e86\u4ee3\u7406\u884c\u5173\u7cfb\u3002\u516c\u53f8\u786e\u7acb\u4e86\u201c\u9762\u5411\u4e2d\u5c0f\u4f01\u4e1a\uff0c\u9762\u5411\u8d38\u6613\u878d\u8d44\u201d\u53d1\u5c55\u6218\u7565\uff0c\u72ec\u521b\u7684\u201c\u7ebf\u4e0a\u4f9b\u5e94\u94fe\u91d1\u878d\u201d\u5728\u7ebf\u670d\u52a1\u5e73\u53f0\uff0c\u5728\u4e92\u8054\u7f51\u65f6\u4ee3\u7ee7\u7eed\u4fdd\u6301\u9886\u5148\u7684\u670d\u52a1\u4f18\u52bf\u3002\n",
      "  '''\n",
      "\n",
      "sa= simhash.Simhash(s)"
     ],
     "language": "python",
     "metadata": {},
     "outputs": [],
     "prompt_number": 134
    },
    {
     "cell_type": "code",
     "collapsed": false,
     "input": [
      "s=u'''\u6570\u636e\u7edf\u8ba1\u663e\u793a\uff0c\u8fd130\u65e5\u518516\u53ea\u94f6\u884c\u80a1(\u7533\u4e07\u4e00\u7ea7\u884c\u4e1a\u5206\u7c7b)\u5168\u90e8\u88ab\u673a\u6784\u770b\u597d\uff0c\u7ed9\u4e88\u201c\u589e\u6301\u201d\u6216\u201c\u4e70\u5165\u201d\u6295\u8d44\u8bc4\u7ea7\u3002\n",
      "\n",
      "\u3000\u3000\u503c\u5f97\u4e00\u63d0\u7684\u662f\uff0c\u5e73\u5b89dasdasdas\u94f6\u884c(\u884c\u60c5 \u80a1\u5427 \u4e70\u5356\u70b9)\u8fd130\u65e5\u5185\u670914\u5bb6\u673a\u6784\u7ed9\u4e88\u201c\u4e70\u5165\u201d\u8bc4\u7ea7\uff0c7\u5bb6\u7ed9\u4e88\u201c\u589e\u6301\u201d\u8bc4\u7ea7\u3002\u516c\u53f8\u662f\u5168\u56fd\u6027\u80a1\u4efd\u5236\u5546\u4e1a\u94f6\u884c\uff0c\u62e5\u670938\u5bb6\u5206\u884c\uff0c\u673a\u6784\u7f51\u70b9528\u5bb6\uff0c\u5728\u5317\u4eac\u3001\u9999\u6e2f\u8bbe\u6709\u4ee3\u8868\u5904\uff0c\u5e76\u4e0e\u5883\u5185\u5916\u4f17\u591a\u56fd\u5bb6\u548c\u5730\u533a\u903e2000\u5bb6\u94f6\u884c\u5efa\u7acb\u4e86\u4ee3\u7406\u884c\u5173\u7cfb\u3002\u516c\u53f8\u786e\u7acb\u4e86\u201c\u9762\u5411\u4e2d\u5c0f\u4f01\u4e1a\uff0c\u9762\u5411\u8d38\u6613\u878d\u8d44\u201d\u53d1\u5c55\u6218\u7565\uff0c\u72ec\u521b\u7684\u201c\u7ebf\u4e0a\u4f9b\u5e94\u94fe\u91d1\u878d\u201d\u5728\u7ebf\u670d\u52a1\u5e73\u53f0\uff0c\u5728\u4e92\u8054\u7f51\u65f6\u4ee3\u7ee7\u7eed\u4fdd\u6301\u9886\u5148\u7684\u670d\u52a1\u4f18\u52bf\u3002\n",
      "  '''\n",
      "\n",
      "sb= simhash.Simhash(s)"
     ],
     "language": "python",
     "metadata": {},
     "outputs": [],
     "prompt_number": 138
    },
    {
     "cell_type": "code",
     "collapsed": false,
     "input": [
      "sa.distance(sb)"
     ],
     "language": "python",
     "metadata": {},
     "outputs": [
      {
       "metadata": {},
       "output_type": "pyout",
       "prompt_number": 140,
       "text": [
        "10"
       ]
      }
     ],
     "prompt_number": 140
    },
    {
     "cell_type": "code",
     "collapsed": false,
     "input": [
      "sa.value=12677085740760190516L"
     ],
     "language": "python",
     "metadata": {},
     "outputs": [],
     "prompt_number": 150
    },
    {
     "cell_type": "code",
     "collapsed": false,
     "input": [
      "sa.distance(sb)"
     ],
     "language": "python",
     "metadata": {},
     "outputs": [
      {
       "metadata": {},
       "output_type": "pyout",
       "prompt_number": 158,
       "text": [
        "13"
       ]
      }
     ],
     "prompt_number": 158
    },
    {
     "cell_type": "code",
     "collapsed": false,
     "input": [
      "sc=simhash.Simhash()"
     ],
     "language": "python",
     "metadata": {},
     "outputs": [
      {
       "ename": "TypeError",
       "evalue": "__init__() takes at least 2 arguments (1 given)",
       "output_type": "pyerr",
       "traceback": [
        "\u001b[1;31m---------------------------------------------------------------------------\u001b[0m\n\u001b[1;31mTypeError\u001b[0m                                 Traceback (most recent call last)",
        "\u001b[1;32m<ipython-input-169-a37764e5d76d>\u001b[0m in \u001b[0;36m<module>\u001b[1;34m()\u001b[0m\n\u001b[1;32m----> 1\u001b[1;33m \u001b[0msc\u001b[0m\u001b[1;33m=\u001b[0m\u001b[0msimhash\u001b[0m\u001b[1;33m.\u001b[0m\u001b[0mSimhash\u001b[0m\u001b[1;33m(\u001b[0m\u001b[1;33m)\u001b[0m\u001b[1;33m\u001b[0m\u001b[0m\n\u001b[0m",
        "\u001b[1;31mTypeError\u001b[0m: __init__() takes at least 2 arguments (1 given)"
       ]
      }
     ],
     "prompt_number": 169
    },
    {
     "cell_type": "code",
     "collapsed": false,
     "input": [
      "c=12677085740760190516L"
     ],
     "language": "python",
     "metadata": {},
     "outputs": [],
     "prompt_number": 171
    },
    {
     "cell_type": "code",
     "collapsed": false,
     "input": [
      "bin(7721317932675755796L)"
     ],
     "language": "python",
     "metadata": {},
     "outputs": [
      {
       "metadata": {},
       "output_type": "pyout",
       "prompt_number": 225,
       "text": [
        "'0b110101100100111101000011100000000011110111111011110111100010100'"
       ]
      }
     ],
     "prompt_number": 225
    },
    {
     "cell_type": "code",
     "collapsed": false,
     "input": [
      "bu = simhash.SimhashIndex({},k=50)\n",
      "for i in Article.find({},{\"title\":1,\"sim\":1}).limit(1000):\n",
      "    obj_id = i['title']\n",
      "    hash_int = simhash.Simhash(int(i['sim']))\n",
      "    print hash_int.value\n",
      "    bu.add( obj_id,hash_int)"
     ],
     "language": "python",
     "metadata": {},
     "outputs": [
      {
       "output_type": "stream",
       "stream": "stdout",
       "text": [
        "10217236815986031952\n",
        "267239336212800785\n",
        "5372214657117437844\n",
        "3154456323652541840\n",
        "14604779898401054520\n",
        "14530567055481760244\n",
        "10080867779637538192\n",
        "12174475334216562112\n",
        "9323804462129343996\n",
        "14120931905116436404\n",
        "14606854498870199736\n",
        "14674673653553159480\n",
        "14699444414652705724\n",
        "14604885451514929136\n",
        "14530558465209522674\n",
        "11035688190704742004\n",
        "51033558278168788\n",
        "14674673653823831544\n",
        "14102227107339537796\n",
        "16320579489611987384\n",
        "766005373680989074\n",
        "267943015365574992\n",
        "9490760990433557760\n",
        "14530525214176124276\n",
        "778473765883943344"
       ]
      },
      {
       "output_type": "stream",
       "stream": "stdout",
       "text": [
        "\n",
        "4750418832121776592\n",
        "13956141704819985848\n",
        "7612426701186885844\n",
        "605432678476637687\n",
        "3135640380686420253\n",
        "1992535869150576024\n",
        "9490892375966985625\n",
        "4402200986665552319\n",
        "9923378039611944309\n",
        "9486110033565297424\n",
        "16042545103089388860\n",
        "12370531386160941968\n",
        "15828728565931028529\n",
        "9936809881484250454\n",
        "9511266788868471108\n",
        "16928742240762847160\n",
        "10062953428127154448\n",
        "5257549878264028222\n",
        "14676931981582896638\n",
        "15684520112446393788\n",
        "9439334058127240284\n",
        "12187486004743085564\n",
        "14604867859194663864\n",
        "14674673516116442936"
       ]
      },
      {
       "output_type": "stream",
       "stream": "stdout",
       "text": [
        "\n",
        "14602616061664778648\n",
        "15610305203647175996\n",
        "15610305203647176060\n",
        "14457383699040329084\n",
        "15628302009970613628\n",
        "15610305203647176060\n",
        "5490615574206766398\n",
        "14676943045552889656\n",
        "14892024382256278708\n",
        "14530549050775173936\n",
        "14459634957688134972\n",
        "14674637232232194460\n",
        "14604867859329048504\n",
        "14604783763869560244\n",
        "11137052029551577324\n",
        "13537187755517529753\n",
        "14676924353720996280\n",
        "15827590555031522802\n",
        "14475397547793997628\n",
        "14477649897363496252\n",
        "15612557003460861244\n",
        "14458492006761127292"
       ]
      },
      {
       "output_type": "stream",
       "stream": "stdout",
       "text": [
        "\n",
        "10080447880448929468\n",
        "14694961773389372848\n",
        "7721317932675755796\n",
        "10081019497241724848\n",
        "843416427434182032\n",
        "769787633126186480\n",
        "10069895669239843220\n",
        "14674672356742614388\n",
        "9707342771642824592\n",
        "14692686834407402832\n",
        "5455377309935159632\n",
        "16910706471437704628\n",
        "11576964371051031956\n",
        "9504544444846141873\n",
        "9558190997491769849\n",
        "10066929180568297905\n",
        "14602616059380979128\n",
        "258229927459659776\n",
        "14529452287791848376\n",
        "14523335580071335924"
       ]
      },
      {
       "output_type": "stream",
       "stream": "stdout",
       "text": [
        "\n",
        "10246412365475313724\n",
        "10062986400190007473\n",
        "9419224550009832208\n",
        "10103282339828422716\n",
        "14604858994516515256\n",
        "9432220706681873808\n",
        "839579213457107216\n",
        "767528139415467408\n",
        "7561230780810745204\n",
        "14674691245739301820\n",
        "10062986414283932944\n",
        "14604885451515091888\n",
        "10102297177399450940\n",
        "16909362265991933364\n",
        "862411637895310610\n",
        "4072193346894692118\n",
        "14676925454440487740\n",
        "10081149259981909392\n",
        "14604859064311869432\n",
        "14675799587822029752\n",
        "16835293098252783544\n",
        "4896799094344853777\n",
        "9491312862861298576\n",
        "14674682451795861296"
       ]
      },
      {
       "output_type": "stream",
       "stream": "stdout",
       "text": [
        "\n",
        "14602597918649111356\n",
        "10062711521603709264\n",
        "14604885451382841272\n",
        "9909297762694008252\n",
        "10062977605305459600\n",
        "9977692883290924852\n",
        "14542634358724334989\n",
        "9486522278209126332\n",
        "758555890487637272\n",
        "14115685123221465488\n",
        "14674672419018476432\n",
        "15757797618730779952\n",
        "17000209878227735892\n",
        "267802286300439824\n",
        "16998379749445297980\n",
        "11655144108094775157\n",
        "5197951949994155198\n",
        "9846788396015667644\n",
        "14602633651701185528\n",
        "14530575507907599804\n",
        "9939134144249854460\n",
        "9630559612080999220\n",
        "9341259406562012542\n",
        "13902099622285205497\n",
        "9869323926207822324\n",
        "10081018410348168477\n",
        "1992535318589975824"
       ]
      },
      {
       "output_type": "stream",
       "stream": "stdout",
       "text": [
        "\n",
        "15845609489025976632\n",
        "16419474238739688985\n",
        "14604884214567377844\n",
        "267804477972128849\n",
        "11625239529100020788\n",
        "14530558465477368764\n",
        "16910728460728586104\n",
        "9993159893620055540\n",
        "14692676919767689588\n",
        "14604867723100020528\n",
        "7187945598119676284\n",
        "13881118189442734068\n",
        "10062953354845325073\n",
        "14531706286899224508\n",
        "2926432940181318486\n",
        "14512480157545220433\n",
        "10011204899409971636\n",
        "16928733925977053620\n",
        "9361990580461211096\n",
        "14460770263441301436\n",
        "16748096269438369172\n",
        "14604885451515091768\n",
        "839056290980558836\n",
        "14460751572750394736\n",
        "14460761398760856888\n",
        "13887669429278062968\n",
        "14460752672326897520"
       ]
      },
      {
       "output_type": "stream",
       "stream": "stdout",
       "text": [
        "\n",
        "14458518463625551160\n",
        "14460770194719595376\n",
        "13884309511001599344\n",
        "14604849111788412720\n",
        "14602618052382281140\n",
        "9990921038827963896\n",
        "9993172976089030448\n",
        "14532832066813545946\n",
        "16908467246078319600\n",
        "14602624719111028152\n",
        "14604885314344443696\n",
        "10008935660686762384\n",
        "14602602865241619962\n",
        "14674673653553159480\n",
        "10008953098252824050\n",
        "15827612751419788720\n",
        "15828738582072378680\n",
        "15845631547170607088\n",
        "14620630459234904432\n",
        "9993181652864884656\n",
        "10060615920431388918\n",
        "14458474423165017912\n",
        "14694957238979911156"
       ]
      },
      {
       "output_type": "stream",
       "stream": "stdout",
       "text": [
        "\n",
        "14090172175248101773\n",
        "14478766383096876724\n",
        "14694938616069189052\n",
        "14604885451382808560\n",
        "10062946956148468474\n",
        "15827593928694684052\n",
        "7133388179066053617\n",
        "16930971440830214068\n",
        "12426154724717909308\n",
        "9936881349345758204\n",
        "7198438238325778704\n",
        "15827590555031522802\n",
        "839056290980558836\n",
        "14892024382256278708\n",
        "13579393850746230584\n",
        "14676943045552889656\n",
        "10008948770268993972\n",
        "14532832066813545946\n",
        "14604885451382808560\n",
        "14604885451515091768\n",
        "14604885400915008816\n",
        "14460751572750394736\n",
        "16766594941732378928"
       ]
      },
      {
       "output_type": "stream",
       "stream": "stdout",
       "text": [
        "\n",
        "16930971440830214068\n",
        "14476532183398074832\n",
        "14604876655424035768\n",
        "14532827796944845298\n",
        "9439334058127240284\n",
        "14604849111788412720\n",
        "15773573884010384700\n",
        "14604885452454617008\n",
        "14604876655424035768\n",
        "9990921038827963896\n",
        "14674673516116442936\n",
        "14602616061664778648\n",
        "14460770194719595376\n",
        "14476532183398074832\n",
        "10081000797894732144\n",
        "14460752672326897520\n",
        "14460751572750394736\n",
        "12369075732620896728\n",
        "9993181652864884656\n",
        "14602616061664778648\n",
        "14604885451382808560\n",
        "13887669429278062968\n",
        "13884309511001599344\n",
        "10197518243977224117\n",
        "14604885452454617008"
       ]
      },
      {
       "output_type": "stream",
       "stream": "stdout",
       "text": [
        "\n",
        "14602618052382281140\n",
        "14674673653553159480\n",
        "9993172976089030448\n",
        "15827590555031522802\n",
        "10008935660686762384\n",
        "14676924353720996280\n",
        "14604885382795582392\n",
        "14602602865241619962\n",
        "14602633651701274936\n",
        "14676943045552889656\n",
        "14604867859329048504\n",
        "14676916657276018096\n",
        "14460752672326897520\n",
        "14602624719111028152\n",
        "9993181652864884656\n",
        "16908467246078319600\n",
        "14604885314344443696\n",
        "14090172175248101773\n",
        "14694957238979911156\n",
        "14674678051602419640\n",
        "14028417974359629368\n",
        "14604885452588801844\n",
        "851110820543194160"
       ]
      },
      {
       "output_type": "stream",
       "stream": "stdout",
       "text": [
        "\n",
        "768545709341408762\n",
        "10083244832541867512\n",
        "14460752671255288696\n",
        "14674673516116433272\n",
        "14674673653555355440\n",
        "14603741959422171960\n",
        "14676943046629084592\n",
        "9939111157582482100\n",
        "14460770280621203384\n",
        "11810224174232716192\n",
        "483379228569206912\n",
        "14604885451381136184\n",
        "3163680629835629956\n",
        "9648661762150042036\n",
        "11794067332772523196\n",
        "4230752243558368496\n",
        "13467676049874324840\n",
        "14674549273584594032\n",
        "14620631421172936188\n",
        "14532810265293184824\n",
        "15611431103554018684\n",
        "14458439230202994044\n",
        "15611360734809841012\n",
        "15611431103554019196\n",
        "14550843356037242164\n",
        "15611360614550756668"
       ]
      },
      {
       "output_type": "stream",
       "stream": "stdout",
       "text": [
        "\n",
        "7476113733064657685\n",
        "16908388287869341180\n",
        "14458386324795841852\n",
        "4660919882094996856\n",
        "14692705584121235896\n",
        "9938023534412656112\n",
        "14604885452456677296\n",
        "9993179505238863992\n",
        "14604885452588801844\n",
        "14458521702299162992\n",
        "12386841606876293552\n",
        "9993181841977470392\n",
        "16766616502327696760\n",
        "14674663620511616444\n",
        "4897348838542132917\n",
        "6027756665153373592\n",
        "10008948768926588412\n",
        "14674695644859596280\n",
        "10081291205186151412\n",
        "11215858356038356400\n",
        "14674673584833814384\n",
        "9288227566578143732\n",
        "14457950027119661552\n",
        "14458509598947171644\n",
        "202047084490075448\n",
        "14694932020439144280\n",
        "7565062488990545145\n",
        "14674673516116433272\n",
        "6027182809472371216"
       ]
      },
      {
       "output_type": "stream",
       "stream": "stdout",
       "text": [
        "\n",
        "16852554004204010332\n",
        "14620603382550481776\n",
        "9414050168984677680\n",
        "16352281573822548280\n",
        "14694961773389372848\n",
        "14676942986761295864\n",
        "16908450308067025236\n",
        "14674673653823831544\n",
        "14102227107339537796\n",
        "14694961773389372848\n",
        "15757806819756728246\n",
        "5379248422857080312\n",
        "14602633584055672816\n",
        "14533061916284906864\n",
        "14656803104457058421\n",
        "10062984130701555678\n",
        "9927894903092935642\n",
        "276138343357196353\n",
        "10063267874496439568\n",
        "14602614822567364600\n",
        "14530567055279876084\n",
        "4071665581313350934\n",
        "3077203487678373136\n",
        "7646897565820592790\n",
        "9846225454115441084\n",
        "14604813846090730416\n",
        "4869913783371899392\n",
        "262731431148105616\n",
        "14604867859328884592\n",
        "14692973718862036400"
       ]
      },
      {
       "output_type": "stream",
       "stream": "stdout",
       "text": [
        "\n",
        "14604867860471867700\n",
        "2565999601078111102\n",
        "14530567055481760244\n",
        "267239336212800785\n",
        "5238509147049140688\n",
        "10080867779637538192\n",
        "14460725664632954172\n",
        "14458509049191357756\n",
        "14458404045830905660\n",
        "9972106333568207220\n",
        "14458456135194271548\n",
        "14458443490810552188\n",
        "4676764806440258644\n",
        "16908731610173622704\n",
        "14532810129196306296\n",
        "9236871576351384980\n",
        "14602617090139711924\n",
        "10055764265704453557\n",
        "12376408100511758262\n",
        "14602617090139711924\n",
        "14604867859331112816\n",
        "16764343880653035960\n",
        "9362840418726813108\n",
        "9490607052422720976\n",
        "7054869850175517456\n",
        "10062986398412681136\n",
        "10062990798371277232\n",
        "14619504497990523704\n",
        "14532814594618379576\n",
        "9994308705029442168"
       ]
      },
      {
       "output_type": "stream",
       "stream": "stdout",
       "text": [
        "\n",
        "9848730144454580980\n",
        "267934219234803733\n",
        "12368192789488327060\n",
        "16890183880878452560\n",
        "197307166097114676\n",
        "16769127719516219513\n",
        "9970138705698728004\n",
        "2488507908650369938\n",
        "7049269009316874623\n",
        "862411637895310610\n",
        "14523898586378964036\n",
        "13933940231342067333\n",
        "267769404163981393\n",
        "14692686817261722424\n",
        "7757096109829889716\n",
        "9992894738312038160\n",
        "822726901822639568\n",
        "15970526810150160808\n",
        "14532810269051275120\n",
        "14115685123221465488\n",
        "267940340506927376\n",
        "1992535318589975824\n",
        "11215828191412870576\n",
        "267804477972128849\n",
        "839579213457107216\n",
        "14604867859328884592\n",
        "187584106245897690\n",
        "767528139415467408\n",
        "10062986414283932944\n",
        "10062442140711730616"
       ]
      },
      {
       "output_type": "stream",
       "stream": "stdout",
       "text": [
        "\n",
        "7561230780810745204\n",
        "5397247855015616436\n",
        "4750418832121776592\n",
        "16901438557860235536\n",
        "769787633126186480\n",
        "12370531386160941968\n",
        "14606854498870199736\n",
        "9848730144454580980\n",
        "14122849808853994904\n",
        "846086089042685720\n",
        "9471044255598464956\n",
        "267239336212800785\n",
        "10062986400190007473\n",
        "8691152085460913428\n",
        "5238509147049140688\n",
        "5241878548565272756\n",
        "14602616059380979128\n",
        "16928742240762847160\n",
        "10080867779637538192\n",
        "14530567055481760244\n",
        "10081149259981909392\n",
        "3077203487678373136\n",
        "14115685123221465488\n",
        "267940340506927376\n",
        "14602614822567364600\n",
        "267804477972128849\n",
        "1992535318589975824"
       ]
      },
      {
       "output_type": "stream",
       "stream": "stdout",
       "text": [
        "\n",
        "7561230780810745204\n",
        "14602633651032383480\n",
        "14609376819346518064\n",
        "14604849098903510840\n",
        "13974656253078265300\n",
        "12362830402994061682\n",
        "3089162310214458514\n",
        "16836421815891614960\n",
        "1924988488184038673\n",
        "10062979801106943376\n",
        "16852182388257297681\n",
        "1861664021786736572\n",
        "14692688052065130928\n",
        "9506800710215359928\n",
        "10062977613895526836\n",
        "14694394107821934396\n",
        "5043377101352830744\n",
        "5475719441871901968\n",
        "197425843226220980\n",
        "14674663757950569776\n",
        "12945261618563771664\n",
        "10062977535512780560\n",
        "12386501789266062740\n",
        "16999919564478814193\n",
        "3140954897412491140\n",
        "7630994912059001268\n",
        "14746590372755930096"
       ]
      },
      {
       "output_type": "stream",
       "stream": "stdout",
       "text": [
        "\n",
        "5383563893788484757\n",
        "896943937108857918\n",
        "10062986398446193488\n",
        "14676947443599462328\n",
        "4887855665691336720\n",
        "4748664073370572692\n",
        "14030226663747985872\n",
        "6604084941228854260\n",
        "14676946206919355696\n",
        "14688348144646332820\n",
        "9996519283620530685\n",
        "14692617548799889396\n",
        "10062986407035750260\n",
        "16980185320192312580\n",
        "15271131100042207536\n",
        "7543106015524927248\n",
        "14674672348119133140\n",
        "485808797645383036\n",
        "14674672418752126616\n",
        "9485960502590770172\n",
        "14674672555115338552\n",
        "9908156503645732278\n",
        "7684531658916208020\n",
        "5234564579299394992\n",
        "5451581857913850704\n",
        "9999335539173711934\n",
        "10062423451445598808\n",
        "258199195627530449\n",
        "1438313847687028880"
       ]
      },
      {
       "output_type": "stream",
       "stream": "stdout",
       "text": [
        "\n",
        "14532809749896907708\n",
        "258797467391961297\n",
        "5197314241839979710\n",
        "14676925453369198908\n",
        "10062952866293564785\n",
        "14674453752167089564\n",
        "9490609234474772757\n",
        "16961692817774955516\n",
        "14674672359659629012\n",
        "13891324190372506896\n",
        "15755537530838146872\n",
        "14674673516385262000\n",
        "9504802831952203156\n",
        "253717602645028740\n",
        "14692617686238826484\n",
        "6604084941228854260\n",
        "1924988488184038673\n",
        "1992541382815359248\n",
        "14602571460709080380\n",
        "14745561161194954556\n",
        "14460690497440735164\n",
        "14604583979641205040\n",
        "14458509598947172156\n",
        "7684535999516349880\n",
        "12342662154001309632\n",
        "12296763019534379472\n",
        "791919677395796913\n",
        "760511047180820368"
       ]
      },
      {
       "output_type": "stream",
       "stream": "stdout",
       "text": [
        "\n",
        "14457278145924063036\n",
        "6982035047790625203\n",
        "14391227117435728144\n",
        "9995156366417046452\n",
        "16836401414563666864\n",
        "9486516851929082289\n",
        "7682490965872578324\n",
        "11792140093628083029\n",
        "6943953341599428100\n",
        "9490602085165148596\n",
        "14566718999102745016\n",
        "12224719855518097180\n",
        "9995655535463039764\n",
        "13891324190372506896\n",
        "1924832355240454544\n",
        "5403453567305746362\n",
        "15755555018737179576\n",
        "16190406378618617274\n",
        "6604084941228854260\n",
        "154800182254048228\n",
        "17559182838087543824\n",
        "9490895124645399952\n",
        "5401562881218137904\n",
        "839585724862410128\n",
        "9491658167926369040\n",
        "834690707685485841\n",
        "9490892907938949904"
       ]
      },
      {
       "output_type": "stream",
       "stream": "stdout",
       "text": [
        "\n",
        "10644197041484967888\n",
        "16981962525120813980\n",
        "16982706753566367156\n",
        "4664111165092532540\n",
        "2978049509349493021\n",
        "16829087406978437268\n",
        "11600690729924004628\n",
        "14609383351713081628\n",
        "3004231294978279901\n",
        "1913380855812819263\n",
        "16926481792229295888\n",
        "7632744231340853685\n",
        "12152651745916313016\n",
        "15756645254443587384\n",
        "186167677799740160\n",
        "14604867799199472056\n",
        "14676943045821419384\n",
        "2931456892348245948\n",
        "2419959401154316356\n",
        "7175761154223472656\n",
        "7612395500118170044\n",
        "14676935211937235316\n",
        "9271770065764193078\n",
        "9936427112252795380\n",
        "6480012194384679194\n",
        "7191532282261080208\n",
        "2379322068751424316\n",
        "15757757349520072688\n",
        "4230752243558368496"
       ]
      },
      {
       "output_type": "stream",
       "stream": "stdout",
       "text": [
        "\n",
        "14620631421172936188\n",
        "9993181841977470392\n",
        "14674678051602419640\n",
        "14604885451381136184\n",
        "14622872156073853688\n",
        "14457950027119661552\n",
        "14676943046629084592\n",
        "14458521702299162992\n",
        "12386841606876293552\n",
        "14692705584121235896\n",
        "14604300451470102460\n",
        "14603741959422171960\n",
        "14674678051602419640\n",
        "14604867859331144632\n",
        "14604885452456677296\n",
        "14622872156073853688\n",
        "14962761522691689744\n",
        "16766616502327696760\n",
        "12386841606876293552\n",
        "14674673516116433272\n",
        "14604867859331144632\n",
        "14604885452456677296\n",
        "14674678051602419640\n",
        "9938023534412656112\n",
        "14674663620511616444\n",
        "9993179505238863992\n",
        "14604885452588801844\n",
        "4660919882094996856"
       ]
      },
      {
       "output_type": "stream",
       "stream": "stdout",
       "text": [
        "\n",
        "10008948768926588412\n",
        "6027756665153373592\n",
        "9938023534412656112\n",
        "14620631421172936188\n",
        "14458521702299162992\n",
        "14619925551753184693\n",
        "2563952001184533264\n",
        "10063005021019819512\n",
        "14676943045555083760\n",
        "14676942986761295864\n",
        "4659653040409393272\n",
        "14602633584055672816\n",
        "4659653040409393272\n",
        "5379248422857080312\n",
        "15757806819756728246\n",
        "9990951825297095990\n",
        "15775825151516626364\n",
        "1997151618993857872\n",
        "564430826883328065\n",
        "16984474708400660144\n",
        "5238509147049140688\n",
        "14604885452588801840\n",
        "15829868879757430256\n",
        "5296643024319776148\n",
        "15757798091175189808\n",
        "14458439109943909688\n",
        "14676943045553020728"
       ]
      },
      {
       "output_type": "stream",
       "stream": "stdout",
       "text": [
        "\n",
        "15829868879757430256\n",
        "14104193016950136212\n",
        "14694929820042755896\n",
        "14609376819346518064\n",
        "14602614822567364600\n",
        "14530567055279876084\n",
        "14460761467346214832\n",
        "11215828191412870576\n",
        "3077203487678373136\n",
        "267940340506927376\n",
        "9845710943205711672\n",
        "9490892375966985625\n",
        "5202385172287414078\n",
        "1992535869150576024\n",
        "12456383517773512124\n",
        "14604788643893841716\n",
        "14458500802451561456\n",
        "14602633651701374832\n",
        "14604885452588801840\n",
        "14602633582981897648\n",
        "14457295265665802040\n",
        "14458509461508218684\n",
        "14457347973504458044\n",
        "14530576057657155004\n",
        "14676943046492802360\n",
        "14674691039446924656\n",
        "14604849098903510840\n",
        "14460770264512941936\n",
        "11722005167943688884"
       ]
      },
      {
       "output_type": "stream",
       "stream": "stdout",
       "text": [
        "\n",
        "3170088578665125175\n",
        "9360140151312438068\n",
        "758555890487637272\n",
        "3308717737510169967\n",
        "15630562538365865912\n",
        "13539084232442629436\n",
        "9486637744754638865\n",
        "14674682451795861296\n",
        "11814851468815198000\n",
        "1939078108935871742\n",
        "14602616059380979128\n",
        "14458500802451561456\n",
        "10081149259981909392\n",
        "16982777211353640372\n",
        "12299016063014918580\n",
        "9992631347755866492\n",
        "14458518463627648440\n",
        "14602633651701374832\n",
        "5369966704190662934\n",
        "16764348089452719540\n",
        "4874973700450510865\n",
        "13449144592938783154\n",
        "14694376774149720568\n",
        "187584106245897690\n",
        "14676943045553020728\n",
        "9993032101967035320\n",
        "14676943045555085296\n",
        "14692973718862036400\n",
        "14104193016950136212\n",
        "14530488096601006008"
       ]
      },
      {
       "output_type": "stream",
       "stream": "stdout",
       "text": [
        "\n",
        "14604885452588801840\n",
        "17000209878227735892\n",
        "14602616059380979128\n",
        "14602633582981897648\n",
        "14676943046492802360\n",
        "14674691039446924656\n",
        "14104193016950136212\n",
        "16915048248606542264\n",
        "14620565518120896880\n",
        "11647693756058001084\n",
        "14604863255124106680\n",
        "16980534187309386040\n",
        "4320869937189692376\n",
        "14674109469032573840\n",
        "12676776166887212892\n",
        "15755555018737179576\n",
        "839611063056592888\n",
        "14421249220058767166\n",
        "839618760678132880\n",
        "14602632415021210936\n",
        "9490895124645399952\n",
        "14679167222555435280\n",
        "15613691699328573368\n",
        "10062977533364886876\n",
        "14692688052062772600\n",
        "10081000797760504176\n",
        "4318891110283562776\n",
        "14458518472217583480\n",
        "1067336095813578174"
       ]
      },
      {
       "output_type": "stream",
       "stream": "stdout",
       "text": [
        "\n",
        "6031978862146599348\n",
        "285385737421818768\n",
        "14926888358242273660\n",
        "14604884832907777464\n",
        "9844807163328191446\n",
        "202181290605934910\n",
        "7743623803317247671\n",
        "5273421338478082488\n",
        "834690707685485841\n",
        "12386836118502861046\n",
        "839585724862410128\n",
        "14460773501712326008\n",
        "7686793293027986367\n",
        "14460752672329030448\n",
        "10062979801106943376\n",
        "14460760849004912444\n",
        "14457347973504458556\n",
        "14457365634409978680\n",
        "11724528993544420666\n",
        "14603741960498173368\n",
        "12368833873886526744\n",
        "856931687981900176\n",
        "14676946276307824112\n",
        "14604880443451068216\n",
        "14532800232113528120\n",
        "9981942426608291284\n",
        "940096340976294303\n",
        "4206458999651128\n",
        "16190406378618617274"
       ]
      },
      {
       "output_type": "stream",
       "stream": "stdout",
       "text": [
        "\n",
        "4877087029482727736\n",
        "12351079020789573170\n",
        "14460752672329030448\n",
        "9993176154364956664\n",
        "9490892375966985625\n",
        "862413841077471696\n",
        "9490892375966985625\n",
        "10058224396333329330\n",
        "1992535869150576024\n",
        "14602615922078473080\n",
        "14674672426269007728\n",
        "9271770065764193078\n",
        "839051422375447952\n",
        "1913380855812819263\n",
        "14602615922078473080\n",
        "14604863255124106680\n",
        "839611063056592888\n",
        "14622747921733115248\n",
        "9490895124645399952\n",
        "14602632415021210936\n",
        "14674672418752126616\n",
        "9418971103989837104\n",
        "14674673516385262000\n",
        "14926888358242273660\n",
        "839618760678132880\n",
        "14694394107821934396\n",
        "14618168542236872576\n",
        "14602633651701374832\n",
        "4318891110283562776\n",
        "6031978862146599348"
       ]
      },
      {
       "output_type": "stream",
       "stream": "stdout",
       "text": [
        "\n",
        "9418971103989837104\n",
        "14713983195835751740\n",
        "14731997594347329598\n",
        "5415193654375468820\n",
        "14548307341576726416\n",
        "14618168542236872576\n",
        "9288367195797425528\n",
        "14602633651701374832\n",
        "10026958631545207280\n",
        "14460752672329030448\n",
        "9905364271586979760\n",
        "5476004147007577520\n",
        "839585724862410128\n",
        "9490325506485896400\n",
        "14926888358242273660\n",
        "14602633651701374832\n",
        "7743623803317247671\n",
        "9418971103989837104\n",
        "1924988488184038673\n",
        "16190406378618617274\n",
        "7743623803317247671\n",
        "14460773501712326008\n",
        "10026958631545207280\n",
        "7686793293027986367\n",
        "1992541382815359248\n",
        "6031978862146599348\n",
        "6604084941228854260\n",
        "14674673516385262000"
       ]
      },
      {
       "output_type": "stream",
       "stream": "stdout",
       "text": [
        "\n",
        "839611063056592888\n",
        "10062979801106943376\n",
        "9490895124645399952\n",
        "14602632415021210936\n",
        "14674673653555222960\n",
        "839618760678132880\n",
        "14674672418752126616\n",
        "5397228598795562426\n",
        "14694375416132642576\n",
        "14692686975235874104\n",
        "10102367546152016924\n",
        "1913380855812819263\n"
       ]
      }
     ],
     "prompt_number": 272
    },
    {
     "cell_type": "code",
     "collapsed": false,
     "input": [
      "s=u'''\n",
      "\u3000\u8fd1\u65e5\u53d1\u5e03\u7684\u4eca\u5e74\u7b2c\u4e00\u5b63\u5ea6\u201c\u661f\u5c55\u4eba\u6c11\u5e01\u52a8\u529b\u6307\u6570\u201d\u663e\u793a\uff0c\u6307\u6570\u7531\u4e0a\u4e00\u5b63\u5ea6\u768458.5\u4e0b\u8dcc\u81f357.6\uff0c\u4e3b\u8981\u662f\u56e0\u4e3a\u4eba\u6c11\u5e01\u6c47\u7387\u8c03\u6574\u4ee5\u53ca\u4eba\u6c11\u5e01\u5728\u5cb8\u548c\u79bb\u5cb8\u5229\u5dee\u7f29\u5c0f\uff0c\u5bfc\u81f4\u9999\u6e2f\u4f01\u4e1a\u5bf9\u4eba\u6c11\u5e01\u7684\u9700\u6c42\u53ca\u4f7f\u7528\u91cf\u8f83\u4e0a\u4e00\u5b63\u5ea6\u6709\u6240\u6e1b\u5c11\uff0c\u4f46\u5927\u578b\u4f01\u4e1a\u4ecd\u70ed\u8877\u4e8e\u628a\u63e1\u79bb\u5cb8\u4eba\u6c11\u5e01\u5e02\u573a\u3002\n",
      "\n",
      "\u3000\u3000\u661f\u5c55\u7684\u8c03\u67e5\u8bbf\u95ee\u7ed3\u679c\u663e\u793a\uff0c\u4f7f\u7528\u4eba\u6c11\u5e01\u4ea7\u54c1\u7684\u516c\u53f8\u7684\u6bd4\u4f8b\u5728\u53bb\u5e74\u7684\u7b2c\u4e09\u5b63\u53ca\u7b2c\u56db\u5b63\u5747\u8fbe\u5230\u9ad8\u4f4d\uff0c\u5206\u522b\u4e3a38%\u548c34%\uff0c\u4f46\u5230\u4e862014\u5e74\u7b2c\u4e00\u5b63\u5219\u8dcc\u81f325%\u3002\u53e6\u5916\uff0c\u57282014\u5e74\u7b2c\u4e00\u5b63\u5ea6\uff0c\u53ea\u670924%\u7684\u53d7\u8bbf\u4f01\u4e1a\u8868\u793a\u76ee\u524d\u6b63\u4f7f\u7528\u6216\u5c06\u5728\u672a\u676512\u4e2a\u6708\u8003\u8651\u4f7f\u7528\u4eba\u6c11\u5e01\u4ed8\u6b3e\u548c\u5e94\u6536\u8d26\u6b3e\u670d\u52a1\uff0c\u800c\u4e0a\u4e00\u5b63\u5ea6\u8be5\u6bd4\u4f8b\u4e3a37%\u3002\n",
      "\n",
      "\u3000\u3000\u5c3d\u7ba1\u9999\u6e2f\u4f01\u4e1a\u5bf9\u4eba\u6c11\u5e01\u7684\u4f7f\u7528\u91cf\u51cf\u5c11\uff0c\u4f46\u5927\u578b\u4f01\u4e1a\u4ecd\u7136\u70ed\u8877\u628a\u63e1\u79bb\u5cb8\u4eba\u6c11\u5e01\u5e02\u573a\u3002\u6240\u6709\u53d7\u8bbf\u7684\u5927\u578b\u4f01\u4e1a\u8868\u793a\uff0c\u5728\u8fc7\u53bb12\u4e2a\u6708\u66fe\u63a5\u53d7\u4eba\u6c11\u5e01\u5ba2\u6237\u8ba2\u5355/\u53d1\u7968\u53ca\u8d38\u6613\u7ed3\u7b97\uff0c\u4ee5\u53ca\u670913%\u8868\u793a\u9884\u8ba1\u5728\u672a\u676512\u4e2a\u6708\u5c06\u8fdb\u4e00\u6b65\u589e\u52a0\u4f7f\u7528\u4eba\u6c11\u5e01\u3002\n",
      "\n",
      "\u3000\u3000\u661f\u5c55\u94f6\u884c(\u884c\u60c5 \u4e13\u533a)\u9999\u6e2f\u5206\u884c\u8463\u4e8b\u603b\u7ecf\u7406\u90d1\u601d\u796f\u8868\u793a\uff0c\u7531\u4e8e\u76ee\u524d\u5e02\u573a\u7f3a\u4e4f\u79bb\u5cb8\u4eba\u6c11\u5e01\u6295\u8d44\u9009\u62e9\uff0c\u5c06\u7ee7\u7eed\u63a8\u52a8\u4eba\u6c11\u5e01\u503a\u5238\u7684\u6bb7\u5207\u9700\u6c42\uff0c2014\u5e74\u79bb\u5cb8\u4eba\u6c11\u5e01\u503a\u5238\u53ef\u671b\u7ef4\u6301\u5f3a\u52bf\uff0c\u56e0\u5728\u5cb8\u6d41\u52a8\u8d44\u91d1\u4f9d\u7136\u4e0d\u8db3\uff0c\u52a0\u4e0a\u4eca\u5e74\u9884\u671f\u6709\u5927\u91cf\u7684\u70b9\u5fc3\u503a\u5238\u5230\u671f\u518d\u878d\u8d44\u3002\n",
      "\n",
      "\u3000\u3000\u503c\u5f97\u6ce8\u610f\u7684\u662f\uff0c\u57282014\u5e74\u7b2c\u4e00\u5b63\u6709\u8d8a\u6765\u8d8a\u591a\u7684\u4f01\u4e1a\u5f00\u59cb\u4f7f\u7528\u66f4\u5e7f\u6cdb\u3001\u590d\u6742\u7684\u4eba\u6c11\u5e01\u4ea7\u54c1\u3002\u5c3d\u7ba1\u57282013\u5e74\u7b2c\u4e09\u5b63\u53ea\u67090.5%\u7684\u4f01\u4e1a\u4f7f\u7528\u4eba\u6c11\u5e01\u6709\u671f\u8d37\u6b3e\uff0c\u4f46\u57282014\u5e74\u7b2c\u4e00\u5b63\uff0c\u4f7f\u7528\u7387\u5927\u5e45\u4e0a\u5347\u81f36%\u3002\u53e6\u5916\uff0c\u6ca1\u6709\u516c\u53f8\u57282013\u5e74\u7b2c\u4e09\u5b63\u53ca2013\u5e74\u7b2c\u56db\u5b63\u8d77\u8ba1\u7684\u8fc7\u53bb12\u4e2a\u6708\u5185\u6295\u8d44\u4efb\u4f55\u4eba\u6c11\u5e01\u8ba1\u4ef7\u7684\u80a1\u7968\uff0c\u4f46\u67093%\u8868\u793a\u57282014\u5e74\u7b2c\u4e00\u5b63\u6301\u6709\u4e0a\u8ff0\u6295\u8d44\u3002\u5bf9\u6b64\uff0c\u661f\u5c55\u94f6\u884c (\u9999\u6e2f) \u7ecf\u6d4e\u7814\u7a76\u90e8\u526f\u603b\u88c1\u53ca\u7ecf\u6d4e\u5e08\u5468\u6d2a\u793c\u8868\u793a\uff0c\u5982\u679c\u5e02\u573a\u81f4\u529b\u53d1\u5c55\u4eba\u6c11\u5e01\u4ea7\u54c1\u548c\u76f8\u5173\u91d1\u878d\u7ed3\u6784\u6027\u4ea7\u54c1\uff0c\u5c06\u6709\u52a9\u63d0\u9ad8\u4f01\u4e1a\u5bf9\u4ea7\u54c1\u7684\u9700\u6c42\u3002\n",
      "\n",
      "\u3000\u3000\u636e\u4ecb\u7ecd\uff0c\u201c\u661f\u5c55\u4eba\u6c11\u5e01\u52a8\u529b\u6307\u6570\u201d\u8ffd\u8e2a\u9999\u6e2f\u516c\u53f8\u4f7f\u7528\u548c\u63a5\u53d7\u4eba\u6c11\u5e01\u7684\u5b9e\u9645\u60c5\u51b5\uff0c\u4ee5\u53ca\u4f01\u4e1a\u5bf9\u672a\u6765\u91c7\u7eb3\u4eba\u6c11\u5e01\u7684\u89c2\u70b9\u3002\u76f8\u5173\u8c03\u67e5\u6309\u5b63\u5ea6\u8fdb\u884c\uff0c2014\u5e74\u7b2c\u4e00\u5b63\u5ea6\u7684\u8c03\u67e5\u5de5\u4f5c\u662f\u4ee5\u7535\u8bdd\u8bbf\u95ee\u7684\u5f62\u5f0f\u8fdb\u884c\uff0c\u5171\u8bbf\u95ee200\u591a\u5bb6\u9999\u6e2f\u516c\u53f8\u7684\u4f01\u4e1a\u96c7\u4e3b\u548c\u51b3\u7b56\u8005\u3002\n",
      "'''\n",
      "\n",
      "hash_int = simhash.Simhash(s)\n",
      "print hash_int.value\n",
      "# hash_int.value=16984474708400660144\n",
      "print hash_int.distance( simhash.Simhash(16984474708400660144))\n",
      "r=bu.get_near_dups(hash_int)"
     ],
     "language": "python",
     "metadata": {},
     "outputs": [
      {
       "output_type": "stream",
       "stream": "stderr",
       "text": [
        "WARNING:root:Big bucket found. key:0:0, len(ret):559\n"
       ]
      },
      {
       "output_type": "stream",
       "stream": "stderr",
       "text": [
        "WARNING:root:Big bucket found. key:0:1, len(ret):557\n"
       ]
      },
      {
       "output_type": "stream",
       "stream": "stderr",
       "text": [
        "WARNING:root:Big bucket found. key:0:2, len(ret):360\n"
       ]
      },
      {
       "output_type": "stream",
       "stream": "stderr",
       "text": [
        "WARNING:root:Big bucket found. key:0:3, len(ret):353\n"
       ]
      },
      {
       "output_type": "stream",
       "stream": "stderr",
       "text": [
        "WARNING:root:Big bucket found. key:1:5, len(ret):423\n"
       ]
      },
      {
       "output_type": "stream",
       "stream": "stderr",
       "text": [
        "WARNING:root:Big bucket found. key:0:6, len(ret):413\n"
       ]
      },
      {
       "output_type": "stream",
       "stream": "stderr",
       "text": [
        "WARNING:root:Big bucket found. key:1:7, len(ret):326\n"
       ]
      },
      {
       "output_type": "stream",
       "stream": "stderr",
       "text": [
        "WARNING:root:Big bucket found. key:1:9, len(ret):247\n"
       ]
      },
      {
       "output_type": "stream",
       "stream": "stderr",
       "text": [
        "WARNING:root:Big bucket found. key:1:a, len(ret):373\n"
       ]
      },
      {
       "output_type": "stream",
       "stream": "stderr",
       "text": [
        "WARNING:root:Big bucket found. key:0:b, len(ret):149\n"
       ]
      },
      {
       "output_type": "stream",
       "stream": "stderr",
       "text": [
        "WARNING:root:Big bucket found. key:1:c, len(ret):295\n"
       ]
      },
      {
       "output_type": "stream",
       "stream": "stderr",
       "text": [
        "WARNING:root:Big bucket found. key:0:d, len(ret):406\n"
       ]
      },
      {
       "output_type": "stream",
       "stream": "stderr",
       "text": [
        "WARNING:root:Big bucket found. key:1:e, len(ret):409\n"
       ]
      },
      {
       "output_type": "stream",
       "stream": "stderr",
       "text": [
        "WARNING:root:Big bucket found. key:1:f, len(ret):351\n"
       ]
      },
      {
       "output_type": "stream",
       "stream": "stderr",
       "text": [
        "WARNING:root:Big bucket found. key:1:11, len(ret):345\n"
       ]
      },
      {
       "output_type": "stream",
       "stream": "stderr",
       "text": [
        "WARNING:root:Big bucket found. key:0:12, len(ret):510\n"
       ]
      },
      {
       "output_type": "stream",
       "stream": "stderr",
       "text": [
        "WARNING:root:Big bucket found. key:0:13, len(ret):374\n"
       ]
      },
      {
       "output_type": "stream",
       "stream": "stderr",
       "text": [
        "WARNING:root:Big bucket found. key:1:14, len(ret):441\n"
       ]
      },
      {
       "output_type": "stream",
       "stream": "stderr",
       "text": [
        "WARNING:root:Big bucket found. key:0:15, len(ret):262\n"
       ]
      },
      {
       "output_type": "stream",
       "stream": "stderr",
       "text": [
        "WARNING:root:Big bucket found. key:1:17, len(ret):525\n"
       ]
      },
      {
       "output_type": "stream",
       "stream": "stderr",
       "text": [
        "WARNING:root:Big bucket found. key:1:19, len(ret):522\n"
       ]
      },
      {
       "output_type": "stream",
       "stream": "stderr",
       "text": [
        "WARNING:root:Big bucket found. key:0:1a, len(ret):522\n"
       ]
      },
      {
       "output_type": "stream",
       "stream": "stderr",
       "text": [
        "WARNING:root:Big bucket found. key:1:1b, len(ret):410\n"
       ]
      },
      {
       "output_type": "stream",
       "stream": "stderr",
       "text": [
        "WARNING:root:Big bucket found. key:1:1c, len(ret):325\n"
       ]
      },
      {
       "output_type": "stream",
       "stream": "stderr",
       "text": [
        "WARNING:root:Big bucket found. key:1:1d, len(ret):504\n"
       ]
      },
      {
       "output_type": "stream",
       "stream": "stderr",
       "text": [
        "WARNING:root:Big bucket found. key:1:1e, len(ret):168\n"
       ]
      },
      {
       "output_type": "stream",
       "stream": "stderr",
       "text": [
        "WARNING:root:Big bucket found. key:0:1f, len(ret):489\n"
       ]
      },
      {
       "output_type": "stream",
       "stream": "stderr",
       "text": [
        "WARNING:root:Big bucket found. key:0:20, len(ret):572\n"
       ]
      },
      {
       "output_type": "stream",
       "stream": "stderr",
       "text": [
        "WARNING:root:Big bucket found. key:1:21, len(ret):149\n"
       ]
      },
      {
       "output_type": "stream",
       "stream": "stderr",
       "text": [
        "WARNING:root:Big bucket found. key:0:22, len(ret):518\n"
       ]
      },
      {
       "output_type": "stream",
       "stream": "stderr",
       "text": [
        "WARNING:root:Big bucket found. key:0:24, len(ret):277\n"
       ]
      },
      {
       "output_type": "stream",
       "stream": "stderr",
       "text": [
        "WARNING:root:Big bucket found. key:0:25, len(ret):393\n"
       ]
      },
      {
       "output_type": "stream",
       "stream": "stderr",
       "text": [
        "WARNING:root:Big bucket found. key:1:26, len(ret):592\n"
       ]
      },
      {
       "output_type": "stream",
       "stream": "stderr",
       "text": [
        "WARNING:root:Big bucket found. key:1:27, len(ret):534\n"
       ]
      },
      {
       "output_type": "stream",
       "stream": "stderr",
       "text": [
        "WARNING:root:Big bucket found. key:1:28, len(ret):334\n"
       ]
      },
      {
       "output_type": "stream",
       "stream": "stderr",
       "text": [
        "WARNING:root:Big bucket found. key:0:29, len(ret):502\n"
       ]
      },
      {
       "output_type": "stream",
       "stream": "stderr",
       "text": [
        "WARNING:root:Big bucket found. key:0:2a, len(ret):404\n"
       ]
      },
      {
       "output_type": "stream",
       "stream": "stderr",
       "text": [
        "WARNING:root:Big bucket found. key:1:2b, len(ret):360\n"
       ]
      },
      {
       "output_type": "stream",
       "stream": "stderr",
       "text": [
        "WARNING:root:Big bucket found. key:1:2c, len(ret):261\n"
       ]
      },
      {
       "output_type": "stream",
       "stream": "stderr",
       "text": [
        "WARNING:root:Big bucket found. key:1:2d, len(ret):502\n"
       ]
      },
      {
       "output_type": "stream",
       "stream": "stderr",
       "text": [
        "WARNING:root:Big bucket found. key:1:2e, len(ret):520\n"
       ]
      },
      {
       "output_type": "stream",
       "stream": "stderr",
       "text": [
        "WARNING:root:Big bucket found. key:0:2f, len(ret):116\n"
       ]
      },
      {
       "output_type": "stream",
       "stream": "stderr",
       "text": [
        "WARNING:root:Big bucket found. key:0:30, len(ret):472\n"
       ]
      },
      {
       "output_type": "stream",
       "stream": "stderr",
       "text": [
        "WARNING:root:Big bucket found. key:0:31, len(ret):154\n"
       ]
      },
      {
       "output_type": "stream",
       "stream": "stdout",
       "text": [
        "18415352786881533600\n",
        "11\n"
       ]
      },
      {
       "metadata": {},
       "output_type": "pyout",
       "prompt_number": 274,
       "text": [
        "[u'\\u5348\\u76d8\\uff1a\\u6caa\\u6307\\u8dcc0.29% \\u521b\\u4e1a\\u677f\\u91cd\\u632b2.79%',\n",
        " u'\\u5238\\u5546\\u5927\\u4f1a\\u5728\\u4eac\\u53ec\\u5f00 \\u59da\\u521a\\u5c31\\u5238\\u5546\\u521b\\u65b0\\u63d0\\u51fa\\u4e09\\u70b9\\u610f\\u89c1',\n",
        " u'\\u673a\\u6784\\u6700\\u65b0\\u4e70\\u5165\\u8bc4\\u7ea7\\u4e2a\\u80a1\\u63ed\\u79d8 \\u4e24\\u53ea\\u4e2a\\u80a1\\u5c06\\u7ffb\\u500d',\n",
        " u'\\u9694\\u591c\\u5168\\u7403\\u5e02\\u573a\\u7eb5\\u89c8\\uff1a\\u9053\\u6307\\u6536\\u8dcc1% \\u954d\\u4ef7\\u5927\\u8dcc6.4%',\n",
        " u'\\u5b8b\\u536b\\u5e73\\u786e\\u8ba4\\u9a6c\\u4e91\\u5165\\u80a1\\u7eff\\u57ce\\u4ff1\\u4e50\\u90e8',\n",
        " u'\\u5168\\u7403\\u98df\\u7cd6\\u5e93\\u5b58\\u62d0\\u70b9\\u6216\\u73b0 \\u7cd6\\u4e1a\\u80a1\\u8fce\\u5e03\\u5c40\\u826f\\u673a(\\u9644\\u80a1)',\n",
        " u'\\u4f20\\u7edf\\u84dd\\u7b79\\u7f3a\\u4e4f\\u6301\\u7eed\\u4e0a\\u6da8\\u673a\\u4f1a',\n",
        " u'\\u77ed\\u671f\\u5f31\\u52bf\\u9707\\u8361\\u683c\\u5c40\\u5b58\\u5728\\u5ef6\\u7eed',\n",
        " u'\\u6210\\u90fd\\u7537\\u5b50\\u897f\\u5b89\\u4e22\\u94b1\\u5305\\u53d7\\u52a9500\\u5143 \\u5bfb\\u6069\\u4eba\\u4e24\\u5e74\\u8fd8\\u94b1',\n",
        " u'5\\xb717\\u7535\\u4fe1\\u65e5\\u4e34\\u8fd1 \\u865a\\u62df\\u8fd0\\u7ba1\\u5546\\u4e4b\\u95f4\\u785d\\u70df\\u56db\\u8d77',\n",
        " u'\\u6d77\\u8d8a\\u80a1\\u4efd\\u80a1\\u4e1c\\u5927\\u4f1a\\u5f15\\u6765\\u8fd1\\u767e\\u6295\\u8d44\\u8005\\u53c2\\u4e0e',\n",
        " u'\\u521b\\u4e1a\\u677f\\u6307\\u5348\\u540e\\u6301\\u7eed\\u4e0b\\u6ed1 \\u66b4\\u8dcc\\u8d853%',\n",
        " u'\\u660e\\u65e537\\u53ea\\u4e2a\\u80a1\\u9664\\u6743\\u9664\\u606f \\u5173\\u6ce8\\u9ad8\\u9001\\u8f6c\\u9ad8\\u589e\\u957f\\u80a1',\n",
        " u'\\u6625\\u79cb\\u822a\\u7a7aIPO\\u5ba1\\u6838\\u4e34\\u65f6\\u53d6\\u6d88',\n",
        " u'\\u4e0a\\u5468A\\u80a1\\u65b0\\u5f00\\u6237\\u4ec56.4\\u4e07\\u6237 \\u65e5\\u5747\\u5f00\\u6237\\u6570\\u521b7\\u5e74\\u6765\\u65b0\\u4f4e',\n",
        " u'3D\\u6253\\u5370\\u677f\\u6982\\u5ff5\\u80a1\\u8868\\u73b0\\u6d3b\\u8dc3 \\u5149\\u97f5\\u8fbe\\u6da8\\u505c',\n",
        " u'\\u4e3b\\u529b\\u8d44\\u91d1\\u51c0\\u6d41\\u51fa\\u6700\\u591a10\\u80a1(5/15)',\n",
        " u'\\u6bd4\\u66b4\\u8dcc\\u66f4\\u8ba9\\u4eba\\u53ef\\u6015 \\u4e3b\\u529b\\u60ca\\u73b0\\u53e6\\u7c7b\\u5c60\\u6740\\u65b0\\u624b\\u6cd5',\n",
        " u'\\u6851\\u5fb7\\u73af\\u5883\\uff1a\\u65a9\\u83b7\\u9759\\u8109\\u5927\\u5355 \\u56fa\\u5e9f\\u9f99\\u5934\\u5730\\u4f4d\\u66f4\\u52a0\\u7a81\\u51fa',\n",
        " u'\\u5e02\\u573a\\u6d41\\u52a8\\u6027\\u5411\\u597d\\u683c\\u5c40\\u6599\\u4ecd\\u5c06\\u6301\\u7eed',\n",
        " u'\\u521b\\u4e1a\\u677f\\u5348\\u540e\\u5927\\u8dcc3.24%  \\u8df3\\u7a7a\\u4e2d\\u9634\\u610f\\u5473\\u6df1\\u957f',\n",
        " u'\\u4e00\\u5b63\\u5ea6\\u7535\\u5b50\\u5546\\u52a1\\u5e02\\u573a\\u4ea4\\u6613\\u989d\\u8fbe2.57\\u4e07\\u4ebf\\u5143',\n",
        " u'\\u667a\\u6167\\u57ce\\u5e02\\u8bba\\u575b\\u5012\\u8ba1\\u65f6 15\\u80a1\\u9762\\u4e34\\u91cd\\u5927\\u673a\\u9047',\n",
        " u'\\u6d66\\u4e1c\\u91d1\\u6865\\u5b9a\\u589e\\u4e0d\\u8d852.92\\u4ebf\\u80a1 \\u52df\\u8d4430\\u4ebf\\u5143',\n",
        " u'\\u80fd\\u6e90\\u677f\\u5757\\u4e2a\\u80a1\\u8868\\u73b0\\u6d3b\\u8dc3 \\u5c71\\u4e1c\\u58a8\\u9f99\\u4e0a\\u6da8\\u903e8%',\n",
        " u'\\u6caa\\u6307\\u9707\\u8361\\u6536\\u8dcc1.12% \\u521b\\u4e1a\\u677f\\u91cd\\u632b\\u8fd12%',\n",
        " u'\\u5f53\\u4ee3\\u4e1c\\u65b9\\uff1a\\u76df\\u5c06\\u5a01\\u5177\\u4e09\\u65b9\\u9762\\u4f18\\u52bf \\u5c06\\u63a8\\u4e2d\\u5174\\u4e5d\\u57ce\\u6e38\\u620f',\n",
        " u'\\u56fd\\u7f51\\u516b\\u5927\\u7279\\u9ad8\\u538b\\u83b7\\u51c6 12\\u80a1\\u76db\\u5bb4\\u5f00\\u5e2d',\n",
        " u'15\\u65e5\\u4eba\\u6c11\\u5e01\\u5373\\u671f\\u6c47\\u7387\\u5f00\\u76d8\\u62a56.2247 \\u534742\\u4e2a\\u57fa\\u70b9',\n",
        " u'\\u534a\\u65e5\\u4e3b\\u529b\\u8d44\\u91d1\\u51c0\\u6d41\\u5165\\u524d\\u5341\\u4e2a\\u80a1(5/15)',\n",
        " u'\\u5348\\u76d8\\uff1a\\u6caa\\u6307\\u8dcc0.74% \\u7164\\u70ad\\u5730\\u4ea7\\u7b49\\u6743\\u91cd\\u80a1\\u8d70\\u5f31',\n",
        " u'\\u4e2d\\u56fd\\u79fb\\u52a8\\u5ba3\\u5e03\\u5927\\u5e45\\u4e0b\\u8c034G\\u8d44\\u8d39 6\\u80a1\\u8fce\\u6765\\u4e0a\\u6da8\\u5951\\u673a',\n",
        " u'\\u57fa\\u91d1\\u7ecf\\u7406\\u91cd\\u9009\\u80a1\\u8f7b\\u5927\\u52bf \\u673a\\u4f1a\\u6307\\u5411\\u4e2a\\u80a1\\u548c\\u4e3b\\u9898',\n",
        " u'\\u65b0\\u201c\\u56fd\\u4e5d\\u6761\\u201d\\u6e05\\u6670\\u754c\\u5b9a\\u4e86\\u5e02\\u573a\\u4e0e\\u653f\\u5e9c\\u7684\\u5173\\u7cfb',\n",
        " u'\\u62df10\\u8f6c6\\u6d3e3\\u5143 \\u6211\\u6b66\\u751f\\u7269\\u76d8\\u4e2d\\u6da8\\u505c',\n",
        " u'\\u8d44\\u6e90\\u80a1\\u5468\\u7ebfMACD\\u5e95\\u80cc\\u79bb\\u8d70\\u52bf\\u7684\\u542f\\u793a',\n",
        " u'\\u8000\\u76ae\\u73bb\\u7483\\u9009\\u4e3e\\u8d75\\u5065\\u4e3a\\u8463\\u4e8b\\u957f',\n",
        " u'\\u7f8e\\u56fd\\u9875\\u5ca9\\u6c14\\u9769\\u547d\\u53cd\\u81f4\\u94a2\\u94c1\\u4e1a\\u201c\\u8fdb\\u53e3\\u5371\\u673a\\u201d',\n",
        " u'\\u53e3\\u5b50\\u7a96\\u51b2\\u523aIPO \\u9ad8\\u76db\\u575a\\u5b886\\u5e74\\u201c\\u95f7\\u58f0\\u53d1\\u8d22\\u201d',\n",
        " u'\\u94a2\\u94c1\\u677f\\u5757\\u6709\\u5f3a\\u80a1 \\u7389\\u9f99\\u80a1\\u4efd\\u9006\\u52bf\\u4e0a\\u6da8',\n",
        " u'IPO\\u4fe1\\u606f\\u53d1\\u9175\\u6253\\u51fb\\u5e02\\u573a\\u4fe1\\u5fc3 \\u5730\\u4ea7\\u80a1\\u96be\\u6551\\u4e24\\u5e02',\n",
        " u'\\u62db\\u5546\\u8bc1\\u5238\\uff1a\\u6e2f\\u80a1\\u5927\\u5e02\\u6216\\u521b\\u65b0\\u4f4e\\u540e\\u7b51\\u5e95',\n",
        " u'\\u8d44\\u672c\\u5e02\\u573a\\u53d1\\u5c55\\u5173\\u7cfb\\u7ecf\\u6d4e\\u53d1\\u5c55\\u548c\\u793e\\u4f1a\\u7a33\\u5b9a\\u5927\\u5c40',\n",
        " u'\\u56fd\\u52a1\\u9662\\uff1a\\u9f13\\u52b1\\u5546\\u4e1a\\u94f6\\u884c\\u5f00\\u5c55\\u8fdb\\u51fa\\u53e3\\u4fe1\\u8d37\\u4e1a\\u52a1',\n",
        " u'\\u5e02\\u573a\\u5c06\\u518d\\u5ea6\\u8003\\u9a8c2000\\u70b9\\u652f\\u6491\\uff1f',\n",
        " u'\\u5468\\u4e94\\u673a\\u6784\\u5f3a\\u63a8\\u4e70\\u5165 6\\u80a1\\u6781\\u5ea6\\u4f4e\\u4f30',\n",
        " u'\\u7533\\u4e07\\u83f1\\u4fe1\\u4e2d\\u5c0f\\u677fA\\u9690\\u542b\\u6536\\u76ca\\u7387\\u98d9\\u5347',\n",
        " u'\\u552f\\u54c1\\u4f1a\\u4e1a\\u7ee9\\u4e5f\\u75af\\u72c2 \\u5f53\\u5f53\\u7f51\\u6253\\u7834\\u4e8f\\u635f\\u9b54\\u5492',\n",
        " u'\\u8fde\\u7eed\\u4e0b\\u8dcc\\u524d\\u5341\\u53ea\\u4e2a\\u80a1 (\\u622a\\u6b625.15)',\n",
        " u'\\u65e9\\u76d8\\u6e38\\u8d44\\u5927\\u5355\\u629b\\u552e\\u7684\\u524d30\\u53ea\\u4e2a\\u80a1(5/15)',\n",
        " u'\\u9700\\u6c42\\u731b\\u589e \\u65e5\\u672c\\u9996\\u5b63\\u7ecf\\u6d4e\\u589e\\u901f\\u521b\\u4e24\\u5e74\\u534a\\u65b0\\u9ad8',\n",
        " u'\\u90e8\\u5206\\u4ea7\\u54c1\\u5df2\\u80fd\\u7528\\u4e8e\\u9875\\u5ca9\\u6c14\\u5f00\\u91c7 \\u5c71\\u4e1c\\u58a8\\u9f99\\u5f3a\\u52bf\\u4e0a\\u6da8',\n",
        " u'\\u822a\\u7a7a\\u677f\\u5757\\u76d8\\u4e2d\\u5f3a\\u52bf\\u62c9\\u5347 \\u6d2a\\u90fd\\u822a\\u7a7a\\u9886\\u6da8',\n",
        " u'\\u592e\\u884c\\u91d1\\u878d\\u6d88\\u8d39\\u6743\\u76ca\\u4fdd\\u62a4\\u5c40\\u4eca\\u5e74\\u5c06\\u5bf9\\u94f6\\u884c\\u5361\\u7b49\\u4e13\\u9879\\u68c0\\u67e5',\n",
        " u'\\u64cd\\u76d8\\u5fc5\\u8bfb 5\\u670815\\u65e5\\u8bc1\\u5238\\u5e02\\u573a\\u8981\\u95fb',\n",
        " u'\\u4e09\\u56e0\\u7d20\\u5de6\\u53f3\\u80a1\\u6307\\u4e0d\\u524d  \\u4e00\\u5927\\u5229\\u597d\\u6216\\u6210\\u50ac\\u5316\\u5242',\n",
        " u'\\u552f\\u54c1\\u4f1a\\u9996\\u5b63\\u51c0\\u5229\\u589e355.3% \\u76d8\\u540e\\u4ea4\\u6613\\u5927\\u6da88.67%',\n",
        " u'\\u4e07\\u90a6\\u8fbe\\u62df\\u975e\\u516c\\u5f00\\u53d1\\u884c1620\\u4e07\\u80a1 \\u590d\\u724c\\u80a1\\u4ef7\\u903c\\u8fd1\\u8dcc\\u505c',\n",
        " u'\\u7f8e\\u80a1\\u5348\\u76d8\\u4f4e\\u4f4d\\u9707\\u8361 \\u9053\\u6307\\u4e0b\\u6ed10.34%',\n",
        " u'\\u6e10\\u8fd1\\u652f\\u6491\\u533a \\u5bc6\\u5207\\u5173\\u6ce8\\u6210\\u4ea4\\u91cf',\n",
        " u'\\u4e09\\u5927\\u63aa\\u65bd\\u63a8\\u8fdb\\u8bc1\\u5238\\u7ecf\\u8425\\u673a\\u6784\\u521b\\u65b0\\u53d1\\u5c55',\n",
        " u'\\u9ad8\\u9001\\u8f6c\\u6982\\u5ff5\\u964d\\u6e29 \\u6768\\u6770\\u79d1\\u6280\\u8dcc\\u505c',\n",
        " u'\\u5546\\u52a1\\u90e8\\uff1a1-4\\u6708\\u8fdb\\u51fa\\u53e3\\u53cc\\u964d \\u8d38\\u6613\\u987a\\u5dee\\u4e0b\\u964d42.9%',\n",
        " u'\\u9ad8\\u7ba1\\u589e\\u6301\\u63d0\\u632f\\u4fe1\\u5fc3 \\u5546\\u4e1a\\u94f6\\u884c\\u83b7\\u9752\\u7750',\n",
        " u'\\u6caa\\u6df1\\u4e24\\u5e02\\u5468\\u56db\\u4f4e\\u5f00 \\u5e02\\u573a\\u8d70\\u5f3a\\u6216\\u5f85\\u6301\\u7eed\\u6027\\u70ed\\u70b9\\u51fa\\u73b0',\n",
        " u'\\u4e09\\u5927\\u4fe1\\u53f7\\u6697\\u793a\\u65b0\\u4e00\\u8f6e\\u6740\\u8dcc\\u98ce\\u9669',\n",
        " u'\\u9996\\u5bb6\\u8bd5\\u70b9\\u6c11\\u8425\\u94f6\\u884c\\u5c06\\u843d\\u6237\\u4e0a\\u6d77\\u81ea\\u8d38\\u533a',\n",
        " u'\\u6caa\\u6df1\\u4e24\\u5e02\\u5468\\u4e94\\u5fae\\u5e45\\u4f4e\\u5f00 \\u5238\\u5546\\u80a1\\u9886\\u6da8',\n",
        " u'\\u56fd\\u6d77\\u8bc1\\u5238\\uff1a\\u7ef4\\u6301\\u5929\\u6e90\\u8fea\\u79d1\\u201c\\u4e70\\u5165\\u201d\\u8bc4\\u7ea7',\n",
        " u'\\u56fd\\u4f01\\u6307\\u6570\\u903c\\u8fd1\\u4e07\\u70b9\\u5927\\u5173 \\u9999\\u6e2f\\u4e25\\u67e5\\u8fdd\\u89c4\\u4ea4\\u6613',\n",
        " u'\\u4e2d\\u56fd\\u9a7b\\u8d8a\\u5357\\u5927\\u4f7f\\u9986\\u518d\\u6b21\\u63d0\\u9192\\u516c\\u6c11\\u6ce8\\u610f\\u4eba\\u8eab\\u8d22\\u4ea7\\u5b89\\u5168',\n",
        " u'\\u79ef\\u6781\\u628a\\u63e1\\u519b\\u5de5\\u884c\\u4e1a\\u5e03\\u5c40\\u673a\\u4f1a \\u91cd\\u70b9\\u63a8\\u83504\\u80a1',\n",
        " u'\\u534e\\u5c14\\u8857\\u5927\\u9cc4\\u62ab\\u9732\\u4e00\\u5ea6\\u6301\\u4ed3 \\u5df4\\u83f2\\u7279\\u4fdd\\u5c14\\u68ee\\u9752\\u7750\\u7535\\u4fe1\\u80a1',\n",
        " u'\\u5b9d\\u5229\\u6765\\u201c\\u8c6a\\u8d4c\\u201d\\u624b\\u6e38 \\u80a1\\u4ef7\\u63a5\\u8fd1\\u6da8\\u505c\\u5f00\\u76d8',\n",
        " u'\\u201c\\u56fd16\\u6761\\u201d\\u63d0\\u6269\\u5927\\u539f\\u6cb9\\u8fdb\\u53e3\\u6e20\\u9053 \\u50ac\\u751f\\u4e24\\u6295\\u8d44\\u4e3b\\u7ebf',\n",
        " u'\\u8fde\\u7eed\\u4e0a\\u6da8\\u524d\\u5341\\u53ea\\u4e2a\\u80a1 (\\u622a\\u6b625.15)',\n",
        " u'\\u65e9\\u76d8\\u8d85\\u7ea7\\u8d44\\u91d1\\u589e\\u4ed3\\u7684\\u524d30\\u53ea\\u4e2a\\u80a1',\n",
        " u'\\u56fd\\u529e\\u53d1\\u5e03\\u652f\\u6301\\u5916\\u8d38\\u7a33\\u5b9a\\u589e\\u957f\\u7684\\u82e5\\u5e72\\u610f\\u89c1',\n",
        " u'\\u4e0a\\u6d77\\u81ea\\u8d38\\u533a\\u542f\\u52a8\\u8de8\\u56fd\\u516c\\u53f8\\u603b\\u90e8\\u5916\\u6c47\\u8d44\\u91d1\\u96c6\\u4e2d\\u7ba1\\u7406\\u8bd5\\u70b9',\n",
        " u'\\u5217\\u4e3e\\u6563\\u6237\\u7092\\u80a1\\u768450\\u6761\\u6bdb\\u75c5',\n",
        " u'\\u6da8\\u505c\\u6562\\u6b7b\\u961f\\u706b\\u7ebf\\u62a2\\u51656\\u53ea\\u5f3a\\u52bf\\u80a1',\n",
        " u'\\u6cb9\\u6c14\\u6539\\u9769\\u8fdb\\u4e00\\u6b65\\u6df1\\u5316 \\u4e09\\u89d2\\u5ea6\\u6316\\u6398\\u6cb9\\u6539\\u53d7\\u76ca\\u9f99\\u5934\\u80a1',\n",
        " u'\\u4e1c\\u65b9\\u7535\\u70ed\\u63a7\\u80a1\\u80a1\\u4e1c\\u627f\\u8bfa\\u660e\\u5e74\\u4e4b\\u524d\\u4e0d\\u51cf\\u6301\\u516c\\u53f8\\u80a1\\u4efd',\n",
        " u'\\u521b\\u4e1a\\u677f\\u5348\\u540e\\u91cd\\u632b3.24% 300\\u591a\\u53ea\\u4e2a\\u80a1\\u98d8\\u7eff',\n",
        " u'\\u4e0a\\u5e02\\u94f6\\u884c\\u9ad8\\u7ba1\\u9996\\u6b21\\u96c6\\u4f53\\u589e\\u6301 \\u94f6\\u884c\\u80a1\\u73b0\\u6284\\u5e95\\u4fe1\\u53f7(\\u56fe)',\n",
        " u'\\u7279\\u9ad8\\u538b\\u7834\\u51b02000\\u4ebf\\u5e02\\u573a\\u6398\\u91d1 5\\u80a1\\u9955\\u992e\\u76db\\u5bb4',\n",
        " u'\\u6cb9\\u4ef7\\u8dcc0.9% \\u56db\\u4e2a\\u4ea4\\u6613\\u65e5\\u4ee5\\u6765\\u9996\\u6b21\\u6536\\u4f4e',\n",
        " u'4\\u6708\\u5c45\\u6c11\\u6d88\\u8d39\\u4ef7\\u683c\\u6c34\\u5e73\\u540c\\u6bd4\\u6da81.8% \\u6da8\\u5e45\\u56de\\u843d',\n",
        " u'\\u94a2\\u94c1\\u884c\\u4e1a2014\\u5e74\\u65e5\\u5e38\\u62a5\\u544a',\n",
        " u'\\u4e2d\\u5c0f\\u677f\\u6d3b\\u8dc3\\u80a1\\u516c\\u5f00\\u4fe1\\u606f(05/15)',\n",
        " u'\\u5238\\u5546\\u521b\\u65b0\\u5927\\u4f1a\\u805a\\u7126\\u516d\\u677f\\u5757 \\u8d22\\u5bcc\\u7ba1\\u7406\\u6700\\u53d7\\u77a9\\u76ee',\n",
        " u'\\u97e9\\u56fd\\u80a1\\u5e02\\u5fae\\u8dcc0.03% \\u7ec8\\u6b62\\u8fde\\u7eed\\u4e94\\u65e5\\u6da8\\u52bf',\n",
        " u'\\u8bc1\\u76d1\\u4f1a\\uff1a\\u653e\\u5bbd\\u5238\\u5546\\u51c6\\u5165 \\u5b9e\\u65bd\\u724c\\u7167\\u7ba1\\u7406',\n",
        " u'\\u6df1\\u5e02\\u6d3b\\u8dc3\\u80a1\\u516c\\u5f00\\u4fe1\\u606f(A\\u80a1)(05/15)',\n",
        " u'\\u4e3b\\u529b\\u8d44\\u91d1\\u51c0\\u6d41\\u51fa\\u6700\\u591a\\u4e94\\u5927\\u677f\\u5757(5/15)',\n",
        " u'\\u6cb9\\u6c14\\u6539\\u9769\\u52a0\\u901f\\u5f15\\u7206 \\u4e09\\u89d2\\u5ea6\\u6316\\u6398\\u53d7\\u76ca\\u9f99\\u5934\\u80a1',\n",
        " u'\\u571f\\u8033\\u5176\\u6700\\u4e25\\u91cd\\u77ff\\u96be\\u5f15\\u53d1\\u5de5\\u4f1a\\u5927\\u7f62\\u5de5',\n",
        " u'\\u901a\\u4fe1\\u8bbe\\u5907\\u53ca\\u670d\\u52a1\\u884c\\u4e1a\\u4e8b\\u4ef6\\u5feb\\u8bc4',\n",
        " u'5\\u6708\\u8fd11400\\u4ebf\\u4fe1\\u6258\\u5151\\u4ed8\\u6f6e\\u6765\\u88ad \\u5730\\u65b9\\u507f\\u503a\\u538b\\u529b\\u5927\\u589e',\n",
        " u'\\u8475\\u82b1\\u836f\\u4e1aIPO\\uff1a\\u4ea7\\u54c1\\u9891\\u73b0\\u8d28\\u91cf\\u95ee\\u9898 \\u8d44\\u4ea7\\u8d1f\\u503a\\u7387\\u9ad8\\u4e8e\\u884c\\u4e1a\\u5e73\\u574720%',\n",
        " u'\\u521b\\u4e1a\\u677f\\u6307\\u66b4\\u8dcc\\u8fd13%  \\u8df3\\u7a7a\\u5149\\u811a\\u4e2d\\u9634\\u610f\\u5473\\u6df1\\u957f',\n",
        " u'\\u8fbd\\u5b81\\u632f\\u9686\\u8d5a\\u94b1\\u4e3b\\u8981\\u9760\\u653f\\u5e9c\\u8865\\u8d34\\u4f18\\u60e0',\n",
        " u'\\u8fd9\\u662f\\u95f9\\u54ea\\u6837\\uff1f\\u7d22\\u7f57\\u65af\\u6e05\\u4ed3\\u94f6\\u884c\\u80a1',\n",
        " u'\\u673a\\u6784\\u9996\\u6b21\\u5173\\u6ce823\\u80a1 \\u6700\\u5927\\u6da8\\u5e45\\u8d8550%',\n",
        " u'\\u7f8e\\u80a1\\u5468\\u4e09\\u56de\\u843d \\u79d1\\u6280\\u80a1\\u4e0e\\u5c0f\\u76d8\\u80a1\\u518d\\u5ea6\\u4e0b\\u632b',\n",
        " u'\\u65e9\\u76d8\\u8d85\\u7ea7\\u8d44\\u91d1\\u51fa\\u9003\\u7684\\u524d30\\u53ea\\u4e2a\\u80a1(5/15)',\n",
        " u'\\u4e09\\u677f\\u80a1\\u7968\\u884c\\u60c5\\u52a8\\u6001(5/15)\\uff08\\u4e8c\\uff09',\n",
        " u'\\u5468\\u56db\\u4e9a\\u592a\\u80a1\\u5e02\\u5404\\u4e3b\\u8981\\u80a1\\u6307\\u591a\\u6570\\u4e0b\\u8dcc \\u65e5\\u80a1\\u8dcc0.75%',\n",
        " u'\\u6caa\\u6df1\\u4e24\\u5e02\\u5468\\u4e94\\u6536\\u6da8 \\u521b\\u4e1a\\u677f\\u6307\\u91cd\\u632b2.19%',\n",
        " u'4\\u6708\\u4efd\\u7edf\\u8ba1\\u5c40\\u623f\\u5730\\u4ea7\\u6570\\u636e\\u70b9\\u8bc4',\n",
        " u'\\u5b87\\u901a\\u5ba2\\u8f66\\uff1a\\u8d44\\u4ea7\\u6ce8\\u5165\\u63d0\\u4f9b\\u77ed\\u671f\\u50ac\\u5316\\u5242',\n",
        " u'\\u65b0\\u4e09\\u677f\\u9996\\u6b21\\u79fb\\u9664\\u6302\\u724c\\u4f01\\u4e1a \\u68af\\u6b21\\u9000\\u5e02\\u94fe\\u6761\\u9010\\u6b65\\u5f62\\u6210',\n",
        " u'\\u5de5\\u4fe1\\u90e8\\u9f13\\u52b150M\\u548c100M\\u5bbd\\u5e26 \\u6269\\u5927\\u643a\\u53f7\\u8f6c\\u7f51\\u8bd5\\u70b9',\n",
        " u'\\u4e3b\\u529b\\u8d44\\u91d1\\u51c0\\u6d41\\u51fa\\u6700\\u591a\\u4e94\\u5927\\u677f\\u5757(5/16)',\n",
        " u'\\u5c71\\u4e1c\\u4e0a\\u5e02\\u516c\\u53f8\\u518d\\u6dfb\\u65b0\\u519b \\u5c71\\u4e1c\\u9f99\\u5927IPO\\u987a\\u5229\\u8fc7\\u4f1a',\n",
        " u'\\u5927\\u80a1\\u4e1c\\u62df\\u6536\\u8d2d\\u7eb3\\u65af\\u8fbe\\u514b\\u4e0a\\u5e02\\u519c\\u4f01 \\u9686\\u5e73\\u9ad8\\u79d1\\u5927\\u6da8\\u903e8%',\n",
        " u'\\u7279\\u9ad8\\u538b\\u4ea4\\u6d41\\u7ebf\\u8def\\u7834\\u51b0 \\u591a\\u5bb6\\u5206\\u4eab2000\\u4ebf\\u5143\\u5e02\\u573a\\u76db\\u5bb4',\n",
        " u'\\u9707\\u8361\\u4e0b\\u884c \\u56db\\u7c7b\\u80a1\\u6210A\\u80a1\\u201c\\u7ede\\u8089\\u673a\\u201d',\n",
        " u'\\u6bcf10\\u80a1\\u6d3e0.32\\u5143\\u8f6c\\u589e10\\u80a1 \\u4f5b\\u6148\\u5236\\u836f\\u6da8\\u505c',\n",
        " u'\\u5c0f\\u989d\\u8d37\\u6b3e\\u516c\\u53f8\\u7ba1\\u7406\\u529e\\u6cd5\\u5f81\\u6c42\\u610f\\u89c1 \\u62df\\u62d3\\u5bbd\\u7ecf\\u8425\\u8303\\u56f4',\n",
        " u'\\u5317\\u4eac\\u6cbf\\u516d\\u73af\\u8def\\u4e3e\\u884c\\u53cd\\u6050\\u9632\\u66b4\\u62c9\\u52a8\\u6f14\\u7ec3',\n",
        " u'\\u521b\\u4e1a\\u677f\\u91cd\\u632b \\u7f29\\u91cf\\u9707\\u8361\\u6210\\u4e3b\\u529b\\u8bd5\\u91d1\\u77f3',\n",
        " u'\\u675c\\u9e70\\uff1a\\u4e2d\\u56fd\\u4e1c\\u76df\\u8d38\\u6613\\u989d2020\\u5e74\\u4e89\\u53d6\\u8fbe\\u52301\\u4e07\\u4ebf\\u7f8e\\u5143',\n",
        " u'\\u4eca\\u65e5\\u573a\\u5185\\u6563\\u6237\\u8d44\\u91d1\\u91cd\\u70b9\\u5173\\u6ce8\\u768430\\u53ea\\u4e2a\\u80a1\\uff085/15\\uff09',\n",
        " u'\\u5229\\u597d\\u5bf9\\u51b2\\u4e1a\\u7ee9\\u4e0b\\u6ed1 \\u5730\\u4ea7\\u80a1\\u63a2\\u5e95\\u56de\\u5347',\n",
        " u'\\u6d77\\u4f26\\u54f2\\uff1a\\u4f20\\u7edf\\u4ea7\\u54c1\\u8fce\\u6765\\u62d0\\u70b9 \\u6d88\\u9632\\u8f66\\u7a7a\\u95f4\\u5de8\\u5927',\n",
        " u'\\u5e02\\u573a\\u4fe1\\u5fc3\\u903c\\u8fd1\\u5d29\\u6e83\\u8fb9\\u7f18\\uff01',\n",
        " u'\\u6c34\\u6676\\u5149\\u7535\\uff1a\\u4e09\\u9a7e\\u9a6c\\u8f66\\u62c9\\u52a8 \\u5149\\u5b66\\u9f99\\u5934\\u91cd\\u56de\\u9ad8\\u589e\\u957f',\n",
        " u'\\u4e9a\\u592a\\u80a1\\u5e02\\u5468\\u56db\\u666e\\u904d\\u4f4e\\u5f00 \\u65e5\\u80a1\\u5f00\\u76d8\\u8dcc0.87%',\n",
        " u'\\u300a\\u4e8b\\u4e1a\\u5355\\u4f4d\\u4eba\\u4e8b\\u7ba1\\u7406\\u6761\\u4f8b\\u300b\\u516c\\u5e03',\n",
        " u'\\u5229\\u597d\\u6570\\u636e\\u538b\\u5236\\u907f\\u9669\\u9700\\u6c42 \\u91d1\\u4ef7\\u5468\\u56db\\u8dcc0.9%',\n",
        " u'\\u521b\\u4e1a\\u677f\\u6307\\u6570\\u518d\\u6b21\\u4e0b\\u632b\\u903e1% \\u521b\\u5e74\\u5185\\u65b0\\u4f4e',\n",
        " u'\\u592e\\u884c\\u4eca\\u5b9e\\u65bd870\\u4ebf\\u514328\\u5929\\u6b63\\u56de\\u8d2d \\u672c\\u5468\\u51c0\\u6295\\u653e440\\u4ebf',\n",
        " u'\\u5927\\u76d8\\u9707\\u8361\\u4e0b\\u884c \\u4e09\\u677f\\u5757\\u6210\\u7838\\u76d8\\u5143\\u51f6',\n",
        " u'\\u4e24\\u5e02\\u6d41\\u901a\\u5e02\\u503c\\u80a1\\u524d\\u4e8c\\u5341\\u53ea\\u4e2a\\u80a1\\u5e02\\u573a\\u8868\\u73b0(\\u622a\\u6b625.15)',\n",
        " u'5\\u670815\\u65e5\\u65e9\\u95f4\\u521b\\u4e1a\\u677f\\u516c\\u544a\\u6c47\\u603b',\n",
        " u'\\u5929\\u987a\\u98ce\\u80fd\\u62df3000\\u4e07\\u5143\\u8f6c\\u8ba9\\u5168\\u8d44\\u5b50\\u516c\\u53f8\\u5317\\u4eac\\u5929\\u987a\\u98ce\\u80fd',\n",
        " u'\\u65e9\\u76d8\\u8d85\\u7ea7\\u8d44\\u91d1\\u51fa\\u9003\\u7684\\u524d30\\u53ea\\u4e2a\\u80a1',\n",
        " u'\\u53cc\\u661f\\u95ea\\u8000\\u5f00\\u542f\\u53d8\\u76d8\\u7a97\\u53e3 \\u4e09\\u5927\\u5236\\u7ea6\\u56e0\\u7d20\\u5f85\\u7a81\\u7834',\n",
        " u'\\u9996\\u90fd\\u7ecf\\u6d4e\\u5708\\u89c4\\u5212\\u5c06\\u6d89\\u53ca\\u5929\\u6d25\\u81ea\\u8d38\\u533a 2\\u80a1\\u6709\\u671b\\u7206\\u53d1',\n",
        " u'5\\u5927\\u5238\\u5546\\u4e0b\\u5468\\u4e00\\u770b\\u597d6\\u677f\\u575732\\u80a1',\n",
        " u'5\\u670815\\u65e5\\u65e9\\u95f4\\u6caa\\u5e02\\u516c\\u544a\\u6c47\\u603b',\n",
        " u'\\u62df\\u4e0a\\u5e02\\u516c\\u53f8\\u4e8c\\u6b21\\u95ef\\u5173\\u98ce\\u9669\\u52a0\\u5267 \\u8fc7\\u4f1a\\u7387\\u4ec5\\u4e24\\u6210',\n",
        " u'\\u592e\\u884c\\u672c\\u5468\\u51c0\\u6295\\u653e440\\u4ebf 6\\u6708\\u6216\\u9006\\u56de\\u8d2d\\u4ee5\\u589e\\u52a0\\u6d41\\u52a8\\u6027',\n",
        " u'\\u4e24\\u5e02\\u5ef6\\u7eed\\u8c03\\u6574 \\u6caa\\u6307\\u4f4e\\u5f000.07%',\n",
        " u'\\u7535\\u5546\\u4e1a\\u7ee9\\u5206\\u5316 \\u552f\\u54c1\\u4f1a\\u5927\\u6da8\\u5f53\\u5f53\\u7f51\\u66b4\\u8dcc',\n",
        " u'\\u6301\\u7eed\\u7f29\\u91cf\\u524d\\u5341\\u53ea\\u4e2a\\u80a1\\u5e02\\u573a\\u8868\\u73b0(\\u622a\\u6b625.15)',\n",
        " u'\\u4e09\\u56e0\\u7d20\\u81f4\\u5e02\\u573a\\u56de\\u843d \\u5fae\\u523a\\u6fc0\\u6216\\u5524\\u51fa\\u65b0\\u751f\\u673a',\n",
        " u'\\u65e5\\u672c\\u4e09\\u5927\\u94f6\\u884c\\u4e0a\\u4e00\\u8d22\\u5e74\\u76c8\\u5229\\u7a33\\u5065',\n",
        " u'A\\u80a1\\u586b\\u6743\\u884c\\u60c5\\u5f3a\\u52bf\\u6253\\u54cd \\u7784\\u51c6\\u9ad8\\u9001\\u8f6c4\\u80a1\\u6b63\\u5f53\\u65f6',\n",
        " u'\\u6301\\u7eed\\u653e\\u91cf\\u524d\\u5341\\u53ea\\u4e2a\\u80a1\\u5e02\\u573a\\u8868\\u73b0(\\u622a\\u6b625.14)',\n",
        " u'\\u4eba\\u548c\\u96c6\\u56e2\\u534f\\u52a9\\u5927\\u8fde\\u5b9e\\u5fb7\\u503a\\u52a1\\u91cd\\u7ec4 \\u77e5\\u60c5\\u4eba\\u79f0\\u7a33\\u8d5a',\n",
        " u'\\u4e94\\u5927\\u5229\\u7a7a\\u81f4\\u80a1\\u6307\\u56de\\u8c03 \\u4e24\\u5e02\\u8fd19\\u6210\\u4e2a\\u80a1\\u4e0b\\u8dcc',\n",
        " u'\\u5916\\u4ea4\\u90e8\\uff1a\\u4e9a\\u4fe1\\u5cf0\\u4f1a\\u5c06\\u53d1\\u8868\\u300a\\u4e0a\\u6d77\\u5ba3\\u8a00\\u300b',\n",
        " u'\\u548c\\u4f73\\u80a1\\u4efd\\u8054\\u5408\\u4f53\\u4e2d\\u6807\\u65b0\\u8521\\u53bf\\u533b\\u9662\\u9879\\u76ee \\u91d1\\u989d5906\\u4e07',\n",
        " u'\\u53d1\\u6539\\u59d4\\u915d\\u917f\\u9996\\u90fd\\u7ecf\\u6d4e\\u5708\\u63d0\\u901f 12\\u80a1\\u5377\\u571f\\u91cd\\u6765(\\u540d\\u5355)',\n",
        " u'\\u4eca\\u65e5\\u5e02\\u573a\\u524d\\u77bb\\uff1a\\u4e94\\u5927\\u5229\\u597dPK\\u4e09\\u5927\\u5229\\u7a7a(5/16)',\n",
        " u'\\u524d4\\u6708\\u81ea\\u4e3b\\u54c1\\u724c\\u9500\\u91cf\\u8d1f\\u589e\\u957f \\u4efd\\u989d\\u4e0b\\u6ed1\\u523038%',\n",
        " u'\\u80fd\\u6e90\\u677f\\u5757\\u9886\\u6da8\\u7f8e\\u80a1 \\u4e2d\\u67a2\\u795e\\u7ecf\\u6216\\u72ec\\u9886\\u98ce\\u9a9a',\n",
        " u'\\u6caa\\u6307\\u9707\\u8361\\u4e0b\\u8dcc1.11% \\u6743\\u91cd\\u80a1\\u8868\\u73b0\\u4f4e\\u8ff7',\n",
        " u'\\u534a\\u65e5\\u4e3b\\u529b\\u8d44\\u91d1\\u51c0\\u6d41\\u51fa\\u524d\\u5341\\u4e2a\\u80a1(5/16)',\n",
        " u'\\u5730\\u4ea7\\u80a1\\u76d8\\u4e2d\\u5f3a\\u52bf\\u62c9\\u5347 \\u4fdd\\u5229\\u5730\\u4ea7\\u4e0a\\u6da8\\u903e3%',\n",
        " u'\\u4e09\\u4e2a\\u6708\\u671f\\u954d\\u4e0b\\u6ed14.5% \\u954d\\u4e1a\\u80a1\\u65e9\\u76d8\\u96c6\\u4f53\\u5d29\\u76d8',\n",
        " u'\\u4eba\\u6c11\\u5e01\\u5bf9\\u7f8e\\u5143\\u4e2d\\u95f4\\u4ef7\\u53cd\\u5f3913\\u4e2a\\u57fa\\u70b9 \\u62a56.1640',\n",
        " u'\\u521b\\u4e1a\\u677f\\u6210\\u4e3a\\u5e02\\u573a\\u6740\\u8dcc\\u91cd\\u707e\\u533a \\u65e9\\u76d8\\u91cd\\u632b1.86%',\n",
        " u'\\u623f\\u5730\\u4ea7\\u677f\\u5757\\u73b0\\u9893\\u52bf \\u77ed\\u7ebf\\u6216\\u6709\\u671b\\u53cd\\u5f39',\n",
        " u'\\u8f6e\\u80ce\\u884c\\u4e1a\\u51c6\\u5165\\u6761\\u4ef6\\u516c\\u5f00\\u5f81\\u6c42\\u610f\\u89c1 \\u9f13\\u52b1\\u53d1\\u5c55\\u7eff\\u8272\\u8f6e\\u80ce',\n",
        " u'5\\u670815\\u65e5\\u5f02\\u52a8\\u80a1\\u70b9\\u8bc4 \\u76d8\\u70b9\\u56db\\u725b\\u4e0e\\u56db\\u718a',\n",
        " u'\\u56fd\\u52a1\\u9662\\uff1a\\u52a0\\u5927\\u8d22\\u653f\\u5bf9\\u51fa\\u53e3\\u9000\\u7a0e\\u8d1f\\u62c5\\u8f83\\u91cd\\u5730\\u533a\\u8865\\u52a9\\u529b\\u5ea6',\n",
        " u'\\u64cd\\u76d8\\u5fc5\\u8bfb 5\\u670816\\u65e5\\u8bc1\\u5238\\u5e02\\u573a\\u8981\\u95fb',\n",
        " u'\\u6df1\\u5e02\\u5927\\u5b97\\u4ea4\\u6613\\u4fe1\\u606f(05/15)',\n",
        " u'\\u65e5\\u672c\\u56db\\u5927\\u94f6\\u884c2013\\u8d22\\u5e74\\u4e1a\\u7ee9\\u5411\\u597d',\n",
        " u'\\u8dcc\\u8dcc\\u4e0d\\u4f11\\u4f55\\u65f6\\u4e86\\uff1f',\n",
        " u'\\u5927\\u5eb7\\u7267\\u4e1a\\u516c\\u53f8\\u503a\\u4fe1\\u7528\\u7b49\\u7ea7\\u7ef4\\u6301\\u4e3aAA',\n",
        " u'\\u53ca\\u65f6\\u9501\\u5b9a\\u90e8\\u5206\\u76c8\\u5229',\n",
        " u'\\u8b66\\u60d5\\u4e3b\\u529b\\u8bf1\\u7a7a\\u9677\\u9631 \\u5e03\\u5c40\\u4e00\\u7c7b\\u80a1',\n",
        " u'\\u53cd\\u5f39\\u8fd8\\u6709\\u5e0c\\u671b\\u5417\\uff1f',\n",
        " u'\\u8dcc\\u5e02\\u4e2d\\u63a7\\u5236\\u98ce\\u9669\\u7684\\u4e94\\u4e2a\\u64cd\\u76d8\\u7b56\\u7565',\n",
        " u'\\u4eca\\u65e5\\u516c\\u544a\\u73b0\\u5229\\u597d 7\\u80a1\\u6709\\u6f5c\\u529b',\n",
        " u'\\u5468\\u7d2f\\u79ef\\u6362\\u624b\\u7387\\u524d\\u4e8c\\u5341\\u53ea\\u4e2a\\u80a1\\u5e02\\u573a\\u8868\\u73b0(\\u622a\\u6b625.14)',\n",
        " u'\\u6c7d\\u8f66\\u884c\\u4e1a\\u5468\\u62a5\\uff1a4\\u6708\\u9500\\u91cf\\u5b63\\u8282\\u6027\\u4e0b\\u964d',\n",
        " u'\\u954d\\u4ef7\\u91cd\\u632b4.5% \\u534e\\u6cfd\\u94b4\\u954d\\u8dcc\\u505c',\n",
        " u'\\u94f6\\u884c\\u4e1a\\uff1a\\u5730\\u65b9\\u503a\\u8fdb\\u5165\\u96c6\\u4e2d\\u507f\\u8fd8\\u671f \\u9700\\u6ce8\\u91cd\\u98ce\\u9669\\u9632\\u8303',\n",
        " u'\\u6fb3\\u6d32\\u80a1\\u5e02\\u6536\\u5e02\\u4e0a\\u6da80.26% \\u81f3\\u4e24\\u5468\\u6536\\u76d8\\u9ad8\\u4f4d',\n",
        " u'\\u4fdd\\u9669\\u884c\\u4e1a2014\\u5e7404\\u6708\\u4fdd\\u8d39\\u6536\\u5165\\u70b9\\u8bc4',\n",
        " u'\\u56fd\\u9645\\u6e05\\u7b97\\u94f6\\u884c\\uff1a4\\u6708\\u4eba\\u6c11\\u5e01\\u5b9e\\u9645\\u6c47\\u7387\\u89e6\\u53ca13\\u4e2a\\u6708\\u4f4e\\u4f4d',\n",
        " u'\\u660e\\u65e5\\u4e09\\u5927\\u731c\\u60f3\\uff1a\\u4e9a\\u4fe1\\u5cf0\\u4f1a\\u63a8\\u52a8\\u5b89\\u4fdd\\u6982\\u5ff5\\u5d1b\\u8d77',\n",
        " u'\\u4f0a\\u7acb\\u6d66\\u7b80\\u4f1f\\u6587\\u53ca\\u8463\\u4e8b\\u5468\\u4f2f\\u6dfb\\u8f9e\\u804c \\u80a1\\u4ef7\\u5927\\u6da8',\n",
        " u'2020\\u70b9\\u9644\\u8fd1\\u9707\\u8361 \\u7b49\\u5f85\\u5468\\u672b\\u6d88\\u606f\\u9762\\u660e\\u6717',\n",
        " u'\\u5f20\\u9ad8\\u4e3d\\uff1a\\u4eac\\u6d25\\u5180\\u8981\\u5efa\\u7edf\\u4e00\\u73af\\u4fdd\\u653f\\u7b56 \\u672c\\u5730\\u73af\\u4fdd\\u80a1\\u53d7\\u76ca',\n",
        " u'\\u6df7\\u5408\\u6240\\u6709\\u5236\\u6539\\u9769\\u63d0\\u901f \\u56fd\\u7f51\\u5c06\\u5f00\\u653e\\u56db\\u9886\\u57df\\u5f15\\u793e\\u4f1a\\u8d44\\u672c',\n",
        " u'\\u82f9\\u679c\\u8054\\u624b\\u4e2d\\u56fd\\u94f6\\u8054\\u63a8\\u79fb\\u52a8\\u652f\\u4ed8 4\\u5927\\u6982\\u5ff5\\u80a1\\u671b\\u7206\\u53d1',\n",
        " u'\\u59da\\u521a\\uff1a\\u6caa\\u6e2f\\u901a\\u5bf9\\u5185\\u5730\\u5238\\u5546\\u884c\\u4e1a\\u751f\\u6001\\u5f71\\u54cd\\u6df1\\u8fdc',\n",
        " u'\\u901a\\u5a01\\u80a1\\u4efd\\u653e\\u91cf\\u98d9\\u5347 \\u7845\\u8c37\\u5929\\u5802\\u8fd13\\u4ebf\\u5143\\u5165\\u80a1',\n",
        " u'\\u4e24\\u5e02\\u8dcc\\u903e1%\\u5747\\u7834\\u4f4d \\u6216\\u518d\\u9a8c2000\\u70b9\\u652f\\u6491',\n",
        " u'\\u8239\\u8236\\u677f\\u5757\\u6574\\u4f53\\u4e0a\\u6da8\\u8fd13% \\u4e2d\\u56fd\\u8239\\u8236\\u9886\\u6da8',\n",
        " u'\\u5348\\u540e\\u5173\\u6ce8\\u80fd\\u5426\\u5411\\u4e0a\\u53cd\\u62c9',\n",
        " u'\\u5317\\u4eac\\u79d1\\u535a\\u4f1a10\\u4e2a\\u9879\\u76ee\\u96c6\\u4e2d\\u7b7e\\u7ea643\\u4ebf\\u5143',\n",
        " u'\\u56db\\u65b9\\u8fbe\\u53d6\\u5f972\\u9879\\u4e13\\u52291\\u9879\\u8f6f\\u4ef6\\u8457\\u4f5c\\u6743',\n",
        " u'\\u957f\\u6c5f\\u8bc1\\u5238\\uff1a\\u91cd\\u7533\\u4e2d\\u6052\\u7535\\u6c14\\u201c\\u63a8\\u8350\\u201d\\u8bc4\\u7ea7',\n",
        " u'\\u5eca\\u574a\\u4e0b\\u5468\\u8fce\\u56fd\\u5bb6\\u7ea7\\u76db\\u4f1a \\u4eac\\u6d25\\u5180\\u6216\\u98ce\\u4e91\\u518d\\u8d77\\uff08\\u9644\\u80a1\\uff09',\n",
        " u'\\u4eca\\u65e5\\u516c\\u544a\\u73b0\\u5229\\u597d 7\\u80a1\\u6709\\u6f5c\\u529b(5/16)',\n",
        " u'\\u56db\\u5ddd\\u519c\\u6751\\u571f\\u5730\\u627f\\u5305\\u7ecf\\u8425\\u6743\\u786e\\u6743\\u767b\\u8bb0\\u5168\\u9762\\u542f\\u52a8',\n",
        " u'\\u4e2d\\u56fd3\\u6708\\u51cf\\u6301\\u7f8e\\u503a8\\u4ebf\\u7f8e\\u5143\\u81f31.2721\\u4e07\\u4ebf\\u7f8e\\u5143',\n",
        " u'\\u6df1\\u5733\\u8bc1\\u5238\\u5e02\\u573a\\u521b\\u4e1a\\u677f\\u4ea4\\u6613\\u516c\\u5f00\\u4fe1\\u606f(05/15)',\n",
        " u'\\u5de5\\u4fe1\\u90e8\\u5c06\\u5927\\u529b\\u63a8\\u8fdb\\u5149\\u7ea4\\u5230\\u6237\\u529b\\u5ea6 \\u5229\\u597d\\u5149\\u901a\\u4fe1\\u884c\\u4e1a',\n",
        " u'\\u76ee\\u524d\\u9ad8\\u9001\\u8f6c\\u7092\\u4f5c\\u5c5e\\u4e8e\\u7b2c\\u4e09\\u9636\\u6bb5',\n",
        " u'\\u673a\\u6784\\u6700\\u65b0\\u52a8\\u5411\\u63ed\\u793a \\u5468\\u4e94\\u6316\\u63988\\u53ea\\u9ed1\\u9a6c\\u80a1',\n",
        " u'\\u4e92\\u8054\\u7f51\\u5de8\\u5934\\u5de8\\u8d44\\u5e03\\u5c40 \\u8f66\\u8054\\u7f51\\u6982\\u5ff5\\u80a1\\u7206\\u53d1',\n",
        " u'\\u82f9\\u679c\\u4fa7\\u8fb9\\u663e\\u793a\\u5c4f\\u4e13\\u5229\\u83b7\\u6279',\n",
        " u'\\u6210\\u4ea4\\u91cf\\u7f29\\u5f97\\u5389\\u5bb3 \\u5173\\u6ce8\\u4e1d\\u7ef8\\u4e4b\\u8def\\u56fd\\u4f01\\u6539\\u9769\\u7b49\\u4e3b\\u9898',\n",
        " u'\\u5e73\\u5b89\\u6405\\u5c40 \\u623f\\u5730\\u4ea7\\u4e2d\\u4ecb\\u6216\\u8fce\\u65b0\\u4e00\\u8f6e\\u6d17\\u724c',\n",
        " u'\\u8d44\\u91d1\\u51c0\\u6d41\\u5165+\\u878d\\u8d44\\u51c0\\u4e70\\u5165 98\\u53ea\\u80a1\\u7968\\u9886\\u88545\\u6708\\u201c\\u5438\\u91d1\\u738b\\u201d',\n",
        " u'\\u6caa\\u5e02\\u5927\\u5b97\\u4ea4\\u6613\\u4fe1\\u606f(05/15)',\n",
        " u'\\u6caa\\u6307\\u4e0a\\u6da80.03% \\u521b\\u4e1a\\u677f\\u91cd\\u632b2.19%',\n",
        " u'\\u5238\\u5546\\u6700\\u65b0\\u8bc4\\u7ea7\\uff1a9\\u80a1\\u73b0\\u5f3a\\u70c8\\u6284\\u5e95\\u4fe1\\u53f7',\n",
        " u'\\u4e0b\\u5468170\\u53ea\\u4e2a\\u80a1\\u9664\\u6743\\u9664\\u606f 18\\u53ea\\u4e2a\\u80a1\\u5c06\\u9ad8\\u9001\\u8f6c',\n",
        " u'\\u654f\\u611f\\u7a97\\u53e3\\u5404\\u8def\\u5229\\u7a7a\\u9f50\\u81f3 \\u653f\\u7b56\\u5e95\\u4e0d\\u53ef\\u4fe1',\n",
        " u'\\u5348\\u540e\\u5f00\\u76d8\\uff1a\\u4e24\\u5e02\\u80a1\\u6307\\u9707\\u8361\\u8d70\\u4f4e \\u6b21\\u65b0\\u80a1\\u6d3b\\u8dc3',\n",
        " u'\\u94f6\\u884c\\u80a1\\u73b0\\u79ef\\u6781\\u5efa\\u4ed3\\u4fe1\\u53f7 \\u673a\\u6784\\u9884\\u671f\\u62a5\\u590d\\u6027\\u5927\\u53cd\\u653b',\n",
        " u'\\u9996\\u5bcc\\u674e\\u5609\\u8bda\\u7684\\u5730\\u4ea7\\u7ecf\\uff1a\\u5728\\u4f17\\u4eba\\u8d2a\\u5a6a\\u65f6\\u6050\\u60e7',\n",
        " u'\\u6caa\\u5e02\\u6d3b\\u8dc3\\u80a1\\u516c\\u5f00\\u4fe1\\u606f(A\\u80a1)(05/15)',\n",
        " u'\\u8096\\u94a2\\uff1a\\u652f\\u6301\\u6d59\\u6c5f\\u533a\\u57df\\u8d44\\u672c\\u5e02\\u573a\\u521b\\u65b0\\u8bd5\\u9a8c\\uff08\\u56fe\\uff09',\n",
        " u'\\u671f\\u6307\\u4ea4\\u5272\\u65e5\\u6216\\u8fce\\u6765\\u7b2c5\\u6b21\\u53d8\\u76d8',\n",
        " u'\\u4e00\\u5b63\\u5ea6\\u6e2f\\u4f01\\u5bf9\\u4eba\\u6c11\\u5e01\\u9700\\u6c42\\u53ca\\u4f7f\\u7528\\u73af\\u6bd4\\u51cf\\u5c11',\n",
        " u'\\u6df1\\u5733\\u6587\\u535a\\u4f1a\\u6cb3\\u5317\\u7b7e\\u7ea644\\u9879\\u76ee \\u5408\\u8ba1672\\u4ebf\\u5143',\n",
        " u'\\u5f3a\\u538b\\u4e4b\\u4e0b\\u53cd\\u5f39\\u865a\\u6643\\u4e00\\u67aa',\n",
        " u'\\u8fbe\\u5b89\\u57fa\\u56e0\\uff1a\\u516c\\u53f8\\u5df2\\u6709\\u65b0\\u578b\\u51a0\\u72b6\\u75c5\\u6bd2\\u68c0\\u6d4b\\u8bd5\\u5242',\n",
        " u'\\u6838\\u7535\\u5168\\u9762\\u5f00\\u5de5\\u7bad\\u5728\\u5f26\\u4e0a 12\\u80a1\\u91cd\\u5927\\u673a\\u9047',\n",
        " u'\\u6b63\\u5e38\\u8c03\\u6574 \\u5bfb\\u627e\\u9022\\u4f4e\\u56de\\u8865\\u673a\\u4f1a',\n",
        " u'\\u65e9\\u76d8\\u6e38\\u8d44\\u5927\\u5355\\u62a2\\u7b79\\u7684\\u524d30\\u53ea\\u4e2a\\u80a1',\n",
        " u'\\u8bc1\\u76d1\\u4f1a\\u53d1\\u5e03\\u8fdb\\u4e00\\u6b65\\u63a8\\u8fdb\\u8bc1\\u5238\\u7ecf\\u8425\\u673a\\u6784\\u521b\\u65b0\\u53d1\\u5c55\\u610f\\u89c1',\n",
        " u'\\u5168\\u7ebf\\u4e0b\\u8dcc\\u8f6c\\u60b2\\u89c2 \\u8d44\\u6e90\\u80a1\\u72ec\\u79c0\\u5f15\\u5173\\u6ce8',\n",
        " u'\\u8fde\\u7eed\\u4e0b\\u8dcc\\u524d\\u5341\\u53ea\\u4e2a\\u80a1 (\\u622a\\u6b625.14)',\n",
        " u'\\u7f8e\\u80a1\\u71c3\\u6599\\u7535\\u6c60\\u9f99\\u5934\\u4e1a\\u7ee9\\u4e0d\\u4f73 A\\u80a1\\u76f8\\u5173\\u677f\\u5757\\u6216\\u627f\\u538b',\n",
        " u'\\u957f\\u6c5f\\u7ecf\\u6d4e\\u5e26\\u5efa\\u8bbe\\u610f\\u89c1\\u671b\\u5e74\\u5185\\u51fa\\u53f0 \\u6253\\u9020\\u7acb\\u4f53\\u4ea4\\u901a\\u8d70\\u5eca',\n",
        " u'\\u6843\\u82b1\\u6c5f\\u6709\\u671b\\u6210\\u4e3a\\u9996\\u4e2a\\u5f00\\u5efa\\u5185\\u9646\\u6838\\u7535\\u7ad9 5\\u80a1\\u6216\\u7206\\u53d1',\n",
        " u'\\u7eff\\u5927\\u5730\\u865a\\u5047\\u9648\\u8ff0\\u6848\\u83b7\\u6cd5\\u9662\\u53d7\\u7406 26\\u80a1\\u6c11\\u7d22\\u8d54465\\u4e07',\n",
        " u'\\u6b27\\u5143\\u533a\\u901a\\u80c0\\u201c\\u544a\\u6025\\u201d \\u5168\\u7403\\u901a\\u7f29\\u98ce\\u9669\\u4e0a\\u5347',\n",
        " u'\\u6cf0\\u5eb7\\u4eba\\u5bff\\u9648\\u4e1c\\u5347\\u63a7\\u80a1\\u6743\\u63d0\\u5347 \\u5f15\\u53d1\\u4e0a\\u5e02\\u65f6\\u95f4\\u731c\\u6d4b',\n",
        " u'\\u65b0\\u56fd\\u4e5d\\u6761\\u5229\\u597d\\u6709\\u9650 \\u671f\\u6307\\u4e0a\\u884c\\u5c06\\u4e00\\u6ce2\\u4e09\\u6298',\n",
        " u'\\u906d\\u4e3b\\u529b\\u51fa\\u9003 10\\u80a1\\u73b0\\u65ad\\u5d16\\u5f0f\\u4e0b\\u8dcc',\n",
        " u'\\u878d\\u521b\\u62df\\u6536\\u8d2d\\u7eff\\u57ce\\u4e0d\\u8d85\\u8fc730%\\u80a1\\u4efd',\n",
        " u'\\u533b\\u836f\\u884c\\u4e1a\\u4e0b\\u8dcc1.07%  \\u5343\\u5c71\\u836f\\u673a\\u7b49\\u4e2a\\u80a1\\u8dcc\\u5e45\\u903e6%',\n",
        " u'\\u4f20\\u878d\\u521b\\u4e2d\\u56fd\\u610f\\u6b32\\u6536\\u8d2d\\u7eff\\u57ce\\u4e2d\\u56fd \\u53cc\\u53cc\\u505c\\u724c',\n",
        " u'\\u7f8e\\u8d22\\u4ea7\\u516c\\u5f00\\u6cd5\\u6216\\u5f15\\u53d1\\u201c\\u9000\\u7c4d\\u6f6e\\u201d',\n",
        " u'\\u5384\\u5c14\\u5c3c\\u8bfa\\u73b0\\u8c61\\u7ed9\\u767d\\u7cd6\\u5e26\\u6765\\u9636\\u6bb5\\u6027\\u673a\\u4f1a \\u5173\\u6ce8\\u4e24\\u80a1',\n",
        " u'\\u5c0f\\u7c73\\u7535\\u89c62\\u548c\\u5c0f\\u7c73\\u5e73\\u677f\\u53d1\\u5e03 \\u5229\\u4e9a\\u5fb7\\u7b493\\u80a1\\u7206\\u53d1\\u5728\\u5373',\n",
        " u'\\u5468\\u4e00\\u5c55\\u671b\\uff1a\\u91cd\\u70b9\\u5e03\\u5c40\\u5341\\u5927\\u677f\\u5757\\u4f18\\u8d28\\u80a1',\n",
        " u'\\u5f3a\\u52bfGDP\\u589e\\u901f\\u96be\\u6321\\u65e5\\u672c\\u80a1\\u5e02\\u5927\\u8dcc',\n",
        " u'\\u5b9e\\u529b\\u5238\\u5546\\u660e\\u65e5\\u770b\\u597d6\\u677f\\u575740\\u80a1',\n",
        " u'\\u4e0a\\u6d77\\u51ef\\u5b9d\\u75f0\\u70ed\\u6e05\\u6ce8\\u5c04\\u6db2\\u4ea7\\u54c1\\u4e2d\\u4e00\\u9879\\u4e13\\u5229\\u6743\\u7ec8\\u6b62',\n",
        " u'\\u7f8e\\u80a1\\u5348\\u76d8\\u5927\\u5e45\\u4e0b\\u632b \\u4e09\\u5927\\u80a1\\u6307\\u5747\\u8dcc\\u903e1%',\n",
        " u'\\u65e9\\u76d8\\u6e38\\u8d44\\u5927\\u5355\\u62a2\\u7b79\\u7684\\u524d30\\u53ea\\u4e2a\\u80a1(5/15)',\n",
        " u'\\u6e2f\\u80a1\\u8fde\\u5347\\u516d\\u65e5 AH\\u6298\\u4ef7\\u518d\\u5ea6\\u62c9\\u592719\\u53ea\\u84dd\\u7b79\\u80a1\\u5012\\u6302',\n",
        " u'\\u9633\\u5149\\u7535\\u6e90\\u5c06\\u53d1\\u5e03\\u65b0\\u4ea7\\u54c1SG60KTL',\n",
        " u'\\u529b\\u5408\\u80a1\\u4efd\\u8463\\u4e8b\\u4f1a\\u6362\\u5c4a\\u8d77\\u6ce2\\u6f9c \\u80a1\\u4ef7\\u60e8\\u906d\\u8dcc\\u505c',\n",
        " u'\\u7f8e\\u56fd5\\u6708\\u8d39\\u57ce\\u8054\\u50a8\\u5236\\u9020\\u4e1a\\u6307\\u6570\\u964d\\u81f315.4',\n",
        " u'\\u7f8e\\u80a1\\u5468\\u4e09\\u6536\\u4f4e \\u9053\\u6307\\u7ed3\\u675f\\u4e94\\u8fde\\u6da8',\n",
        " u'121\\u5bb6\\u516c\\u53f8\\u5373\\u5c06\\u5206\\u7ea2 \\u903e1.3\\u4ebf\\u5143\\u8ffd\\u636722\\u53ea\\u9ad8\\u9001\\u8f6c\\u80a1',\n",
        " u'\\u65e9\\u76d8\\u8d85\\u7ea7\\u8d44\\u91d1\\u589e\\u4ed3\\u7684\\u524d30\\u53ea\\u4e2a\\u80a1(5/15)',\n",
        " u'\\u845b\\u5170\\u7d20\\u53f2\\u514b\\u5728\\u534e\\u8d3f\\u8d42\\u6848\\u8d77\\u5e95\\uff1a\\u732b\\u817b\\u85cf\\u4e8e\\u8f6c\\u79fb\\u5b9a\\u4ef7',\n",
        " u'\\u4e9a\\u592a\\u80a1\\u5e02\\u5468\\u4e94\\u6536\\u76d8\\u6da8\\u8dcc\\u4e0d\\u4e00 \\u65e5\\u80a1\\u8dcc1.41%',\n",
        " u'\\u9707\\u8361\\u4e2d\\u8d44\\u91d1\\u5c0f\\u5e45\\u6d41\\u5165',\n",
        " u'\\u6b27\\u6d32\\u590d\\u5174\\u5f00\\u53d1\\u94f6\\u884c\\u5c06\\u6b27\\u6d32\\u589e\\u957f\\u9884\\u671f\\u51cf\\u534a',\n",
        " u'\\u4e3b\\u677f\\u5fae\\u6da8\\u521b\\u4e1a\\u677f\\u66b4\\u8dcc \\u5e02\\u573a\\u6025\\u76fc\\u8d44\\u91d1\\u6d3b\\u6c34',\n",
        " u'\\u91d1\\u9f99\\u9c7c\\u6bcd\\u516c\\u53f8\\u88ab\\u66dd\\u8d2d\\u5730\\u6c9f\\u6cb9 \\u65b9\\u4fbf\\u9762\\u540d\\u4f01\\u96c6\\u4f53\\u53d7\\u632b',\n",
        " u'\\u5546\\u52a1\\u90e8\\uff1a\\u4eba\\u6c11\\u5e01\\u8d2c\\u503c\\u5e76\\u4e0d\\u662f\\u4e3a\\u4e86\\u4fc3\\u8fdb\\u51fa\\u53e3',\n",
        " u'\\u6269\\u5bb9\\u538b\\u529b\\u96c6\\u4e2d\\u6765\\u88ad \\u6caa\\u6df1\\u80a1\\u6307\\u53cc\\u53cc\\u4e0b\\u632b',\n",
        " u'APEC\\u8d38\\u6613\\u90e8\\u957f\\u4f1a\\u8bae17\\u65e5\\u53ec\\u5f00 \\u5173\\u6ce8\\u4e09\\u5927\\u8bae\\u9898',\n",
        " u'(05/15)\\u665a\\u95f4\\u6caa\\u6df1\\u4e0a\\u5e02\\u516c\\u53f8\\u91cd\\u5927\\u4e8b\\u9879\\u516c\\u544a\\u6700\\u65b0\\u5feb\\u9012',\n",
        " u'\\u6b21\\u65b0\\u80a1\\u76d8\\u4e2d\\u6301\\u7eed\\u53d1\\u529b \\u6c47\\u91d1\\u80a1\\u4efd\\u8fde\\u7eed\\u4e09\\u6da8\\u505c',\n",
        " u'\\u62df\\u52df5\\u4ebf\\u6536\\u8d2d\\u4e24\\u8d44\\u4ea7 \\u6c49\\u5a01\\u7535\\u5b50\\u6da8\\u505c',\n",
        " u'\\u5546\\u52a1\\u90e8\\uff1a\\u57fa\\u4e8e\\u56db\\u4e2a\\u56e0\\u7d20 \\u5bf9\\u5e74\\u5185\\u5916\\u8d38\\u5f62\\u52bf\\u4fdd\\u6301\\u4e50\\u89c2',\n",
        " u'\\u623f\\u5730\\u4ea7\\u884c\\u4e1a\\uff1a\\u4ece\\u91cf\\u53d8\\u5230\\u8d28\\u53d8',\n",
        " u'\\u5c0f\\u578b\\u65b0\\u80a1\\u62db\\u80a1\\u706b\\u70ed \\u78a7\\u7476\\u516c\\u5f00\\u53d1\\u552e\\u8d85\\u8d2d400\\u500d',\n",
        " u'\\u4e1c\\u5174\\u8bc1\\u5238\\uff1a\\u7ed9\\u4e88\\u5927\\u51b7\\u80a1\\u4efd\\u201c\\u63a8\\u8350\\u201d\\u8bc4\\u7ea7',\n",
        " u'\\u8fdb\\u53e3\\u539f\\u6cb9\\u4f7f\\u7528\\u6743\\u7ec6\\u5219\\u51fa\\u53f0\\u5728\\u5373 \\u6709\\u6d77\\u5916\\u8d44\\u6e90\\u516c\\u53f8\\u53d7\\u76ca',\n",
        " u'\\u4e16\\u754c\\u6700\\u5927\\u84dd\\u94bb2400\\u4e07\\u7f8e\\u5143\\u62cd\\u51fa \\u884c\\u5bb6\\u79f0\\u662f\\u6781\\u54c1(\\u56fe)',\n",
        " u'\\u4eca\\u5e74\\u4e00\\u5b63\\u5ea6\\u4e0a\\u6d77\\u5883\\u5916\\u6295\\u8d44\\u91cd\\u5927\\u9879\\u76ee\\u5927\\u5e45\\u589e\\u957f',\n",
        " u'\\u623f\\u5730\\u4ea7\\u677f\\u5757\\u5c0f\\u5e45\\u4e0a\\u6da8 \\u540c\\u8fbe\\u521b\\u4e1a\\u903c\\u8fd1\\u6da8\\u505c',\n",
        " u'(5/15)\\u5341\\u5927\\u535a\\u6587\\u7cbe\\u7cb9\\uff1a\\u4e09\\u8fde\\u9634\\u540e\\u5c06\\u5982\\u4f55\\u6f14\\u53d8\\uff1f',\n",
        " u'\\u767e\\u5229\\u79d1\\u6280IPO\\uff1a\\u589e\\u6536\\u4e0d\\u589e\\u5229 \\u201c\\u517b\\u5bb6\\u7cca\\u53e3\\u201d\\u9760\\u5355\\u4e00\\u5ba2\\u6237',\n",
        " u'\\u5ddd\\u6295\\u80fd\\u6e90\\uff1a\\u9884\\u8ba1\\u96c5\\u783b\\u6c5f\\u6c34\\u7535\\u4eca\\u5e74\\u5229\\u6da6\\u5c06\\u8fbe40\\u4ebf',\n",
        " u'\\u4e0a\\u4ea4\\u6240\\u8868\\u6001\\u4e3a\\u884c\\u60c5\\u7eed\\u547d \\u53cc\\u661f\\u85cf\\u91cd\\u5927\\u53d8\\u76d8\\u4fe1\\u53f7',\n",
        " u'\\u5c0f\\u7c73\\u53d1\\u5e03\\u5c0f\\u7c73\\u5e73\\u677f\\u53ca\\u5c0f\\u7c73\\u7535\\u89c62 3S\\u624b\\u673a\\u7f3a\\u5e2d',\n",
        " u'\\u673a\\u6784\\u51b7\\u843d\\u80a1\\u903e\\u4e09\\u6210\\u9006\\u52bf\\u98de\\u5347 8\\u53ea\\u9f99\\u5934\\u72c2\\u98da\\u8d8520%',\n",
        " u'\\u65b0\\u201c\\u56fd\\u4e5d\\u6761\\u201d\\u51fa\\u9798 \\u5251\\u6307\\u91cd\\u5efa\\u5e02\\u573a\\u4fe1\\u7528',\n",
        " u'\\u7a46\\u8fea\\uff1a\\u4e2d\\u56fd\\u4eca\\u660e\\u5e74\\u4ecd\\u5c06\\u662f\\u589e\\u957f\\u6700\\u5feb\\u56fd\\u4e4b\\u4e00',\n",
        " u'\\u5efa\\u7b51\\u548c\\u5de5\\u7a0b\\u884c\\u4e1a\\uff1a\\u94c1\\u8def\\u5168\\u9762\\u8f93\\u51fa\\u5f00\\u542f',\n",
        " u'15\\u65e5\\u6700\\u5177\\u7206\\u53d1\\u529b\\u516d\\u5927\\u725b\\u80a1(\\u540d\\u5355)',\n",
        " u'\\u521b\\u4e1a\\u677f\\u6539\\u9769\\u964d\\u4f4e\\u8d22\\u52a1\\u51c6\\u5165 VC/PE\\u6295\\u9000\\u7b56\\u7565\\u751f\\u53d8',\n",
        " u'\\u4e09\\u56e0\\u81f4\\u5e02\\u573a\\u4f4e\\u8ff7 \\u4e2d\\u7ebf\\u5e03\\u5c40\\u5fae\\u523a\\u6fc0\\u884c\\u4e1a',\n",
        " u'\\u4e2d\\u56fd\\u79fb\\u52a8\\u5ba3\\u5e03\\u5927\\u5e45\\u4e0b\\u8c034G\\u8d44\\u8d39 \\u6b66\\u6c49\\u51e1\\u8c37\\u6da8\\u505c',\n",
        " u'\\u4e09\\u56e0\\u7d20\\u7838\\u76d8  \\u63ed\\u79d8A\\u80a1\\u5927\\u8dcc',\n",
        " u'Facebook\\u6216\\u5317\\u4eac\\u8bbe\\u7acb\\u9500\\u552e\\u529e\\u516c\\u5ba4',\n",
        " u'\\u65e9\\u76d8\\u6e38\\u8d44\\u5927\\u5355\\u629b\\u552e\\u7684\\u524d30\\u53ea\\u4e2a\\u80a1',\n",
        " u'\\u6210\\u4ea4\\u91cf\\u7a81\\u589e\\u524d\\u5341\\u53ea\\u4e2a\\u80a1 (\\u622a\\u6b625.15)',\n",
        " u'\\u6caa\\u6df1B\\u6307\\u53cc\\u53cc\\u6536\\u8dcc \\u6caa\\u5e02B\\u6307\\u8dcc\\u5e45\\u4e3a0.32%',\n",
        " u'\\u4e24\\u5e02\\u6d41\\u901a\\u5e02\\u503c\\u80a1\\u524d\\u4e8c\\u5341\\u53ea\\u4e2a\\u80a1\\u5e02\\u573a\\u8868\\u73b0(\\u622a\\u6b625.14)',\n",
        " u'\\u91cd\\u78c5\\u6570\\u636e\\u5c06\\u81f3 \\u5468\\u56db\\u6b27\\u80a1\\u5e73\\u5f00',\n",
        " u'\\u4eca\\u65e5\\u4e24\\u5e02\\u6e38\\u8d44\\u5f00\\u59cb\\u64a4\\u9000\\u768430\\u53ea\\u4e2a\\u80a1(5/15)',\n",
        " u'5\\u670815\\u65e5\\u65e9\\u95f4\\u6df1\\u5e02\\u4e3b\\u677f\\u516c\\u544a\\u6c47\\u603b',\n",
        " u'\\u82f1\\u56fd\\u4e00\\u5ba2\\u673a\\u98de\\u884c\\u65f6\\u673a\\u7ffc\\u90e8\\u5206\\u7a81\\u7136\\u6389\\u843d \\u88ab\\u8feb\\u8fd4\\u822a',\n",
        " u'\\u8bc1\\u76d1\\u4f1a\\u518d\\u53d18\\u5bb6IPO\\u9884\\u62ab\\u9732\\u540d\\u5355 \\u603b\\u6570\\u8fbe336\\u5bb6',\n",
        " u'\\u7f8e\\u56fd4\\u6708\\u751f\\u4ea7\\u8005\\u7269\\u4ef7\\u6307\\u6570\\u73af\\u6bd4\\u589e\\u957f0.6%',\n",
        " u'\\u4e24\\u90e8\\u59d4\\u53d1\\u6587\\u5bf9\\u50a8\\u5907\\u5927\\u8c46\\u5b9e\\u884c\\u514d\\u5f81\\u589e\\u503c\\u7a0e\\u653f\\u7b56',\n",
        " u'\\u9884\\u9632\\u5f0f\\u62c9\\u5347\\u6210\\u5e38\\u6001 \\u8010\\u5fc3\\u4f4e\\u5438\\u4e00\\u7c7b\\u80a1',\n",
        " u'\\u521b\\u4e1a\\u677f\\u62d6\\u7d2fA\\u80a1 \\u77ed\\u671f\\u5e02\\u573a\\u96be\\u4ee5\\u626d\\u8f6c\\u9893\\u52bf',\n",
        " u'\\u6caa\\u6307\\u8dcc1.12%\\u783410\\u65e5\\u7ebf \\u4e3b\\u529b\\u7838\\u76d8\\u85cf\\u771f\\u6b63\\u610f\\u56fe',\n",
        " u'5\\u5927\\u5238\\u554616\\u65e5\\u770b\\u597d6\\u677f\\u575740\\u80a1',\n",
        " u'\\u8fc7\\u5c71\\u8f66\\u884c\\u60c5 \\u5f3a\\u538b\\u4e4b\\u4e0b\\u53cd\\u5f39\\u865a\\u6643\\u4e00\\u67aa',\n",
        " u'\\u4e24\\u5e02\\u4f4e\\u8ff7\\u6743\\u91cd\\u80a1\\u4e4f\\u529b \\u5e02\\u573a\\u9759\\u5f85\\u4e3b\\u6d41\\u70ed\\u70b9',\n",
        " u'\\u4e1c\\u8f6f\\u96c6\\u56e2\\uff1a\\u671f\\u5f85IT\\u89e3\\u51b3\\u65b9\\u6848\\u9f99\\u5934\\u7684\\u817e\\u98de',\n",
        " u'\\u6301\\u7eed\\u7f29\\u91cf\\u524d\\u5341\\u53ea\\u4e2a\\u80a1\\u5e02\\u573a\\u8868\\u73b0(\\u622a\\u6b625.14)',\n",
        " u'\\u8bc1\\u76d1\\u4f1a\\uff1a\\u5efa\\u8bbe\\u73b0\\u4ee3\\u6295\\u8d44\\u94f6\\u884c \\u63a8\\u8fdb\\u8bc1\\u5238\\u673a\\u6784\\u521b\\u65b0\\u53d1\\u5c55',\n",
        " u'\\u91d1\\u878d\\u80a1\\u7ee7\\u7eed\\u83b7\\u878d\\u8d44\\u8d44\\u91d1\\u8ffd\\u6367',\n",
        " u'\\u7f8e\\u80a1\\u5168\\u7ebf\\u56de\\u843d \\u91d1\\u4ef7\\u7a81\\u78341300\\u7f8e\\u5143',\n",
        " u'\\u7f29\\u91cf\\u9707\\u8361 \\u5c3e\\u76d8\\u91d1\\u94a9\\u900f\\u9732\\u4e3b\\u529b\\u9633\\u8c0b',\n",
        " u'\\u4ece\\u53d6\\u6d88\\u7ea2\\u5229\\u7a0e\\u5370\\u82b1\\u7a0e\\u5f00\\u59cb',\n",
        " u'\\u5929\\u534e\\u8d85\\u51c0IPO\\uff1a\\u9ad8\\u65b0\\u4f01\\u4e1a\\u201c\\u5b58\\u7591\\u201d \\u7efc\\u5408\\u6bdb\\u5229\\u7387\\u8fde\\u7eed5\\u5e74\\u4e0b\\u6ed1',\n",
        " u'\\u4e2d\\u65b9\\u5c31\\u4e2d\\u56fd\\u5728\\u8d8a\\u4f01\\u4e1a\\u906d\\u4e25\\u91cd\\u66b4\\u529b\\u88ad\\u51fb\\u63d0\\u51fa\\u4e25\\u6b63\\u6297\\u8bae',\n",
        " u'\\u534a\\u65e5\\u4e3b\\u529b\\u8d44\\u91d1\\u51c0\\u6d41\\u51fa\\u524d\\u5341\\u4e2a\\u80a1(5/15)',\n",
        " u'\\u4e2d\\u65e5\\u97e9\\u81ea\\u8d38\\u533a\\u8fc8\\u5c0f\\u6b65\\u8c08\\u5224\\u9762\\u4e34\\u5fae\\u5999\\u653f\\u6cbb\\u535a\\u5f08',\n",
        " u'\\u4e07\\u79d1\\uff1a\\u6e2f\\u4ea4\\u6240\\u9884\\u8ba1\\u4e8e20\\u65e5\\u5ba1\\u8bae\\u516c\\u53f8B\\u80a1\\u8f6cH\\u80a1\\u7533\\u8bf7',\n",
        " u'\\u98df\\u54c1\\u68c0\\u6d4b\\u6982\\u5ff5\\u6216\\u518d\\u53d7\\u9752\\u7750',\n",
        " u'\\u5e73\\u6de1\\u5e02\\u6216\\u6210\\u201c\\u767d\\u9a6c\\u80a1\\u201d\\u6e29\\u5e8a',\n",
        " u'\\u4eac\\u6d25\\u5180\\u6982\\u5ff5\\u5348\\u540e\\u8d70\\u5f3a \\u5eca\\u574a\\u53d1\\u5c55\\u6da8\\u8fd18%',\n",
        " u'5\\u5927\\u5238\\u5546\\u5468\\u4e94\\u770b\\u597d6\\u677f\\u575740\\u80a1',\n",
        " u'\\u5de5\\u4fe1\\u90e8\\u63a8\\u52a8\\u8282\\u6c34\\u88c5\\u5907\\u4ea7\\u4e1a\\u5316 \\u52a0\\u5f3a\\u5de5\\u4e1a\\u7528\\u6c34\\u8282\\u7ea6',\n",
        " u'\\u9686\\u5e73\\u9ad8\\u79d1\\uff1a\\u7a33\\u6b65\\u5411\\u4e2d\\u56fd\\u79cd\\u4e1a\\u822a\\u6bcd\\u8fc8\\u8fdb',\n",
        " u'\\u5b9a\\u589e7.8\\u4ebf \\u5347\\u8fbe\\u6797\\u4e1a\\u52a0\\u7801\\u8f6c\\u578b\\u5929\\u7136\\u6c14',\n",
        " u'\\u5468\\u56db\\u7968\\u636e\\u8f6c\\u8d34\\u5229\\u7387\\u548c\\u7968\\u636e\\u76f4\\u8d34\\u5229\\u7387\\u4f01\\u7a33\\u53cd\\u5f39',\n",
        " u'\\u4e24\\u5e02\\u4f4e\\u5e02\\u76c8\\u7387\\u524d\\u4e8c\\u5341\\u53ea\\u4e2a\\u80a1\\u5e02\\u573a\\u8868\\u73b0(\\u622a\\u6b625.15)',\n",
        " u'\\u77ed\\u671f\\u80a1\\u6307\\u6216\\u8fdb\\u4e00\\u6b65\\u4e0b\\u6ed1 \\u4e0b\\u884c\\u7a7a\\u95f4\\u9884\\u8ba1\\u6709\\u9650',\n",
        " u'\\u673a\\u6784\\u9009\\u79c01410\\u53ea\\u6f5c\\u529b\\u80a1 \\u4e09\\u884c\\u4e1a\\u5165\\u9009\\u7387\\u8d85\\u516b\\u6210',\n",
        " u'\\u4e16\\u5609\\u79d1\\u6280\\u6570\\u636e\\u6e90\\u4e8e8\\u5e74\\u524d \\u5927\\u5ba2\\u6237\\u8fde\\u5e74\\u4e8f\\u635f\\u81ea\\u8eab\\u96be\\u4fdd',\n",
        " u'A\\u80a1\\u5e95\\u90e8\\u7279\\u5f81\\u660e\\u663e',\n",
        " u'\\u5c71\\u4e1c\\u4e0a\\u5e02\\u516c\\u53f8\\u518d\\u6dfb\\u65b0\\u519b \\u5c71\\u4e1c\\u9f99\\u5927\\u4eca\\u65e5\\u901a\\u8fc7\\u53d1\\u5ba1\\u4f1a\\u5ba1\\u6838',\n",
        " u'\\u65b0\\u56fd\\u4e5d\\u6761\\u4f20\\u9012\\u8d85\\u80fd\\u91cf \\u4e09\\u5927\\u671f\\u4ea4\\u6240\\u7ed8\\u672a\\u6765\\u84dd\\u56fe',\n",
        " u'\\u5927\\u5510\\u56fd\\u9645\\u5316\\u5de5\\u7814\\u7a76\\u9662\\u65b0\\u578b\\u7164\\u5316\\u5de5\\u50ac\\u5316\\u5242\\u7814\\u5236\\u6210\\u529f',\n",
        " u'5\\u670815\\u65e5\\u56fd\\u5185\\u56db\\u5927\\u8bc1\\u5238\\u62a5\\u7eb8\\u5934\\u7248\\u5934\\u6761\\u5185\\u5bb9\\u7cbe\\u534e\\u6458\\u8981',\n",
        " u'\\u673a\\u68b0\\u677f\\u5757\\u5c0f\\u5e45\\u4e0b\\u8dcc0.33%  \\u5e38\\u6797\\u80a1\\u4efd\\u9006\\u52bf\\u4e0a\\u6da8',\n",
        " u'5\\u670815\\u65e5\\u65e9\\u95f4\\u91cd\\u8981\\u6570\\u636e\\u65b0\\u95fb\\u4e00\\u89c8',\n",
        " u'19\\u65e5\\u673a\\u6784\\u5f3a\\u63a8\\u4e70\\u5165 6\\u80a1\\u6781\\u5ea6\\u4f4e\\u4f30',\n",
        " u'\\u5149\\u97f5\\u8fbe\\u6d89\\u8db33D\\u6253\\u5370\\u533b\\u5b66\\u5e94\\u7528 \\u80a1\\u4ef7\\u6da8\\u505c',\n",
        " u'8\\u53ea\\u80a1\\u7968\\u83ab\\u540d\\u8df3\\u6c34 \\u81ea\\u7136\\u4eba\\u80a1\\u4e1c\\u633a\\u624e\\u773c',\n",
        " u'\\u65b0\\u6d77\\u5b9c\\u5b50\\u516c\\u53f8\\u7b7e\\u603b\\u4ef79090\\u4e07\\u5143\\u91c7\\u8d2d\\u5408\\u540c',\n",
        " u'\\u4e3b\\u529b\\u8d44\\u91d1\\u51c0\\u6d41\\u5165\\u6700\\u591a\\u4e94\\u5927\\u677f\\u5757(5/16)',\n",
        " u'\\u7f8e\\u80a1\\u4e09\\u4e3b\\u9898\\uff1a\\u503a\\u5238\\u6536\\u76ca\\u7387\\u3001\\u8d44\\u672c\\u652f\\u51fa\\u548c\\u975e\\u7406\\u6027\\u629b\\u552e',\n",
        " u'\\u666e\\u4eac\\u5c06\\u8bbf\\u95ee\\u4e2d\\u56fd \\u519b\\u5de5\\u80a1\\u8fce\\u5927\\u793c(\\u9644\\u80a1)',\n",
        " u'\\u7a7a\\u5934\\u84c4\\u52bf\\u53cd\\u538b \\u5411\\u4e0b\\u5bfb\\u6c42\\u652f\\u6491',\n",
        " u'\\u4e24\\u5e02\\u65e9\\u76d8\\u6da8\\u8dcc\\u4e0d\\u4e00 \\u521b\\u4e1a\\u677f\\u6307\\u91cd\\u632b\\u8fd13%',\n",
        " u'\\u5bbd\\u5e26\\u4e2d\\u56fd\\u5168\\u65b0\\u84dd\\u56fe\\u786e\\u5b9a 10\\u80a1\\u6700\\u5927\\u8d62\\u5bb6',\n",
        " u'\\u8868\\u73b0\\u504f\\u5f31 \\u7b49\\u5f85\\u65b0\\u673a\\u4f1a',\n",
        " u'\\u6d77\\u901a\\u8bc1\\u5238\\uff1a\\u7ef4\\u6301\\u9526\\u9f99\\u80a1\\u4efd\\u201c\\u4e70\\u5165\\u201d\\u8bc4\\u7ea7',\n",
        " u'\\u5546\\u52a1\\u90e8\\uff1a4\\u6708\\u8fdb\\u51fa\\u53e3\\u6b63\\u589e\\u957f\\u662f\\u5f62\\u52bf\\u4f7f\\u7136',\n",
        " u'\\u822a\\u5929\\u519b\\u5de5\\u677f\\u5757\\u5f3a\\u52bf\\u62c9\\u5347 \\u535a\\u4e91\\u65b0\\u6750\\u6da8\\u505c',\n",
        " u'\\u5357\\u56fd\\u7f6e\\u4e1a\\uff1a\\u5df2\\u9884\\u53d7\\u8981\\u7ea6\\u80a1\\u4efd\\u5408\\u8ba11.07\\u4ebf\\u80a1',\n",
        " u'\\u4f20\\u6587\\u5316\\u4e2d\\u56fd\\u5185\\u5e55\\u4ea4\\u6613\\u6d89\\u53caA\\u80a1\\u534e\\u7b56\\u4f20\\u5a92\\u80a1\\u4e1c\\u4e4b\\u4e00',\n",
        " u'\\u4ece\\u8d44\\u6e90\\u80a1\\u7684\\u5468\\u7ebfMACD\\u5e95\\u80cc\\u79bb\\u80fd\\u5f97\\u51fa\\u4ec0\\u4e48\\u542f\\u793a\\uff1f',\n",
        " u'\\u4e9a\\u4fe1\\u5cf0\\u4f1a\\u5373\\u5c06\\u4e3e\\u884c \\u5b89\\u9632\\u6982\\u5ff5\\u80a1\\u503c\\u5f97\\u5173\\u6ce8\\uff08\\u9644\\u80a1\\uff09',\n",
        " u'\\u5c71\\u897f\\u5c06\\u4e8e\\u8fd1\\u671f\\u51fa\\u53f0\\u7164\\u70ad\\u6551\\u5e02\\u201c17\\u6761\\u201d\\u65b0\\u653f',\n",
        " u'\\u5238\\u5546\\u7b49\\u7838\\u76d8\\u94f6\\u884c\\u80a1\\u201c\\u65e0\\u529b\\u201d \\u5927\\u76d8\\u4e0b\\u8dcc\\u900f\\u9732\\u4e09\\u4fe1\\u53f7',\n",
        " u'4\\u6708\\u4f4f\\u6237\\u5b58\\u6b3e\\u6d41\\u59311.23\\u4e07\\u4ebf\\u5143\\uff1a\\u94f6\\u884c\\u5b58\\u6b3e\\u5438\\u5f15\\u529b\\u964d\\u4f4e',\n",
        " u'\\u5b8b\\u536b\\u5e73\\uff1a\\u7eff\\u57ce\\u8db3\\u7403\\u4f9d\\u7136\\u59d3\\u5b8b \\u9a6c\\u4e91\\u5c06\\u957f\\u671f\\u5360\\u80a149%',\n",
        " u'\\u6b27\\u94f6\\u964d\\u606f\\u9884\\u671f\\u63a8\\u5347\\u5168\\u7403\\u503a\\u5e02 \\u7f8e\\u503a\\u5347\\u81f3\\u534a\\u5e74\\u9ad8\\u4f4d',\n",
        " u'5\\u670816\\u65e5\\u4eba\\u6c11\\u5e01\\u5373\\u671f\\u6c47\\u7387\\u5f00\\u76d8\\u62a56.2270 \\u5347\\u503c36\\u4e2a\\u57fa\\u70b9',\n",
        " u'\\u518d\\u6b21\\u6d4b\\u8bd52000\\u70b9\\u652f\\u6491',\n",
        " u'\\u534e\\u590f\\u57fa\\u91d1\\u5426\\u8ba4\\u534e\\u590f\\u5927\\u76d8\\u88ab\\u67e5 \\u738b\\u4e9a\\u4f1f\\u5f0f\\u795e\\u8bdd\\u96be\\u518d\\u73b0',\n",
        " u'\\u5de5\\u4fe1\\u90e8\\u9f13\\u52b1\\u53d1\\u5c55\\u7eff\\u8272\\u8f6e\\u80ce \\u76f8\\u5173\\u6982\\u5ff5\\u80a1\\u503c\\u5f97\\u5173\\u6ce8',\n",
        " u'\\u822a\\u7a7a\\u677f\\u5757\\u8868\\u73b0\\u5f3a\\u52bf \\u6d2a\\u90fd\\u822a\\u7a7a\\u4e0a\\u6da8\\u903e3%',\n",
        " u'\\u63a8\\u534a\\u4ef7\\u80a1\\u6743\\u6fc0\\u52b1 \\u4e2d\\u6052\\u7535\\u6c14\\u51b2\\u51fb\\u6da8\\u505c',\n",
        " u'\\u5e02\\u573a\\u5bf9\\u6269\\u5bb9\\u7684\\u62c5\\u5fe7\\u52a0\\u901f\\u5347\\u6e29',\n",
        " u'2000\\u70b9\\u6210\\u5173\\u952e\\u652f\\u6491 \\u653f\\u7b56\\u5e95\\u518d\\u7ecf\\u8003\\u9a8c',\n",
        " u'\\u8010\\u5fc3\\u4f4e\\u5438\\u4e09\\u7c7b\\u80a1',\n",
        " u'\\u4e3b\\u529b\\u8d44\\u91d1\\u51c0\\u6d41\\u5165\\u6700\\u591a10\\u80a1(5/15)',\n",
        " u'\\u671f\\u6307\\u51c0\\u7a7a\\u5355\\u8fde\\u521b\\u65b0\\u9ad8 IF1406\\u7a7a\\u5934\\u4f18\\u52bf\\u52a0\\u5927',\n",
        " u'\\u7f8e\\u6b27\\u80a1\\u5e02\\u9ad8\\u4f4d\\u201c\\u6025\\u5239\\u8f66\\u201d',\n",
        " u'\\u623f\\u5730\\u4ea7\\u677f\\u5757\\u8dcc\\u5e45\\u8fd11% \\u534e\\u8fdc\\u5730\\u4ea7\\u9886\\u8dcc',\n",
        " u'\\u201c\\u6253\\u5de5\\u7687\\u5e1d\\u201d\\u970d\\u5efa\\u5b81\\u53cd\\u5bf9\\u5411\\u5357\\u65b9\\u7535\\u7f51\\u4e70\\u7535',\n",
        " u'\\u7f8e\\u56fd\\u4e0a\\u5468\\u521d\\u8bf7\\u5931\\u4e1a\\u91d1\\u4eba\\u6570\\u51cf\\u5c112.4\\u4e07\\u4eba',\n",
        " u'\\u5e73\\u5a92\\u53ca\\u4e92\\u8054\\u7f51\\u884c\\u4e1a\\u5468\\u62a5\\uff1a\\u5916\\u5ef6\\u521b\\u65b0\\u5e03\\u5c40\\u529b\\u5ea6\\u52a0\\u5927',\n",
        " u'\\u5238\\u5546\\u80a1\\u6740\\u8dcc \\u4e24\\u5e02\\u5feb\\u901f\\u4e0b\\u632b\\u6df1\\u6210\\u6307\\u8dcc\\u903e1%',\n",
        " u'\\u6cdb\\u5317\\u90e8\\u6e7e\\u7ecf\\u6d4e\\u5408\\u4f5c\\u8bba\\u575b\\u4eca\\u65e5\\u53ec\\u5f00 \\u5173\\u6ce8\\u5e7f\\u897f\\u672c\\u5730\\u80a1',\n",
        " u'\\u903e\\u4ebf\\u5143\\u5927\\u5355\\u62a2\\u5165\\u84dd\\u5b9d\\u77f3\\u6982\\u5ff5 6\\u53ea\\u4e2a\\u80a1\\u8fce\\u871c\\u6708\\u671f',\n",
        " u'\\u6df1\\u5733\\u8bc1\\u5238\\u5e02\\u573a\\u5c01\\u95ed\\u5f0f\\u57fa\\u91d1\\u4ea4\\u6613\\u516c\\u5f00\\u4fe1\\u606f(05/15)',\n",
        " u'\\u77ed\\u671f\\u5e02\\u573a\\u627f\\u538b \\u7ee7\\u7eed\\u5f31\\u52bf\\u6574\\u7406',\n",
        " u'\\u6697\\u85cf\\u66b4\\u6da8\\u56e0\\u5b50\\uff1a13\\u80a1\\u62c9\\u5347\\u5728\\u5373',\n",
        " u'\\u53f0\\u6e7e\\u6bcd\\u4eb2\\u8282\\u53c2\\u8bbf\\u56e2\\u8003\\u5bdf \\u8425\\u53e3\\u6e2f\\u5927\\u5e45\\u4e0a\\u6da8',\n",
        " u'\\u5b9d\\u5229\\u6765\\u8c6a\\u8d4c\\u624b\\u6e38 \\u80a1\\u4ef7\\u8dcc\\u540e\\u518d\\u8dcc',\n",
        " u'5\\u5927\\u5238\\u554615\\u65e5\\u770b\\u597d6\\u677f\\u575729\\u80a1',\n",
        " u'2014\\u5e74\\u4e16\\u754c\\u7535\\u4fe1\\u65e5\\u5927\\u4f1a\\u5728\\u4eac\\u4e3e\\u884c \\u5f20\\u5cf0\\u51fa\\u5e2d\\u4f1a\\u8bae',\n",
        " u'\\u65e5\\u672c\\u9996\\u5b63GDP\\u5f3a\\u52b2\\u53cd\\u5f39 \\u6446\\u8131\\u901a\\u7f29\\u8a00\\u4e4b\\u5c1a\\u65e9',\n",
        " u'\\u623f\\u5730\\u4ea7\\u8c03\\u6574\\u62c5\\u5fe7\\u52a0\\u5267 \\u5bf9\\u51b2\\u653f\\u7b56\\u53ef\\u671f',\n",
        " u'\\u5927\\u578b\\u5ba2\\u673a\\u65b0\\u7a81\\u7834 \\u822a\\u7a7a\\u80a1\\u96c6\\u4f53\\u8d70\\u5f3a',\n",
        " u'\\u4e2d\\u4fc4\\u5c31\\u5929\\u7136\\u6c14\\u4ef7\\u683c\\u4ea4\\u6362\\u610f\\u89c1 \\u71c3\\u6c14\\u7c7b\\u4e2a\\u80a1\\u6025\\u901f\\u4e0a\\u6da8',\n",
        " u'\\u5546\\u52a1\\u90e8\\uff1a4\\u6708\\u5b9e\\u9645\\u5916\\u5546\\u76f4\\u63a5\\u6295\\u8d44\\uff08FDI\\uff09\\u540c\\u6bd4\\u589e3.4%',\n",
        " u'\\u56fd\\u52a1\\u9662\\uff1a\\u5bf9\\u670d\\u52a1\\u51fa\\u53e3\\u5b9e\\u884c\\u96f6\\u7a0e\\u7387\\u6216\\u514d\\u7a0e',\n",
        " u'6\\u4ebf\\u5e76\\u8d2d\\u56ed\\u6797\\u7eff\\u5316\\u4f01\\u4e1a \\u7f8e\\u6668\\u79d1\\u6280\\u518d\\u5ea6\\u6da8\\u505c',\n",
        " u'(05/16)\\u4e0b\\u5468\\u6caa\\u6df1\\u4e0a\\u5e02\\u516c\\u53f8\\u91cd\\u5927\\u4e8b\\u9879\\u516c\\u544a\\u6700\\u65b0\\u5feb\\u9012',\n",
        " u'\\u4e0a\\u5e02\\u94f6\\u884c\\u9ad8\\u7ba1\\u9996\\u6b21\\u96c6\\u4f53\\u8d2d\\u5165\\u81ea\\u5bb6\\u80a1\\u7968 \\u4f20\\u9012\\u79ef\\u6781\\u4fe1\\u53f7',\n",
        " u'\\u5434\\u6653\\u7075\\uff1a\\u8ba9\\u6240\\u6709\\u7684\\u8d22\\u4ea7\\u548c\\u6743\\u76ca\\u8bc1\\u5238\\u5316(\\u56fe)',\n",
        " u'\\u66dd\\u5b8b\\u536b\\u5e73\\u9000\\u51fa\\u7eff\\u57ce\\u4e2d\\u56fd \\u9a6c\\u4e91\\u4e2a\\u4eba\\u8eab\\u4efd\\u6536\\u8d2d\\u7403\\u961f',\n",
        " u'\\u6cb9\\u6539\\u6982\\u5ff5\\u5f15\\u5173\\u6ce8',\n",
        " u'5\\u670815\\u65e5\\u65e9\\u95f4\\u4e2d\\u5c0f\\u677f\\u516c\\u544a\\u6c47\\u603b',\n",
        " u'\\u5927\\u884c\\u5bf9\\u4e2d\\u56fd\\u7ecf\\u6d4e\\u8f6c\\u60b2\\u89c2 \\u745e\\u94f6\\u770b\\u6de1\\u4e2d\\u8d44\\u80a1',\n",
        " u'\\u4fc4\\u7f57\\u65af\\u629b\\u552e20%\\u7f8e\\u56fd\\u56fd\\u503a\\u6301\\u4ed3',\n",
        " u'\\u4e07\\u5b89\\u79d1\\u6280\\u5c01\\u6da8\\u505c \\u8239\\u8236\\u677f\\u5757\\u8868\\u73b0\\u5f3a\\u52bf',\n",
        " u'\\u82cf\\u4ea4\\u79d1\\u53d1\\u884c\\u80a1\\u4efd\\u8d2d\\u4e70\\u8d44\\u4ea7\\u7533\\u8bf7\\u83b7\\u53d7\\u7406',\n",
        " u'\\u91d1\\u878d\\u884d\\u751f\\u54c1\\u7684\\u53d1\\u5c55\\u903b\\u8f91',\n",
        " u'\\u514b\\u5f3a\\u6307\\u6570\\u663e\\u793a\\u7ecf\\u6d4e\\u627f\\u538b \\u6df1\\u5316\\u6539\\u9769\\u4e2dPE\\u673a\\u9047\\u4f55\\u5728',\n",
        " u'\\u6301\\u7eed\\u653e\\u91cf\\u524d\\u5341\\u53ea\\u4e2a\\u80a1\\u5e02\\u573a\\u8868\\u73b0(\\u622a\\u6b625.15)',\n",
        " u'\\u673a\\u6784\\u6700\\u65b0\\u52a8\\u5411\\u63ed\\u793a \\u5468\\u4e00\\u6316\\u63988\\u53ea\\u9ed1\\u9a6c\\u80a1',\n",
        " u'5\\u670816\\u65e5\\u65e9\\u95f4\\u91cd\\u8981\\u6570\\u636e\\u65b0\\u95fb\\u4e00\\u89c8',\n",
        " u'\\u63a2\\u8def\\u8005\\uff1a\\u7ecf\\u8425\\u826f\\u597d \\u6218\\u7565\\u63a8\\u8fdb',\n",
        " u'\\u666e\\u4eac\\u5c06\\u5bf9\\u4e2d\\u56fd\\u8fdb\\u884c\\u56fd\\u4e8b\\u8bbf\\u95ee \\u519b\\u5de5\\u80a1\\u6709\\u671b\\u8fce\\u201c\\u5927\\u793c\\u201d',\n",
        " u'\\u4eba\\u6c11\\u5e01\\u5373\\u671f\\u6c47\\u7387\\u5f00\\u76d8\\u62a56.2270 \\u5347\\u503c36\\u4e2a\\u57fa\\u70b9',\n",
        " u'\\u5929\\u6d25\\u4eba\\u5747\\u6536\\u5165\\u5c45\\u5168\\u56fd\\u4e4b\\u9996 GDP\\u5c06\\u4e8e2015\\u5e74\\u8d85\\u8d8a\\u9999\\u6e2f',\n",
        " u'A\\u80a1\\u5e73\\u6de1\\u5e02\\u6216\\u6210\\u201c\\u767d\\u9a6c\\u80a1\\u201d\\u6e29\\u5e8a',\n",
        " u'\\u521b\\u65b0\\u5927\\u4f1a\\u4eca\\u53ec\\u5f00 \\u5238\\u5546\\u80a1\\u53d7\\u878d\\u8d44\\u8d44\\u91d1\\u6301\\u7eed\\u5173\\u6ce8',\n",
        " u'\\u4ea4\\u884c\\u9ad8\\u7ba1\\u96c6\\u4f53\\u589e\\u6301\\u663e\\u4fe1\\u5fc3 \\u94f6\\u884c\\u80a1\\u6ce8\\u5165\\u201c\\u5f3a\\u5fc3\\u5242\\u201d',\n",
        " u'\\u201c\\u671f\\u6307\\u4ea4\\u5272\\u9b54\\u5492\\u201d\\u8003\\u9a8c\\u4e24\\u5343\\u70b9',\n",
        " u'\\u8f66\\u6539\\u65b0\\u653f\\uff1a9\\u67081\\u65e5\\u8d77\\u975e\\u8425\\u8fd0\\u8f7f\\u8f66\\u7b49\\u8f66\\u8f866\\u5e74\\u5185\\u514d\\u68c0',\n",
        " u'\\u518d\\u5ea6\\u63a8\\u8fdf\\u62ab\\u9732\\u5e74\\u62a5 \\u7f51\\u79e6\\u66b4\\u8dcc\\u8fd130%',\n",
        " u'\\u751f\\u610f\\u793e\\uff1a\\u5236\\u51b7\\u5242R22\\u4ef7\\u683c\\u8f83\\u6708\\u521d\\u518d\\u4e0a\\u6da86\\uff05',\n",
        " u'\\u4e24\\u5e02\\u4f4e\\u5f00\\u6caa\\u6307\\u8dcc0.14 \\u5238\\u5546\\u4fdd\\u9669\\u6da8\\u5e45\\u5c45\\u524d',\n",
        " u'\\u7a7a\\u5934\\u52bf\\u529b\\u518d\\u73b0\\u5cf0\\u503c',\n",
        " u'\\u4eca\\u65e5\\u4e24\\u5e02\\u8d85\\u5927\\u8d26\\u6237\\u62a2\\u7b79\\u768430\\u53ea\\u4e2a\\u80a1(5/15)',\n",
        " u'\\u6cb3\\u5317\\u672c\\u5730\\u80a1\\u5d1b\\u8d77 \\u5eca\\u574a\\u53d1\\u5c55\\u4e0a\\u6da8\\u903e7%',\n",
        " u'\\u5206\\u6790\\u79f04\\u6708FDI\\u57fa\\u672c\\u7b26\\u5408\\u9884\\u671f \\u91d1\\u989d\\u7565\\u51cf\\u589e\\u5e45\\u8f6c\\u6b63',\n",
        " u'\\u591a\\u4f26\\u80a1\\u4efd\\u906d\\u5927\\u80a1\\u4e1c\\u9999\\u6e2f\\u591a\\u4f26\\u51cf\\u63011000\\u4e07\\u80a1',\n",
        " u'C919\\u524d\\u673a\\u8eab\\u5927\\u90e8\\u6bb515\\u65e5\\u5728\\u4e2d\\u822a\\u5de5\\u4e1a\\u6d2a\\u90fd\\u6210\\u529f\\u4e0b\\u7ebf',\n",
        " u'\\u6750\\u6599\\u677f\\u5757\\u5348\\u540e\\u4e0a\\u6da8 \\u6c5f\\u82cf\\u5b8f\\u5b9d\\u8868\\u73b0\\u62a2\\u773c',\n",
        " u'\\u91d1\\u878d\\u80a1\\u5355\\u9a91\\u652f\\u6491 \\u8dcc\\u5e45\\u4e0d\\u4f1a\\u592a\\u5927',\n",
        " u'\\u79d1\\u6280\\u90e8\\u4f18\\u5148\\u5b89\\u6392\\u5927\\u6c14\\u6c61\\u67d3\\u9632\\u6cbb\\u8d44\\u91d1 PM2.5\\u677f\\u5757\\u6709\\u671b\\u53d7\\u76ca',\n",
        " u'\\u83b7\\u5f97\\u4e00\\u9879\\u53d1\\u660e\\u4e13\\u5229\\u8bc1\\u4e66 \\u745e\\u4e30\\u9ad8\\u6750\\u51b2\\u51fb\\u6da8\\u505c',\n",
        " u'\\u767d\\u94f6\\u5b9a\\u76d8\\u4ef7\\u5386\\u53f2\\u5c06\\u843d\\u4e0b\\u5e37\\u5e55',\n",
        " u'\\u5348\\u540e\\u5f00\\u76d8\\uff1a\\u4e24\\u5e02\\u7ee7\\u7eed\\u4e0b\\u632b \\u521b\\u4e1a\\u677f\\u6307\\u6570\\u5927\\u8dcc\\u8d853%',\n",
        " u'\\u5317\\u4eac\\u4e1c\\u57ce\\u533a\\u4e0e\\u5f20\\u5bb6\\u53e3\\u5eb7\\u4fdd\\u53bf\\u5c06\\u5c55\\u5f00\\u5341\\u9879\\u5185\\u5bb9\\u5bf9\\u63a5',\n",
        " u'\\u53d1\\u6539\\u59d4\\u5b98\\u5458\\uff1a\\u5f53\\u524d\\u7ecf\\u6d4e\\u4ecd\\u5728\\u5e73\\u7a33\\u533a\\u95f4 \\u6ca1\\u6709\\u51fa\\u8f68',\n",
        " u'\\u521b\\u4e1a\\u677f\\u6307\\u5927\\u8dcc1.94%  \\u5149\\u811a\\u9634\\u7ebf\\u523a\\u7a7f\\u5e74\\u7ebf\\u540e\\u5e02\\u582a\\u5fe7',\n",
        " u'\\u6e38\\u8d44\\u52a0\\u4ed3 \\u9732\\u7b11\\u79d1\\u6280\\u5237\\u65b0\\u4e0a\\u5e02\\u65b0\\u9ad8',\n",
        " u'\\u793e\\u4fdd\\u57fa\\u91d1\\u8ba4\\u8d2d\\u4e2d\\u4fe1\\u6cf0\\u5bcc12\\u4ebf\\u80a1 \\u6301\\u80a15%\\u6210\\u6700\\u5927\\u673a\\u6784',\n",
        " u'\\u5468\\u4e94\\u5c55\\u671b\\uff1a\\u91cd\\u70b9\\u5e03\\u5c40\\u5341\\u5927\\u677f\\u5757\\u4f18\\u8d28\\u80a1',\n",
        " u'\\u518d\\u6b21\\u4e0a\\u62c9\\u4ece\\u4f55\\u65f6\\u5f00\\u59cb',\n",
        " u'\\u957f\\u6c5f\\u7ecf\\u6d4e\\u5e26\\u5efa\\u8bbe\\u6307\\u5bfc\\u610f\\u89c1\\u6709\\u671b\\u5e74\\u5185\\u51fa\\u53f0 \\u5173\\u6ce8\\u53d7\\u76ca\\u80a1',\n",
        " u'\\u518d\\u73b0\\u65ad\\u5934\\u9570\\u5200\\u5f0f\\u5f62\\u6001 \\u65b0\\u98ce\\u66b4\\u88ad\\u6765',\n",
        " u'144\\u4ebf\\u8d44\\u91d1\\u51c0\\u6d41\\u51fa',\n",
        " u'\\u6392\\u9664\\u201c\\u5730\\u96f7\\u201d\\u5c06\\u6709\\u4e00\\u6ce2\\u7ea0\\u9519\\u884c\\u60c5',\n",
        " u'\\u8bc1\\u5238\\u6709\\u8272\\u62d6\\u7d2f\\u5927\\u76d8 \\u6caa\\u6307\\u4e0b\\u8dcc0.74%',\n",
        " u'\\u4eca\\u65e5\\u4ee4\\u6563\\u6237\\u8d44\\u91d1\\u60ca\\u614c\\u5931\\u63aa\\u768430\\u53ea\\u4e2a\\u80a1(5/15)',\n",
        " u'\\u666f\\u6c14\\u56de\\u5347\\u63d0\\u632f\\u9910\\u996e\\u65c5\\u6e38\\u677f\\u5757',\n",
        " u'\\u56fd\\u4ea7\\u5927\\u98de\\u673a\\u5927\\u5e55\\u5f00\\u542f 6\\u4ea7\\u4e1a\\u94fe\\u80a1\\u8fce\\u98de\\u5929\\u5951\\u673a',\n",
        " u'\\u6743\\u91cd\\u7fb8\\u5f31\\u6caa\\u6307\\u8dcc0.29% \\u521b\\u4e1a\\u677f\\u8df3\\u6c34\\u521b\\u65b0\\u4f4e',\n",
        " u'\\u6210\\u4ea4\\u91cf\\u7a81\\u589e\\u524d\\u5341\\u53ea\\u4e2a\\u80a1 (\\u622a\\u6b625.14)',\n",
        " u'\\u5929\\u7136\\u6c14\\u7ba1\\u9053\\u9ad8\\u901f\\u589e\\u957f\\u63d0\\u901f 3\\u80a1\\u6700\\u53d7\\u76ca',\n",
        " u'\\u4eca\\u65e5\\u5e02\\u573a\\u524d\\u77bb\\uff1a\\u4e94\\u5927\\u5229\\u597dPK\\u4e09\\u5927\\u5229\\u7a7a',\n",
        " u'\\u5173\\u4e8e\\u63d0\\u793a\\u6caa\\u6df1300\\u80a1\\u6307\\u671f\\u8d27IF1405\\u5408\\u7ea6\\u4ea4\\u5272\\u76f8\\u5173\\u4e8b\\u9879\\u7684\\u901a\\u77e5',\n",
        " u'\\u4e0a\\u6d77\\u81ea\\u8d38\\u533a\\u9ec4\\u91d1\\u56fd\\u9645\\u677f\\u5df2\\u83b7\\u6279 \\u5e74\\u5185\\u671b\\u6b63\\u5f0f\\u9000\\u51fa',\n",
        " u'\\u66f2\\u7f8e\\u5bb6\\u5177IPO\\u51b2\\u51fb\\u6ce2 \\u8d75\\u6c0f\\u5144\\u5f1f\\u638c\\u63a797.09%\\u80a1\\u6743',\n",
        " u'\\u53cd\\u5f39\\u592d\\u6298 \\u653f\\u7b56\\u5e95\\u540e\\u8fd8\\u6709\\u5e02\\u573a\\u5e95',\n",
        " u'121\\u5bb6\\u516c\\u53f8\\u5c06\\u5206\\u7ea2 \\u4ebf\\u5143\\u5927\\u5355\\u8ffd\\u636722\\u53ea\\u9ad8\\u9001\\u8f6c\\u80a1',\n",
        " u'\\u5927\\u76d8\\u53cd\\u5f39\\u6050\\u5df2\\u7ec8\\u7ed3 \\u94f6\\u884c\\u72ec\\u6728\\u96be\\u652f',\n",
        " u'\\u5317\\u4eac\\u54c1\\u6069\\u79d1\\u6280\\u80a1\\u4efd\\u6709\\u9650\\u516c\\u53f8\\u62df\\u6df1\\u4ea4\\u6240\\u4e0a\\u5e02',\n",
        " u'\\u6210\\u4ea4\\u91cf\\u840e\\u7f29\\u7591\\u8bf1\\u7a7a \\u6295\\u8d44\\u8005\\u9700\\u8c28\\u614e',\n",
        " u'\\u6cb9\\u4ef7\\u5468\\u4e09\\u6da80.7% \\u53d7\\u9700\\u6c42\\u9884\\u671f\\u63a8\\u52a8',\n",
        " u'\\u300a\\u4e2d\\u65e5\\u97e9\\u6295\\u8d44\\u534f\\u5b9a\\u300b5\\u670817\\u65e5\\u6b63\\u5f0f\\u751f\\u6548',\n",
        " u'\\u6b27\\u80a1\\u6307\\u6570\\u5468\\u4e09\\u8dcc0.09% \\u81ea\\u9ad8\\u4f4d\\u56de\\u843d',\n",
        " u'\\u4e3b\\u529b\\u8d44\\u91d1\\u51c0\\u6d41\\u5165\\u6700\\u591a10\\u80a1(5/16)',\n",
        " u'\\u660e\\u65e5\\u6700\\u5177\\u7206\\u53d1\\u529b6\\u5927\\u725b\\u80a1\\u540d\\u5355',\n",
        " u'\\u6d77\\u7fd4\\u836f\\u4e1a\\u4e0b\\u5348\\u4e3e\\u884c\\u6295\\u8d44\\u8005\\u89c1\\u9762\\u4f1a',\n",
        " u'\\u519c\\u6797\\u7267\\u6e14\\u677f\\u5757\\u8868\\u73b0\\u5f3a\\u52bf \\u9686\\u5e73\\u9ad8\\u79d1\\u5927\\u6da8\\u903e7%',\n",
        " u'\\u521b\\u4e1a\\u677f\\u6307\\u65e9\\u76d8\\u7ee7\\u7eed\\u5927\\u8dcc\\u8d85\\u8fc72%',\n",
        " u'A\\u80a1100\\u5f3a\\u80a1\\u4e1c\\u8001\\u9762\\u5b54\\u591a 1\\u4ebf\\u53ef\\u8fdb\\u4e2d\\u77f3\\u6cb9\\u5341\\u5927\\u80a1\\u4e1c',\n",
        " u'\\u56fd\\u4ea7\\u5927\\u98de\\u673a\\u5236\\u9020\\u65f6\\u4ee3\\u5c06\\u5f00\\u542f 3\\u80a1\\u6f5c\\u529b\\u5341\\u8db3\\uff08\\u9644\\u80a1\\uff09',\n",
        " u'\\u8fd9\\u662f\\u975e\\u5e38\\u5f31\\u52bf\\u7684\\u8868\\u73b0 \\u51cf\\u4ed3\\u89c2\\u671b',\n",
        " u'\\u5168\\u7403\\u589e\\u957f\\u62c5\\u5fe7\\u65bd\\u538b \\u6b27\\u80a1\\u6307\\u6570\\u5468\\u56db\\u8dcc0.91%',\n",
        " u'\\u5341\\u5927\\u673a\\u6784\\u9884\\u6d4b\\u5927\\u52bf\\uff1a\\u5411\\u4e0b\\u8003\\u9a8c2000\\u70b9\\u652f\\u6491',\n",
        " u'\\u6307\\u6570\\u8868\\u73b0\\u4e0d\\u7406\\u60f3',\n",
        " u'\\u5238\\u5546\\u548c\\u5730\\u4ea7\\u7b49\\u6743\\u91cd\\u80a1\\u8d70\\u4f4e \\u6caa\\u6307\\u4e0b\\u8dcc1.12%',\n",
        " u'\\u6df1\\u5e02\\u6d3b\\u8dc3\\u80a1\\u516c\\u5f00\\u4fe1\\u606f(B\\u80a1)(05/15)',\n",
        " u'\\u77ed\\u671f\\u80a1\\u6307\\u6216\\u8fdb\\u4e00\\u6b65\\u4e0b\\u6ed1',\n",
        " u'\\u5173\\u6ce8\\u53d7\\u76ca\\u653f\\u7b56\\u7684\\u7ee9\\u4f18\\u80a1',\n",
        " u'\\u4e09\\u677f\\u80a1\\u7968\\u884c\\u60c5\\u52a8\\u6001(5/15)\\uff08\\u4e00\\uff09',\n",
        " u'\\u5927\\u80a1\\u4e1c\\u4e0e\\u4e01\\u78ca\\u7b7e\\u534f\\u8bae \\u5c71\\u6c34\\u6587\\u5316\\u518d\\u5ea6\\u6da8\\u903e8%',\n",
        " u'IPO\\u7533\\u62a5\\u91cd\\u542f \\u7f29\\u91cf\\u6740\\u8dcc\\u518d\\u8bd52030\\u70b9',\n",
        " u'\\u65b0\\u4e09\\u677f\\u9996\\u6b21\\u79fb\\u9664\\u6302\\u724c\\u4f01\\u4e1a \\u68af\\u6b21\\u9000\\u5e02\\u94fe\\u6761\\u6b63\\u9010\\u6b65\\u5f62\\u6210',\n",
        " u'\\u6c49\\u5a01\\u7535\\u5b50\\u53d1\\u5e03\\u6536\\u8d2d\\u8d44\\u4ea7\\u65b9\\u6848 \\u6da8\\u505c',\n",
        " u'\\u4e09\\u5927\\u51f6\\u5146\\u6697\\u793a\\u65b0\\u4e00\\u8f6e\\u6740\\u8dcc\\u98ce\\u9669',\n",
        " u'5\\u670816\\u65e5\\u4eba\\u6c11\\u5e01\\u4e2d\\u95f4\\u4ef7\\u62a56.1628 \\u5347\\u503c12\\u4e2a\\u57fa\\u70b9',\n",
        " u'\\u4e8b\\u4e1a\\u5355\\u4f4d\\u7ba1\\u7406\\u65b0\\u89c4\\uff1a\\u8058\\u7528\\u5408\\u540c\\u671f\\u9650\\u4e00\\u822c\\u4e0d\\u4f4e\\u4e8e3\\u5e74',\n",
        " u'\\u7f8e\\u4e09\\u5927\\u80a1\\u6307\\u6628\\u65e5\\u5168\\u7ebf\\u56de\\u843d',\n",
        " u'*ST\\u5efa\\u6469B\\u5411\\u6df1\\u4ea4\\u6240\\u7533\\u8bf7\\u64a4\\u9500\\u9000\\u5e02\\u98ce\\u9669\\u8b66\\u793a',\n",
        " u'\\u7f8e\\u901a\\u80c0\\u6307\\u6807\\u4e00\\u81f4\\u5411\\u597d 4\\u6708CPI\\u589e\\u5e45\\u5df2\\u8fbe2%',\n",
        " u'\\u524d\\u6d77\\u5165\\u533a\\u4f01\\u4e1a\\u5df2\\u8fbe6500\\u5bb6',\n",
        " u'\\u5546\\u52a1\\u90e8\\uff1a\\u5c31\\u56db\\u65b9\\u9762\\u5bf9\\u56fd\\u529e\\u53d119\\u53f7\\u6587\\u8fdb\\u884c\\u653f\\u7b56\\u843d\\u5b9e',\n",
        " u'\\u521b\\u4e1a\\u677f\\u6307\\u4e0b\\u8dcc1.46% \\u6052\\u987a\\u7535\\u6c14\\u8dcc\\u505c',\n",
        " u'\\u80a1\\u6307\\u5e95\\u90e8\\u53cd\\u590d\\u9707\\u8361 \\u4e2d\\u7ebf\\u53ef\\u9022\\u4f4e\\u5e03\\u5c40',\n",
        " u'\\u6b27\\u6d32\\u7684\\u6f2b\\u957f\\u5371\\u673a',\n",
        " u'\\u9876\\u70b9\\u8f6f\\u4ef6\\u4e03\\u6210\\u4e1a\\u52a1\\u6765\\u81ea\\u8bc1\\u5238\\u4e1a \\u4ecd\\u9700\\u770b\\u5929\\u5403\\u996d',\n",
        " u'\\u4eba\\u6c14\\u80a1\\u5168\\u7ebf\\u6e83\\u8d25 \\u6caa\\u6307\\u8dcc1.12%\\u521b\\u4e1a\\u677f\\u6307\\u5927\\u8dcc\\u8fd12%',\n",
        " u'\\u53d1\\u6539\\u59d4\\u5b9e\\u65bd\\u5883\\u5916\\u6295\\u8d44\\u9879\\u76ee\\u6838\\u51c6\\u548c\\u5907\\u6848\\u7ba1\\u7406\\u529e\\u6cd5',\n",
        " u'\\u4eca\\u65e5\\u4e24\\u5e02\\u8d85\\u5927\\u8d26\\u6237\\u51cf\\u6301\\u768430\\u53ea\\u4e2a\\u80a1(5/15)',\n",
        " u'\\u6c47\\u91d1\\u80a1\\u4efd\\u79f0\\u65e0\\u5e94\\u62ab\\u9732\\u4e8b\\u9879 \\u7ed3\\u675f\\u4e09\\u6da8\\u505c\\u80a1\\u4ef7\\u8dcc\\u903e5%',\n",
        " u'\\u4e09\\u592b\\u6237\\u5916\\u4e1a\\u7ee9\\u5b58\\u53d8\\u8138\\u98ce\\u9669 \\u6e05\\u79d1CEO\\u624b\\u63e1323\\u4e07\\u80a1\\u6f5c\\u4f0f',\n",
        " u'\\u9875\\u5ca9\\u6c14\\u677f\\u5757\\u8868\\u73b0\\u6d3b\\u8dc3 \\u5b9d\\u5fb7\\u80a1\\u4efd\\u76f4\\u903c\\u6da8\\u505c',\n",
        " u'\\u4e3b\\u529b\\u8d44\\u91d1\\u51c0\\u6d41\\u5165\\u6700\\u591a\\u4e94\\u5927\\u677f\\u5757(5/15)',\n",
        " u'\\u8b66\\u60d5\\u8bf1\\u7a7a\\u9677\\u9631 \\u5e03\\u5c40\\u4e00\\u7c7b\\u80a1',\n",
        " u'\\u5b9a\\u589e\\u8ba1\\u5212\\u53eb\\u505c\\u5f15\\u8fde\\u9501\\u53cd\\u5e94 \\u7cbe\\u534e\\u5236\\u836f\\u6216\\u522b\\u56fd\\u6d25\\u96c6\\u56e2',\n",
        " u'\\u8c01\\u6765\\u5145\\u5f53\\u62a4\\u76d8\\u4e3b\\u529b 2000\\u70b9\\u4fdd\\u536b\\u6218\\u7559\\u60ac\\u5ff5',\n",
        " u'\\u8239\\u8236\\u677f\\u5757\\u8868\\u73b0\\u5f3a\\u52bf \\u4e2d\\u56fd\\u8239\\u8236\\u9886\\u6da8',\n",
        " u'\\u56fd\\u52a1\\u9662\\u9ad8\\u5ea6\\u91cd\\u89c6\\u98df\\u54c1\\u5b89\\u5168 \\u98df\\u54c1\\u5b89\\u5168\\u6982\\u5ff5\\u80a1\\u6709\\u671b\\u7206\\u53d1',\n",
        " u'\\u4e0b\\u546825\\u4ebf\\u9650\\u552e\\u80a1\\u89e3\\u7981 8\\u516c\\u53f8\\u5c06\\u5b9e\\u73b0\\u5168\\u6d41\\u901a',\n",
        " u'2000\\u70b9\\u4fdd\\u536b\\u6218\\u7559\\u60ac\\u5ff5',\n",
        " u'\\u8bc1\\u76d1\\u4f1a\\uff1a\\u652f\\u6301\\u81ea\\u4e3b\\u521b\\u8bbe\\u79c1\\u52df\\u4ea7\\u54c1\\u548c\\u878d\\u8d44\\u7c7b\\u4e1a\\u52a1\\u521b\\u65b0',\n",
        " u'\\u56fd\\u4ea7\\u5927\\u98de\\u673a\\u5236\\u9020\\u65f6\\u4ee3\\u5c06\\u5f00\\u542f 6\\u4ea7\\u4e1a\\u94fe\\u80a1\\u8fce\\u5951\\u673a',\n",
        " u'\\u98df\\u54c1\\u5b89\\u5168\\u6cd5\\u51fa\\u7089\\u63d0\\u901f 6\\u80a1\\u5206\\u4eab200\\u4ebf\\u86cb\\u7cd5\\u76db\\u5bb4',\n",
        " u'\\u534e\\u6cf0\\u67cf\\u745e4\\u53ea\\u80a1\\u57fa\\u643a\\u624b\\u8e29\\u96f7 \\u9009\\u80a1\\u80fd\\u529b\\u906d\\u8d28\\u7591',\n",
        " u'\\u201c\\u65b0\\u56fd\\u4e5d\\u6761\\u201d\\u662f\\u5757\\u8bd5\\u91d1\\u77f3',\n",
        " u'\\u56db\\u5927\\u5229\\u7a7a\\u8054\\u5408\\u51fa\\u51fb \\u660e\\u65e5\\u6216\\u8fce\\u591a\\u7a7a\\u5927\\u52a8\\u4f5c',\n",
        " u'\\u6cdb\\u5317\\u90e8\\u6e7e\\u4e3b\\u6253\\u6d77\\u4e0a\\u4e1d\\u7ef8\\u4e4b\\u8def 10\\u80a1\\u5373\\u5c06\\u72c2\\u98d9',\n",
        " u'\\u62df\\u975e\\u516c\\u5f00\\u53d1\\u884c1620\\u4e07\\u80a1 \\u4e07\\u90a6\\u8fbe\\u80a1\\u4ef7\\u518d\\u906d\\u91cd\\u632b',\n",
        " u'\\u56fd\\u4ea7\\u5927\\u98de\\u673a\\u5236\\u9020\\u65f6\\u4ee3\\u5c06\\u5f00\\u542f \\u535a\\u4e91\\u65b0\\u6750\\u6da8\\u505c',\n",
        " u'\\u65b0\\u80a1\\u53d1\\u884c\\u6539\\u9769\\u4e3a\\u4f55\\u5982\\u6b64\\u9891\\u7e41',\n",
        " u'\\u8fde\\u7eed\\u4e0a\\u6da8\\u524d\\u5341\\u53ea\\u4e2a\\u80a1 (\\u622a\\u6b625.14)',\n",
        " u'\\u4e3b\\u529b\\u8d44\\u91d1\\u51c0\\u6d41\\u51fa\\u6700\\u591a10\\u80a1(5/16)',\n",
        " u'\\u534e\\u89c6\\u4f20\\u5a92\\u4eae\\u76f8\\u6587\\u535a\\u4f1a \\u63a8\\u5e7f\\u516c\\u4ea4WIFI',\n",
        " u'\\u80a1\\u795e\\u5df4\\u83f2\\u7279\\u6301\\u4ed3\\u66dd\\u5149\\uff1a\\u9752\\u7750\\u7535\\u4fe1\\u80a1 \\u589e\\u6301\\u6c83\\u5c14\\u739b',\n",
        " u'\\u4f20\\u963f\\u91cc\\u5df4\\u5df4\\u9ad8\\u7ba1\\u53c2\\u4e0e\\u7eff\\u57ce\\u63a7\\u80a1 \\u9a6c\\u4e91\\u4e2a\\u4eba\\u6536\\u8d2d\\u7eff\\u57ce\\u8db3\\u7403',\n",
        " u'3\\u4e2a\\u4e0d\\u660e\\u98de\\u884c\\u7269\\u5760\\u5165\\u9ed1\\u9f99\\u6c5f\\u5883\\u5185 \\u73b0\\u573a\\u5df2\\u5c01\\u9501(\\u56fe)',\n",
        " u'5\\u670815\\u65e5\\u5348\\u95f4\\u6df1\\u5e02\\u516c\\u544a\\u6c47\\u603b',\n",
        " u'\\u5982\\u4f55\\u5229\\u7528\\u4e0a\\u4e0b\\u5f71\\u7ebf\\u6316\\u6398\\u6295\\u8d44\\u673a\\u4f1a',\n",
        " u'\\u6768\\u6770\\u79d1\\u6280\\u9006\\u52bf\\u6da8\\u505c \\u80a1\\u4ef7\\u521b\\u4e0a\\u5e02\\u4ee5\\u6765\\u65b0\\u9ad8',\n",
        " u'\\u8fde\\u7eed\\u4e24\\u6708\\u9ad8\\u8c03\\u51fa\\u51fb \\u4e00\\u7c7b\\u4e3b\\u529b\\u96c6\\u4f53\\u884c\\u52a8',\n",
        " u'\\u5965\\u62d3\\u7535\\u5b50\\uff1a\\u4e1a\\u7ee9\\u62d0\\u70b9\\u521d\\u73b0 \\u4e16\\u754c\\u676f\\u52a9\\u529b\\u6210\\u957f',\n",
        " u'\\u4eca\\u65e5\\u4e24\\u5e02\\u6e38\\u8d44\\u91cd\\u70b9\\u5173\\u6ce8\\u768430\\u53ea\\u4e2a\\u80a1(5/15)',\n",
        " u'\\u4e2d\\u79d1\\u62db\\u5546\\u4f209\\u6708\\u6302\\u724c\\u65b0\\u4e09\\u677f \\u7ec8\\u6781\\u76ee\\u6807\\u4e3b\\u677f',\n",
        " u'\\u521b\\u4e1a\\u677f1200\\u70b9\\u533a\\u57df\\u662f\\u5f3a\\u652f\\u6491',\n",
        " u'A\\u80a1\\u5982\\u52a0\\u5165MSCI \\u56db\\u7c7b\\u80a1\\u5c06\\u53d7\\u76ca',\n",
        " u'\\u592e\\u884c\\u5c06\\u9002\\u65f6\\u4fee\\u6539\\u91d1\\u878d\\u6d88\\u8d39\\u6743\\u76ca\\u4fdd\\u62a4\\u5de5\\u4f5c\\u7ba1\\u7406\\u529e\\u6cd5',\n",
        " u'\\u89e3\\u653e\\u519b\\u660e\\u8d77\\u8fde\\u7eed3\\u5929\\u5728\\u6e24\\u6d77\\u5b9e\\u5f39\\u5c04\\u51fb \\u8239\\u53ea\\u7981\\u5165(\\u56fe)',\n",
        " u'*ST\\u6c11\\u548c\\u7b7e\\u6218\\u7565\\u5408\\u4f5c\\u534f\\u8bae \\u63a8\\u5e7f\\u65b0\\u4ea7\\u54c1\\u201c\\u65b0\\u58ee\\u6001\\u201d',\n",
        " u'\\u62df10\\u8f6c5\\u90015\\u6d3e4\\u5143 \\u6c47\\u91d1\\u80a1\\u4efd\\u518d\\u5ea6\\u6da8\\u505c',\n",
        " u'\\u6697\\u85cf\\u66b4\\u6da8\\u56e0\\u5b50\\uff1a7\\u80a1\\u62c9\\u5347\\u5728\\u5373',\n",
        " u'\\u6709\\u8272\\u677f\\u5757\\u6301\\u7eed\\u56de\\u8c03 \\u534e\\u6cfd\\u94b4\\u954d\\u8dcc\\u505c',\n",
        " u'\\u8fd8\\u539f\\u7ea2\\u661f\\u7f8e\\u51ef\\u9f99\\u4e03\\u5e74\\u4e0a\\u5e02\\u8def \\u7ebf\\u4e0a\\u7ebf\\u4e0b\\u9f50\\u6269\\u5f20',\n",
        " u'\\u6cb3\\u5317\\u51fa\\u7248\\u4f20\\u5a92\\u96c6\\u56e27\\u4e2a\\u9879\\u76ee\\u6587\\u535a\\u4f1a\\u987a\\u5229\\u7b7e\\u7ea6',\n",
        " u'\\u4e2d\\u4fe1\\u8bc1\\u5238\\uff1a\\u521b\\u4e1a\\u677f\\u98ce\\u9669\\u6ea2\\u4ef7\\u5c06\\u51fa\\u73b0\\u8d8b\\u52bf\\u6027\\u4e0a\\u5347',\n",
        " u'\\u5468\\u4e94\\u673a\\u6784\\u4e00\\u81f4\\u6700\\u770b\\u597d\\u768410\\u91d1\\u80a1',\n",
        " u'\\u6052\\u987a\\u7535\\u6c14\\u62df\\u6536\\u8d2d\\u954d\\u77ff\\u9530\\u77ff \\u80a1\\u4ef7\\u5927\\u5e45\\u62c9\\u5347',\n",
        " u'\\u822a\\u5929\\u519b\\u5de5\\u677f\\u5757\\u5348\\u540e\\u7ee7\\u7eed\\u5f3a\\u52bf \\u4e2d\\u822a\\u673a\\u7535\\u4e0a\\u6da8\\u903e4%',\n",
        " u'\\u9ad8\\u7ba1\\u589e\\u6301\\u63d0\\u632f\\u94f6\\u884c\\u80a1',\n",
        " u'\\u8bc1\\u76d1\\u4f1a\\uff1a\\u6df1\\u5316\\u5ba1\\u6279\\u6539\\u9769 \\u653e\\u5bbd\\u8bc1\\u5238\\u7ecf\\u8425\\u673a\\u6784\\u51c6\\u5165\\u6761\\u4ef6',\n",
        " u'\\u521b\\u4e1a\\u677f\\u8df3\\u6c34\\u521b\\u65b0\\u4f4e \\u672a\\u6765\\u4e2a\\u80a1\\u6216\\u5c06\\u8170\\u65a9',\n",
        " u'\\u591a\\u90e8\\u59d4\\u8868\\u6001\\u529b\\u633a\\u6c34\\u8d44\\u6e90\\u5faa\\u73af 4\\u80a1\\u7edd\\u5bf9\\u4f4e\\u4f30',\n",
        " u'\\u521b\\u65b0\\u6a21\\u5f0f\\u5e94\\u4ece\\u76d1\\u7ba1\\u4e3b\\u5bfc\\u8f6c\\u5411\\u673a\\u6784\\u4e3b\\u5bfc',\n",
        " u'\\u5468\\u4e00\\u673a\\u6784\\u4e00\\u81f4\\u6700\\u770b\\u597d\\u768410\\u91d1\\u80a1',\n",
        " u'\\u667a\\u80fd\\u7a7f\\u6234\\u677f\\u5757\\u4e2a\\u80a1\\u96c6\\u4f53\\u4e0b\\u632b \\u4e5d\\u5b89\\u533b\\u7597\\u4e0b\\u8dcc\\u903e7%',\n",
        " u'\\u4e1c\\u6d77\\u519b\\u6f14\\u5f15\\u519b\\u5de5\\u80a1\\u6d3b\\u8dc3',\n",
        " u'\\u65e5\\u7ecf\\u6307\\u6570\\u6536\\u8dcc0.75% \\u65e5\\u5143\\u8d70\\u5f3a\\u6253\\u51fb\\u51fa\\u53e3\\u80a1',\n",
        " u'\\u865a\\u62df\\u8fd0\\u8425\\u55465\\u6708\\u4e0a\\u8def\\uff1a\\u5982\\u4f55\\u73a9\\u8f6c\\u4e92\\u8054\\u7f51\\u65f6\\u4ee3\\uff1f(\\u56fe)',\n",
        " u'\\u5348\\u8bc4\\uff1a\\u6caa\\u6307\\u5fae\\u8dcc0.29% \\u521b\\u4e1a\\u677f\\u91cd\\u632b2.79%',\n",
        " u'\\u534e\\u4e1c\\u533b\\u836f\\uff1a\\u53d1\\u5c55\\u74f6\\u9888\\u5373\\u5c06\\u7a81\\u7834 \\u52a0\\u901f\\u6210\\u957f\\u53ef\\u671f',\n",
        " u'\\u6caa\\u6df1\\u4e24\\u5e02\\u5c0f\\u5e45\\u4f4e\\u5f00 \\u6caa\\u6307\\u4e0b\\u8dcc0.07%',\n",
        " u'\\u9ad8\\u9001\\u8f6c\\u80a1\\u884c\\u60c5\\u5347\\u6e29 \\u626c\\u6770\\u79d1\\u62805\\u6708\\u6da8\\u5e45\\u8d8525%',\n",
        " u'\\u4e9a\\u592a\\u80a1\\u5e02\\u5468\\u4e94\\u666e\\u904d\\u4f4e\\u5f00 \\u65e5\\u80a1\\u5f00\\u76d8\\u8dcc1.47%',\n",
        " u'\\u878d\\u521b\\u7eff\\u57ce\\u505c\\u724c \\u5c06\\u53d1\\u53ef\\u80fd\\u6784\\u6210\\u5185\\u5e55\\u6d88\\u606f\\u62df\\u4ea4\\u6613\\u516c\\u544a',\n",
        " u'5\\u670816\\u65e5\\u56fd\\u5185\\u56db\\u5927\\u8bc1\\u5238\\u62a5\\u7eb8\\u5934\\u7248\\u5934\\u6761\\u5185\\u5bb9\\u7cbe\\u534e\\u6458\\u8981',\n",
        " u'\\u9053\\u6307\\u521b\\u4e00\\u4e2a\\u6708\\u6765\\u6700\\u5927\\u5355\\u65e5\\u8dcc\\u5e45 \\u7eb3\\u6307\\u4e09\\u8fde\\u8dcc',\n",
        " u'\\u6d59\\u6c5f\\u65b0\\u5149\\u836f\\u4e1a\\u80a1\\u4efd\\u6709\\u9650\\u516c\\u53f8\\u62df\\u6df1\\u4ea4\\u6240\\u4e0a\\u5e02',\n",
        " u'\\u521b\\u4e1a\\u677f\\u5348\\u540e\\u91cd\\u632b3.12% 300\\u591a\\u53ea\\u4e2a\\u80a1\\u98d8\\u7eff',\n",
        " u'\\u903e\\u4ebf\\u5143\\u5927\\u5355\\u62a2\\u5165\\u84dd\\u5b9d\\u77f3 \\u9732\\u7b11\\u79d1\\u6280\\u7b496\\u80a1\\u8fce\\u6765\\u871c\\u6708\\u671f',\n",
        " u'\\u4ea7\\u4e1a\\u8d44\\u672c\\u589e\\u6301\\u6216\\u5f15\\u9886\\u540e\\u5e02\\u5e03\\u5c40',\n",
        " u'\\u547d\\u597d\\u8d76\\u4e0aIPO\\uff1a\\u4e24\\u201c90\\u540e\\u201d\\u6210\\u5343\\u4e07\\u5bcc\\u5a46',\n",
        " u'\\u80a1\\u6307\\u671f\\u8d27\\u6210\\u4ea4\\u6301\\u4ed3\\u9f99\\u864e\\u699c(05/15)',\n",
        " u'\\u4e24\\u5e02\\u4f4e\\u5e02\\u76c8\\u7387\\u524d\\u4e8c\\u5341\\u53ea\\u4e2a\\u80a1\\u5e02\\u573a\\u8868\\u73b0(\\u622a\\u6b625.14)',\n",
        " u'\\u534a\\u65e5\\u4e3b\\u529b\\u8d44\\u91d1\\u51c0\\u6d41\\u5165\\u524d\\u5341\\u4e2a\\u80a1(5/16)',\n",
        " u'\\u5173\\u6ce8\\u5238\\u5546\\u521b\\u65b0\\u5927\\u4f1a \\u671f\\u5f85\\u653f\\u7b56\\u5229\\u597d',\n",
        " u'\\u5c0f\\u7c73\\u7535\\u89c62\\u548c\\u5c0f\\u7c73\\u5e73\\u677f\\u53d1\\u5e03 \\u6982\\u5ff5\\u80a1\\u6709\\u671b\\u7206\\u53d1',\n",
        " u'5\\u6708\\u9996\\u5468A\\u80a1\\u8bc1\\u5238\\u8d26\\u6237\\u51c0\\u8f6c\\u5165247\\u4ebf\\u5143',\n",
        " u'\\u6e2f\\u53e3\\u80a1\\u76d8\\u4e2d\\u76f4\\u7ebf\\u62c9\\u5347 \\u8fde\\u4e91\\u6e2f\\u6da8\\u505c',\n",
        " u'\\u6caa\\u6df1\\u4e24\\u5e02\\u65e9\\u76d8\\u5f31\\u52bf\\u9707\\u8361 \\u8dcc\\u78345\\u65e5\\u5747\\u7ebf',\n",
        " u'4\\u6708\\u89c4\\u6a21\\u4ee5\\u4e0a\\u6e2f\\u53e3\\u8d27\\u7269\\u541e\\u5410\\u91cf\\u540c\\u6bd4\\u589e5% \\u589e\\u901f\\u653e\\u7f13',\n",
        " u'\\u5348\\u540e\\u5927\\u76d8\\u7ee7\\u7eed\\u9707\\u8361\\u4e0b\\u632b \\u521b\\u4e1a\\u677f\\u6307\\u8dcc\\u8fd12%',\n",
        " u'\\u4e2d\\u5174\\u5546\\u4e1a\\u80a1\\u4ef7\\u9ad8\\u53f0\\u8df3\\u6c34 \\u518d\\u906d\\u653e\\u91cf\\u8dcc\\u505c',\n",
        " u'\\u623f\\u5730\\u4ea74\\u6708\\u62a5\\uff1a\\u8d44\\u91d1\\u6765\\u6e90\\u7d27\\u5f20 \\u653f\\u7b56\\u5fae\\u523a\\u6fc0\\u9891\\u7e41',\n",
        " u'\\u201c\\u7164\\u98de\\u8272\\u821e\\u201d\\u96be\\u6301\\u7eed \\u954d\\u4ef7\\u4ecd\\u6709\\u51b2\\u9ad8\\u673a\\u4f1a',\n",
        " u'\\u4e0a\\u5e02\\u94f6\\u884c\\u9ad8\\u7ba1\\u9996\\u6b21\\u96c6\\u4f53\\u8d2d\\u5165\\u81ea\\u5bb6\\u80a1\\u7968',\n",
        " u'\\u53d7MH370\\u91cd\\u521b \\u9a6c\\u822aQ1\\u4e8f\\u635f1.378\\u4ebf\\u7f8e\\u5143',\n",
        " u'\\u57fa\\u91d1\\uff1a\\u8fdc\\u79bb\\u94a2\\u94c1\\u7164\\u70ad \\u9002\\u5f53\\u52a0\\u4ed3\\u94c1\\u8def\\u80a1',\n",
        " u'\\u5f71\\u5b50\\u94f6\\u884c\\u4f1a\\u8d2f\\u7a7f\\u4e2d\\u56fd\\u5229\\u7387\\u5e02\\u573a\\u5316\\u7684\\u5168\\u7a0b',\n",
        " u'\\u534e\\u7535\\u91cd\\u5de5IPO\\u96be\\u8eb2\\u4e1a\\u7ee9\\u5927\\u6740\\u5668',\n",
        " u'578\\u53ea\\u4e2a\\u80a1\\u9006\\u5e02\\u5438\\u91d156\\u4ebf\\u5143 \\u519b\\u5de5\\u7b493\\u884c\\u4e1a\\u915d\\u917f\\u65b0\\u70ed\\u70b9',\n",
        " u'\\u5e7f\\u897f\\u6d77\\u4e0a\\u4e1d\\u7ef8\\u4e4b\\u8def\\u91cd\\u70b9\\u63a8\\u8fdb8\\u5927\\u4ea7\\u4e1a\\u5408\\u4f5c',\n",
        " u'\\u5341\\u5927\\u673a\\u6784\\u9884\\u6d4b\\u5927\\u52bf\\uff1a2050\\u70b9\\u538b\\u529b\\u91cd\\u91cd',\n",
        " u'\\u9686\\u5e73\\u9ad8\\u79d1\\u590d\\u724c\\u5927\\u6da8 \\u5927\\u80a1\\u4e1c\\u62df\\u6536\\u8d2d\\u5965\\u745e\\u91d1\\u79cd\\u4e1a',\n",
        " u'\\u957f\\u57ce\\u6c7d\\u8f66\\u906d\\u9047\\u5347\\u7ea7\\u9635\\u75db \\u54c8\\u5f17H8\\u547d\\u8fd0\\u591a\\u821b',\n",
        " u'\\u4e92\\u8054\\u7f51\\u5de8\\u5934\\u7eb7\\u7eb7\\u5e03\\u5c40\\u8f66\\u8054\\u7f51 \\u6982\\u5ff5\\u80a1\\u201c\\u524d\\u9014\\u65e0\\u91cf\\u201d',\n",
        " u'\\u80a1\\u6307\\u5f31\\u52bf\\u9707\\u8361 \\u667a\\u80fd\\u7a7f\\u6234\\u9886\\u8dcc',\n",
        " u'\\u5982\\u4f55\\u4ece\\u51f6\\u731b\\u629b\\u5355\\u7ec6\\u8282\\u4e2d\\u53d1\\u73b0\\u4e3b\\u529b\\u4f0e\\u4fe9',\n",
        " u'\\u5238\\u5546\\u80fd\\u6e90\\u7b49\\u6743\\u91cd\\u80a1\\u7838\\u76d8 \\u6caa\\u6307\\u6536\\u8dcc1.12%',\n",
        " u'\\u91d1\\u6b63\\u5927\\uff1a\\u80a1\\u6743\\u6fc0\\u52b1\\u5f70\\u663e\\u7ba1\\u7406\\u5c42\\u4fe1\\u5fc3 \\u52a9\\u63a8\\u672a\\u6765\\u9ad8\\u589e\\u957f',\n",
        " u'\\u671f\\u6307\\u73b0\\u7384\\u673a\\uff1a\\u591a\\u5934\\u4ea4\\u5272\\u65e5\\u524d\\u589e\\u4ed3\\u53cd\\u8d85\\u7a7a\\u5934',\n",
        " u'\\u521b\\u4e1a\\u677f\\u6307\\u4e00\\u5ea6\\u8dcc\\u903e3% \\u6cf0\\u80dc\\u98ce\\u80fd\\u7b493\\u80a1\\u8dcc\\u505c',\n",
        " u'\\u66b4\\u98ce\\u9aa4\\u96e8\\u6740\\u8dcc\\u540e \\u9759\\u5f85\\u4e8c\\u6b21\\u4e70\\u70b9\\u4fe1\\u53f7',\n",
        " u'\\u516d\\u7c7b\\u673a\\u6784\\u770b\\u6cd5\\u5206\\u6b67 \\u673a\\u68b0\\u533b\\u836f\\u8ba4\\u540c\\u5ea6\\u9ad8',\n",
        " u'\\u4e24\\u5229\\u597d\\u6fc0\\u6d3b\\u822a\\u5929\\u519b\\u5de5\\u80a1 \\u56db\\u5927\\u7ec6\\u5206\\u9886\\u57df\\u6216\\u8fce\\u5347\\u673a',\n",
        " u'\\u6b27\\u5143\\u533a\\u4e00\\u5b63\\u5ea6\\u7ecf\\u6d4e\\u589e\\u957f\\u4e0d\\u5c3d\\u4eba\\u610f',\n",
        " u'\\u4e2d\\u91d1\\u516c\\u53f8\\uff1aA\\u80a1\\u5982\\u52a0\\u5165MSCI \\u56db\\u7c7b\\u80a1\\u5c06\\u53d7\\u76ca',\n",
        " u'\\u5238\\u5546\\u80a1\\u5168\\u7ebf\\u98d8\\u7eff \\u56fd\\u5143\\u8bc1\\u5238\\u9886\\u8dcc',\n",
        " u'\\u5e02\\u573a\\u60c5\\u7eea\\u4f9d\\u65e7\\u4f4e\\u8ff7 \\u671f\\u6307\\u4ea4\\u5272\\u524d\\u5915\\u518d\\u4e0b\\u632b',\n",
        " u'\\u65b0\\u201c\\u56fd\\u4e5d\\u6761\\u201d\\u7684\\u6838\\u5fc3\\u662f\\u79ef\\u6781\\u7a33\\u59a5\\u63a8\\u52a8\\u6ce8\\u518c\\u5236\\u6539\\u9769',\n",
        " u'\\u91d1\\u4ef7\\u5468\\u4e09\\u6da80.9% \\u91cd\\u56de1300\\u7f8e\\u5143\\u4e0a\\u65b9',\n",
        " u'\\u5468\\u7d2f\\u79ef\\u6362\\u624b\\u7387\\u524d\\u4e8c\\u5341\\u53ea\\u4e2a\\u80a1\\u5e02\\u573a\\u8868\\u73b0(\\u622a\\u6b625.15)',\n",
        " u'\\u9707\\u8361\\u5e02\\u4e2d\\u5173\\u6ce8\\u54ea\\u4e9b\\u5c0f\\u76d8\\u80a1\\u7684\\u673a\\u4f1a\\uff1f',\n",
        " u'\\u53cd\\u590d\\u6298\\u817e\\u662f\\u4e3a\\u4e86\\u8ba9\\u5e95\\u90e8\\u66f4\\u52a0\\u624e\\u5b9e',\n",
        " u'\\u4e2d\\u91d1\\uff1a\\u667a\\u80fd\\u5de5\\u5382\\u9886\\u57df\\u6216\\u5b55\\u80b2\\u8d85\\u7ea7\\u516c\\u53f8 \\u83504\\u80a1',\n",
        " u'\\u5f20\\u88d5B\\u88ab\\u5254\\u9664MSCI\\u4e2d\\u56fd\\u6307\\u6570']"
       ]
      }
     ],
     "prompt_number": 274
    },
    {
     "cell_type": "code",
     "collapsed": false,
     "input": [
      "hash_int.distance( simhash.Simhash(16984474708400660144))"
     ],
     "language": "python",
     "metadata": {},
     "outputs": [
      {
       "metadata": {},
       "output_type": "pyout",
       "prompt_number": 252,
       "text": [
        "11"
       ]
      }
     ],
     "prompt_number": 252
    },
    {
     "cell_type": "code",
     "collapsed": false,
     "input": [
      "bu.bucket_size()"
     ],
     "language": "python",
     "metadata": {},
     "outputs": [
      {
       "metadata": {},
       "output_type": "pyout",
       "prompt_number": 267,
       "text": [
        "1532"
       ]
      }
     ],
     "prompt_number": 267
    }
   ],
   "metadata": {}
  }
 ]
}